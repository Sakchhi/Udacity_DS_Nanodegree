{
 "cells": [
  {
   "cell_type": "markdown",
   "metadata": {},
   "source": [
    "# State of Data Science"
   ]
  },
  {
   "cell_type": "markdown",
   "metadata": {},
   "source": [
    "### Business Understanding\n",
    "Using Kaggle DS-ML Survey dataset, I will explore the following questions:\n",
    "1. Explore how levels of education and majors vary in across countries, esp US and India\n",
    "2. What is the most common education level and how it relates to years of experience?\n",
    "3. What are the most common job responsibilites for each job role in India?\n",
    "4. How does salary vary with the roles and responsibilites?"
   ]
  },
  {
   "cell_type": "code",
   "execution_count": 1,
   "metadata": {},
   "outputs": [],
   "source": [
    "import pandas as pd\n",
    "import seaborn as sns\n",
    "import matplotlib.pyplot as plt\n",
    "%matplotlib inline\n",
    "sns.set(style=\"darkgrid\")"
   ]
  },
  {
   "cell_type": "markdown",
   "metadata": {},
   "source": [
    "### Data Understanding"
   ]
  },
  {
   "cell_type": "markdown",
   "metadata": {},
   "source": [
    "First row contains question numbers for each question, so skipping that as we only need question text as column headers"
   ]
  },
  {
   "cell_type": "code",
   "execution_count": 2,
   "metadata": {},
   "outputs": [
    {
     "name": "stderr",
     "output_type": "stream",
     "text": [
      "C:\\Users\\DKIN\\Anaconda3\\lib\\site-packages\\IPython\\core\\interactiveshell.py:3058: DtypeWarning: Columns (157,172,174,210,218,219,246,368,371,384,389,390,391,393) have mixed types. Specify dtype option on import or set low_memory=False.\n",
      "  interactivity=interactivity, compiler=compiler, result=result)\n"
     ]
    }
   ],
   "source": [
    "df = pd.read_csv('multipleChoiceResponses.csv', skiprows=1)"
   ]
  },
  {
   "cell_type": "code",
   "execution_count": 3,
   "metadata": {
    "collapsed": true
   },
   "outputs": [
    {
     "data": {
      "text/html": [
       "<div>\n",
       "<style scoped>\n",
       "    .dataframe tbody tr th:only-of-type {\n",
       "        vertical-align: middle;\n",
       "    }\n",
       "\n",
       "    .dataframe tbody tr th {\n",
       "        vertical-align: top;\n",
       "    }\n",
       "\n",
       "    .dataframe thead th {\n",
       "        text-align: right;\n",
       "    }\n",
       "</style>\n",
       "<table border=\"1\" class=\"dataframe\">\n",
       "  <thead>\n",
       "    <tr style=\"text-align: right;\">\n",
       "      <th></th>\n",
       "      <th>0</th>\n",
       "      <th>1</th>\n",
       "      <th>2</th>\n",
       "      <th>3</th>\n",
       "      <th>4</th>\n",
       "    </tr>\n",
       "  </thead>\n",
       "  <tbody>\n",
       "    <tr>\n",
       "      <td>Duration (in seconds)</td>\n",
       "      <td>710</td>\n",
       "      <td>434</td>\n",
       "      <td>718</td>\n",
       "      <td>621</td>\n",
       "      <td>731</td>\n",
       "    </tr>\n",
       "    <tr>\n",
       "      <td>What is your gender? - Selected Choice</td>\n",
       "      <td>Female</td>\n",
       "      <td>Male</td>\n",
       "      <td>Female</td>\n",
       "      <td>Male</td>\n",
       "      <td>Male</td>\n",
       "    </tr>\n",
       "    <tr>\n",
       "      <td>What is your gender? - Prefer to self-describe - Text</td>\n",
       "      <td>-1</td>\n",
       "      <td>-1</td>\n",
       "      <td>-1</td>\n",
       "      <td>-1</td>\n",
       "      <td>-1</td>\n",
       "    </tr>\n",
       "    <tr>\n",
       "      <td>What is your age (# years)?</td>\n",
       "      <td>45-49</td>\n",
       "      <td>30-34</td>\n",
       "      <td>30-34</td>\n",
       "      <td>35-39</td>\n",
       "      <td>22-24</td>\n",
       "    </tr>\n",
       "    <tr>\n",
       "      <td>In which country do you currently reside?</td>\n",
       "      <td>United States of America</td>\n",
       "      <td>Indonesia</td>\n",
       "      <td>United States of America</td>\n",
       "      <td>United States of America</td>\n",
       "      <td>India</td>\n",
       "    </tr>\n",
       "    <tr>\n",
       "      <td>...</td>\n",
       "      <td>...</td>\n",
       "      <td>...</td>\n",
       "      <td>...</td>\n",
       "      <td>...</td>\n",
       "      <td>...</td>\n",
       "    </tr>\n",
       "    <tr>\n",
       "      <td>What barriers prevent you from making your work even easier to reuse and reproduce? (Select all that apply) - Selected Choice - Not enough incentives to share my work</td>\n",
       "      <td>NaN</td>\n",
       "      <td>NaN</td>\n",
       "      <td>NaN</td>\n",
       "      <td>Not enough incentives to share my work</td>\n",
       "      <td>Not enough incentives to share my work</td>\n",
       "    </tr>\n",
       "    <tr>\n",
       "      <td>What barriers prevent you from making your work even easier to reuse and reproduce? (Select all that apply) - Selected Choice - I had never considered making my work easier for others to reproduce</td>\n",
       "      <td>NaN</td>\n",
       "      <td>NaN</td>\n",
       "      <td>NaN</td>\n",
       "      <td>NaN</td>\n",
       "      <td>NaN</td>\n",
       "    </tr>\n",
       "    <tr>\n",
       "      <td>What barriers prevent you from making your work even easier to reuse and reproduce? (Select all that apply) - Selected Choice - None of these reasons apply to me</td>\n",
       "      <td>NaN</td>\n",
       "      <td>NaN</td>\n",
       "      <td>NaN</td>\n",
       "      <td>NaN</td>\n",
       "      <td>NaN</td>\n",
       "    </tr>\n",
       "    <tr>\n",
       "      <td>What barriers prevent you from making your work even easier to reuse and reproduce? (Select all that apply) - Selected Choice - Other</td>\n",
       "      <td>NaN</td>\n",
       "      <td>NaN</td>\n",
       "      <td>NaN</td>\n",
       "      <td>NaN</td>\n",
       "      <td>NaN</td>\n",
       "    </tr>\n",
       "    <tr>\n",
       "      <td>What barriers prevent you from making your work even easier to reuse and reproduce? (Select all that apply) - Other - Text</td>\n",
       "      <td>-1</td>\n",
       "      <td>-1</td>\n",
       "      <td>-1</td>\n",
       "      <td>-1</td>\n",
       "      <td>-1</td>\n",
       "    </tr>\n",
       "  </tbody>\n",
       "</table>\n",
       "<p>395 rows × 5 columns</p>\n",
       "</div>"
      ],
      "text/plain": [
       "                                                                           0  \\\n",
       "Duration (in seconds)                                                    710   \n",
       "What is your gender? - Selected Choice                                Female   \n",
       "What is your gender? - Prefer to self-describe ...                        -1   \n",
       "What is your age (# years)?                                            45-49   \n",
       "In which country do you currently reside?           United States of America   \n",
       "...                                                                      ...   \n",
       "What barriers prevent you from making your work...                       NaN   \n",
       "What barriers prevent you from making your work...                       NaN   \n",
       "What barriers prevent you from making your work...                       NaN   \n",
       "What barriers prevent you from making your work...                       NaN   \n",
       "What barriers prevent you from making your work...                        -1   \n",
       "\n",
       "                                                            1  \\\n",
       "Duration (in seconds)                                     434   \n",
       "What is your gender? - Selected Choice                   Male   \n",
       "What is your gender? - Prefer to self-describe ...         -1   \n",
       "What is your age (# years)?                             30-34   \n",
       "In which country do you currently reside?           Indonesia   \n",
       "...                                                       ...   \n",
       "What barriers prevent you from making your work...        NaN   \n",
       "What barriers prevent you from making your work...        NaN   \n",
       "What barriers prevent you from making your work...        NaN   \n",
       "What barriers prevent you from making your work...        NaN   \n",
       "What barriers prevent you from making your work...         -1   \n",
       "\n",
       "                                                                           2  \\\n",
       "Duration (in seconds)                                                    718   \n",
       "What is your gender? - Selected Choice                                Female   \n",
       "What is your gender? - Prefer to self-describe ...                        -1   \n",
       "What is your age (# years)?                                            30-34   \n",
       "In which country do you currently reside?           United States of America   \n",
       "...                                                                      ...   \n",
       "What barriers prevent you from making your work...                       NaN   \n",
       "What barriers prevent you from making your work...                       NaN   \n",
       "What barriers prevent you from making your work...                       NaN   \n",
       "What barriers prevent you from making your work...                       NaN   \n",
       "What barriers prevent you from making your work...                        -1   \n",
       "\n",
       "                                                                                         3  \\\n",
       "Duration (in seconds)                                                                  621   \n",
       "What is your gender? - Selected Choice                                                Male   \n",
       "What is your gender? - Prefer to self-describe ...                                      -1   \n",
       "What is your age (# years)?                                                          35-39   \n",
       "In which country do you currently reside?                         United States of America   \n",
       "...                                                                                    ...   \n",
       "What barriers prevent you from making your work...  Not enough incentives to share my work   \n",
       "What barriers prevent you from making your work...                                     NaN   \n",
       "What barriers prevent you from making your work...                                     NaN   \n",
       "What barriers prevent you from making your work...                                     NaN   \n",
       "What barriers prevent you from making your work...                                      -1   \n",
       "\n",
       "                                                                                         4  \n",
       "Duration (in seconds)                                                                  731  \n",
       "What is your gender? - Selected Choice                                                Male  \n",
       "What is your gender? - Prefer to self-describe ...                                      -1  \n",
       "What is your age (# years)?                                                          22-24  \n",
       "In which country do you currently reside?                                            India  \n",
       "...                                                                                    ...  \n",
       "What barriers prevent you from making your work...  Not enough incentives to share my work  \n",
       "What barriers prevent you from making your work...                                     NaN  \n",
       "What barriers prevent you from making your work...                                     NaN  \n",
       "What barriers prevent you from making your work...                                     NaN  \n",
       "What barriers prevent you from making your work...                                      -1  \n",
       "\n",
       "[395 rows x 5 columns]"
      ]
     },
     "execution_count": 3,
     "metadata": {},
     "output_type": "execute_result"
    }
   ],
   "source": [
    "df.head().T"
   ]
  },
  {
   "cell_type": "code",
   "execution_count": 4,
   "metadata": {
    "collapsed": true
   },
   "outputs": [
    {
     "data": {
      "text/plain": [
       "['Duration (in seconds)',\n",
       " 'What is your gender? - Selected Choice',\n",
       " 'What is your gender? - Prefer to self-describe - Text',\n",
       " 'What is your age (# years)?',\n",
       " 'In which country do you currently reside?',\n",
       " 'What is the highest level of formal education that you have attained or plan to attain within the next 2 years?',\n",
       " 'Which best describes your undergraduate major? - Selected Choice',\n",
       " 'Select the title most similar to your current role (or most recent title if retired): - Selected Choice',\n",
       " 'Select the title most similar to your current role (or most recent title if retired): - Other - Text',\n",
       " 'In what industry is your current employer/contract (or your most recent employer if retired)? - Selected Choice',\n",
       " 'In what industry is your current employer/contract (or your most recent employer if retired)? - Other - Text',\n",
       " 'How many years of experience do you have in your current role?',\n",
       " 'What is your current yearly compensation (approximate $USD)?',\n",
       " 'Does your current employer incorporate machine learning methods into their business?',\n",
       " 'Select any activities that make up an important part of your role at work: (Select all that apply) - Selected Choice - Analyze and understand data to influence product or business decisions',\n",
       " 'Select any activities that make up an important part of your role at work: (Select all that apply) - Selected Choice - Build and/or run a machine learning service that operationally improves my product or workflows',\n",
       " 'Select any activities that make up an important part of your role at work: (Select all that apply) - Selected Choice - Build and/or run the data infrastructure that my business uses for storing, analyzing, and operationalizing data',\n",
       " 'Select any activities that make up an important part of your role at work: (Select all that apply) - Selected Choice - Build prototypes to explore applying machine learning to new areas',\n",
       " 'Select any activities that make up an important part of your role at work: (Select all that apply) - Selected Choice - Do research that advances the state of the art of machine learning',\n",
       " 'Select any activities that make up an important part of your role at work: (Select all that apply) - Selected Choice - None of these activities are an important part of my role at work',\n",
       " 'Select any activities that make up an important part of your role at work: (Select all that apply) - Selected Choice - Other',\n",
       " 'Select any activities that make up an important part of your role at work: (Select all that apply) - Other - Text',\n",
       " 'What is the primary tool that you use at work or school to analyze data? (include text response) - Selected Choice',\n",
       " 'What is the primary tool that you use at work or school to analyze data? (include text response) - Basic statistical software (Microsoft Excel, Google Sheets, etc.) - Text',\n",
       " 'What is the primary tool that you use at work or school to analyze data? (include text response) - Advanced statistical software (SPSS, SAS, etc.) - Text',\n",
       " 'What is the primary tool that you use at work or school to analyze data? (include text response) - Business intelligence software (Salesforce, Tableau, Spotfire, etc.) - Text',\n",
       " 'What is the primary tool that you use at work or school to analyze data? (include text response) - Local or hosted development environments (RStudio, JupyterLab, etc.) - Text',\n",
       " 'What is the primary tool that you use at work or school to analyze data? (include text response) - Cloud-based data software & APIs (AWS, GCP, Azure, etc.) - Text',\n",
       " 'What is the primary tool that you use at work or school to analyze data? (include text response) - Other - Text',\n",
       " \"Which of the following integrated development environments (IDE's) have you used at work or school in the last 5 years? (Select all that apply) - Selected Choice - Jupyter/IPython\",\n",
       " \"Which of the following integrated development environments (IDE's) have you used at work or school in the last 5 years? (Select all that apply) - Selected Choice - RStudio\",\n",
       " \"Which of the following integrated development environments (IDE's) have you used at work or school in the last 5 years? (Select all that apply) - Selected Choice - PyCharm\",\n",
       " \"Which of the following integrated development environments (IDE's) have you used at work or school in the last 5 years? (Select all that apply) - Selected Choice - Visual Studio Code\",\n",
       " \"Which of the following integrated development environments (IDE's) have you used at work or school in the last 5 years? (Select all that apply) - Selected Choice - nteract\",\n",
       " \"Which of the following integrated development environments (IDE's) have you used at work or school in the last 5 years? (Select all that apply) - Selected Choice - Atom\",\n",
       " \"Which of the following integrated development environments (IDE's) have you used at work or school in the last 5 years? (Select all that apply) - Selected Choice - MATLAB\",\n",
       " \"Which of the following integrated development environments (IDE's) have you used at work or school in the last 5 years? (Select all that apply) - Selected Choice - Visual Studio\",\n",
       " \"Which of the following integrated development environments (IDE's) have you used at work or school in the last 5 years? (Select all that apply) - Selected Choice - Notepad++\",\n",
       " \"Which of the following integrated development environments (IDE's) have you used at work or school in the last 5 years? (Select all that apply) - Selected Choice - Sublime Text\",\n",
       " \"Which of the following integrated development environments (IDE's) have you used at work or school in the last 5 years? (Select all that apply) - Selected Choice - Vim\",\n",
       " \"Which of the following integrated development environments (IDE's) have you used at work or school in the last 5 years? (Select all that apply) - Selected Choice - IntelliJ\",\n",
       " \"Which of the following integrated development environments (IDE's) have you used at work or school in the last 5 years? (Select all that apply) - Selected Choice - Spyder\",\n",
       " \"Which of the following integrated development environments (IDE's) have you used at work or school in the last 5 years? (Select all that apply) - Selected Choice - None\",\n",
       " \"Which of the following integrated development environments (IDE's) have you used at work or school in the last 5 years? (Select all that apply) - Selected Choice - Other\",\n",
       " \"Which of the following integrated development environments (IDE's) have you used at work or school in the last 5 years? (Select all that apply) - Other - Text\",\n",
       " 'Which of the following hosted notebooks have you used at work or school in the last 5 years? (Select all that apply) - Selected Choice - Kaggle Kernels',\n",
       " 'Which of the following hosted notebooks have you used at work or school in the last 5 years? (Select all that apply) - Selected Choice - Google Colab',\n",
       " 'Which of the following hosted notebooks have you used at work or school in the last 5 years? (Select all that apply) - Selected Choice - Azure Notebook',\n",
       " 'Which of the following hosted notebooks have you used at work or school in the last 5 years? (Select all that apply) - Selected Choice - Domino Datalab',\n",
       " 'Which of the following hosted notebooks have you used at work or school in the last 5 years? (Select all that apply) - Selected Choice - Google Cloud Datalab',\n",
       " 'Which of the following hosted notebooks have you used at work or school in the last 5 years? (Select all that apply) - Selected Choice - Paperspace',\n",
       " 'Which of the following hosted notebooks have you used at work or school in the last 5 years? (Select all that apply) - Selected Choice - Floydhub',\n",
       " 'Which of the following hosted notebooks have you used at work or school in the last 5 years? (Select all that apply) - Selected Choice - Crestle',\n",
       " 'Which of the following hosted notebooks have you used at work or school in the last 5 years? (Select all that apply) - Selected Choice - JupyterHub/Binder',\n",
       " 'Which of the following hosted notebooks have you used at work or school in the last 5 years? (Select all that apply) - Selected Choice - None',\n",
       " 'Which of the following hosted notebooks have you used at work or school in the last 5 years? (Select all that apply) - Selected Choice - Other',\n",
       " 'Which of the following hosted notebooks have you used at work or school in the last 5 years? (Select all that apply) - Other - Text',\n",
       " 'Which of the following cloud computing services have you used at work or school in the last 5 years? (Select all that apply) - Selected Choice - Google Cloud Platform (GCP)',\n",
       " 'Which of the following cloud computing services have you used at work or school in the last 5 years? (Select all that apply) - Selected Choice - Amazon Web Services (AWS)',\n",
       " 'Which of the following cloud computing services have you used at work or school in the last 5 years? (Select all that apply) - Selected Choice - Microsoft Azure',\n",
       " 'Which of the following cloud computing services have you used at work or school in the last 5 years? (Select all that apply) - Selected Choice - IBM Cloud',\n",
       " 'Which of the following cloud computing services have you used at work or school in the last 5 years? (Select all that apply) - Selected Choice - Alibaba Cloud',\n",
       " 'Which of the following cloud computing services have you used at work or school in the last 5 years? (Select all that apply) - Selected Choice - I have not used any cloud providers',\n",
       " 'Which of the following cloud computing services have you used at work or school in the last 5 years? (Select all that apply) - Selected Choice - Other',\n",
       " 'Which of the following cloud computing services have you used at work or school in the last 5 years? (Select all that apply) - Other - Text',\n",
       " 'What programming languages do you use on a regular basis? (Select all that apply) - Selected Choice - Python',\n",
       " 'What programming languages do you use on a regular basis? (Select all that apply) - Selected Choice - R',\n",
       " 'What programming languages do you use on a regular basis? (Select all that apply) - Selected Choice - SQL',\n",
       " 'What programming languages do you use on a regular basis? (Select all that apply) - Selected Choice - Bash',\n",
       " 'What programming languages do you use on a regular basis? (Select all that apply) - Selected Choice - Java',\n",
       " 'What programming languages do you use on a regular basis? (Select all that apply) - Selected Choice - Javascript/Typescript',\n",
       " 'What programming languages do you use on a regular basis? (Select all that apply) - Selected Choice - Visual Basic/VBA',\n",
       " 'What programming languages do you use on a regular basis? (Select all that apply) - Selected Choice - C/C++',\n",
       " 'What programming languages do you use on a regular basis? (Select all that apply) - Selected Choice - MATLAB',\n",
       " 'What programming languages do you use on a regular basis? (Select all that apply) - Selected Choice - Scala',\n",
       " 'What programming languages do you use on a regular basis? (Select all that apply) - Selected Choice - Julia',\n",
       " 'What programming languages do you use on a regular basis? (Select all that apply) - Selected Choice - Go',\n",
       " 'What programming languages do you use on a regular basis? (Select all that apply) - Selected Choice - C#/.NET',\n",
       " 'What programming languages do you use on a regular basis? (Select all that apply) - Selected Choice - PHP',\n",
       " 'What programming languages do you use on a regular basis? (Select all that apply) - Selected Choice - Ruby',\n",
       " 'What programming languages do you use on a regular basis? (Select all that apply) - Selected Choice - SAS/STATA',\n",
       " 'What programming languages do you use on a regular basis? (Select all that apply) - Selected Choice - None',\n",
       " 'What programming languages do you use on a regular basis? (Select all that apply) - Selected Choice - Other',\n",
       " 'What programming languages do you use on a regular basis? (Select all that apply) - Other - Text',\n",
       " 'What specific programming language do you use most often? - Selected Choice',\n",
       " 'What specific programming language do you use most often? - Other - Text',\n",
       " 'What programming language would you recommend an aspiring data scientist to learn first? - Selected Choice',\n",
       " 'What programming language would you recommend an aspiring data scientist to learn first? - Other - Text',\n",
       " 'What machine learning frameworks have you used in the past 5 years? (Select all that apply) - Selected Choice - Scikit-Learn',\n",
       " 'What machine learning frameworks have you used in the past 5 years? (Select all that apply) - Selected Choice - TensorFlow',\n",
       " 'What machine learning frameworks have you used in the past 5 years? (Select all that apply) - Selected Choice - Keras',\n",
       " 'What machine learning frameworks have you used in the past 5 years? (Select all that apply) - Selected Choice - PyTorch',\n",
       " 'What machine learning frameworks have you used in the past 5 years? (Select all that apply) - Selected Choice - Spark MLlib',\n",
       " 'What machine learning frameworks have you used in the past 5 years? (Select all that apply) - Selected Choice - H20',\n",
       " 'What machine learning frameworks have you used in the past 5 years? (Select all that apply) - Selected Choice - Fastai',\n",
       " 'What machine learning frameworks have you used in the past 5 years? (Select all that apply) - Selected Choice - Mxnet',\n",
       " 'What machine learning frameworks have you used in the past 5 years? (Select all that apply) - Selected Choice - Caret',\n",
       " 'What machine learning frameworks have you used in the past 5 years? (Select all that apply) - Selected Choice - Xgboost',\n",
       " 'What machine learning frameworks have you used in the past 5 years? (Select all that apply) - Selected Choice - mlr',\n",
       " 'What machine learning frameworks have you used in the past 5 years? (Select all that apply) - Selected Choice - Prophet',\n",
       " 'What machine learning frameworks have you used in the past 5 years? (Select all that apply) - Selected Choice - randomForest',\n",
       " 'What machine learning frameworks have you used in the past 5 years? (Select all that apply) - Selected Choice - lightgbm',\n",
       " 'What machine learning frameworks have you used in the past 5 years? (Select all that apply) - Selected Choice - catboost',\n",
       " 'What machine learning frameworks have you used in the past 5 years? (Select all that apply) - Selected Choice - CNTK',\n",
       " 'What machine learning frameworks have you used in the past 5 years? (Select all that apply) - Selected Choice - Caffe',\n",
       " 'What machine learning frameworks have you used in the past 5 years? (Select all that apply) - Selected Choice - None',\n",
       " 'What machine learning frameworks have you used in the past 5 years? (Select all that apply) - Selected Choice - Other',\n",
       " 'What machine learning frameworks have you used in the past 5 years? (Select all that apply) - Other - Text',\n",
       " 'Of the choices that you selected in the previous question, which ML library have you used the most? - Selected Choice',\n",
       " 'Of the choices that you selected in the previous question, which ML library have you used the most? - Other - Text',\n",
       " 'What data visualization libraries or tools have you used in the past 5 years? (Select all that apply) - Selected Choice - ggplot2',\n",
       " 'What data visualization libraries or tools have you used in the past 5 years? (Select all that apply) - Selected Choice - Matplotlib',\n",
       " 'What data visualization libraries or tools have you used in the past 5 years? (Select all that apply) - Selected Choice - Altair',\n",
       " 'What data visualization libraries or tools have you used in the past 5 years? (Select all that apply) - Selected Choice - Shiny',\n",
       " 'What data visualization libraries or tools have you used in the past 5 years? (Select all that apply) - Selected Choice - D3',\n",
       " 'What data visualization libraries or tools have you used in the past 5 years? (Select all that apply) - Selected Choice - Plotly',\n",
       " 'What data visualization libraries or tools have you used in the past 5 years? (Select all that apply) - Selected Choice - Bokeh',\n",
       " 'What data visualization libraries or tools have you used in the past 5 years? (Select all that apply) - Selected Choice - Seaborn',\n",
       " 'What data visualization libraries or tools have you used in the past 5 years? (Select all that apply) - Selected Choice - Geoplotlib',\n",
       " 'What data visualization libraries or tools have you used in the past 5 years? (Select all that apply) - Selected Choice - Leaflet',\n",
       " 'What data visualization libraries or tools have you used in the past 5 years? (Select all that apply) - Selected Choice - Lattice',\n",
       " 'What data visualization libraries or tools have you used in the past 5 years? (Select all that apply) - Selected Choice - None',\n",
       " 'What data visualization libraries or tools have you used in the past 5 years? (Select all that apply) - Selected Choice - Other',\n",
       " 'What data visualization libraries or tools have you used in the past 5 years? (Select all that apply) - Other - Text',\n",
       " 'Of the choices that you selected in the previous question, which specific data visualization library or tool have you used the most? - Selected Choice',\n",
       " 'Of the choices that you selected in the previous question, which specific data visualization library or tool have you used the most? - Other - Text',\n",
       " 'Approximately what percent of your time at work or school is spent actively coding?',\n",
       " 'How long have you been writing code to analyze data?',\n",
       " 'For how many years have you used machine learning methods (at work or in school)?',\n",
       " 'Do you consider yourself to be a data scientist?',\n",
       " 'Which of the following cloud computing products have you used at work or school in the last 5 years (Select all that apply)? - Selected Choice - AWS Elastic Compute Cloud (EC2)',\n",
       " 'Which of the following cloud computing products have you used at work or school in the last 5 years (Select all that apply)? - Selected Choice - Google Compute Engine',\n",
       " 'Which of the following cloud computing products have you used at work or school in the last 5 years (Select all that apply)? - Selected Choice - AWS Elastic Beanstalk',\n",
       " 'Which of the following cloud computing products have you used at work or school in the last 5 years (Select all that apply)? - Selected Choice - Google App Engine',\n",
       " 'Which of the following cloud computing products have you used at work or school in the last 5 years (Select all that apply)? - Selected Choice - Google Kubernetes Engine',\n",
       " 'Which of the following cloud computing products have you used at work or school in the last 5 years (Select all that apply)? - Selected Choice - AWS Lambda',\n",
       " 'Which of the following cloud computing products have you used at work or school in the last 5 years (Select all that apply)? - Selected Choice - Google Cloud Functions',\n",
       " 'Which of the following cloud computing products have you used at work or school in the last 5 years (Select all that apply)? - Selected Choice - AWS Batch',\n",
       " 'Which of the following cloud computing products have you used at work or school in the last 5 years (Select all that apply)? - Selected Choice - Azure Virtual Machines',\n",
       " 'Which of the following cloud computing products have you used at work or school in the last 5 years (Select all that apply)? - Selected Choice - Azure Container Service',\n",
       " 'Which of the following cloud computing products have you used at work or school in the last 5 years (Select all that apply)? - Selected Choice - Azure Functions',\n",
       " 'Which of the following cloud computing products have you used at work or school in the last 5 years (Select all that apply)? - Selected Choice - Azure Event Grid',\n",
       " 'Which of the following cloud computing products have you used at work or school in the last 5 years (Select all that apply)? - Selected Choice - Azure Batch',\n",
       " 'Which of the following cloud computing products have you used at work or school in the last 5 years (Select all that apply)? - Selected Choice - Azure Kubernetes Service',\n",
       " 'Which of the following cloud computing products have you used at work or school in the last 5 years (Select all that apply)? - Selected Choice - IBM Cloud Virtual Servers',\n",
       " 'Which of the following cloud computing products have you used at work or school in the last 5 years (Select all that apply)? - Selected Choice - IBM Cloud Container Registry',\n",
       " 'Which of the following cloud computing products have you used at work or school in the last 5 years (Select all that apply)? - Selected Choice - IBM Cloud Kubernetes Service',\n",
       " 'Which of the following cloud computing products have you used at work or school in the last 5 years (Select all that apply)? - Selected Choice - IBM Cloud Foundry',\n",
       " 'Which of the following cloud computing products have you used at work or school in the last 5 years (Select all that apply)? - Selected Choice - None',\n",
       " 'Which of the following cloud computing products have you used at work or school in the last 5 years (Select all that apply)? - Selected Choice - Other',\n",
       " 'Which of the following cloud computing products have you used at work or school in the last 5 years (Select all that apply)? - Other - Text',\n",
       " 'Which of the following machine learning products have you used at work or school in the last 5 years? (Select all that apply) - Selected Choice - Amazon Transcribe',\n",
       " 'Which of the following machine learning products have you used at work or school in the last 5 years? (Select all that apply) - Selected Choice - Google Cloud Speech-to-text API',\n",
       " 'Which of the following machine learning products have you used at work or school in the last 5 years? (Select all that apply) - Selected Choice - Amazon Rekognition',\n",
       " 'Which of the following machine learning products have you used at work or school in the last 5 years? (Select all that apply) - Selected Choice - Google Cloud Vision API',\n",
       " 'Which of the following machine learning products have you used at work or school in the last 5 years? (Select all that apply) - Selected Choice - Amazon Comprehend',\n",
       " 'Which of the following machine learning products have you used at work or school in the last 5 years? (Select all that apply) - Selected Choice - Google Cloud Natural Language API',\n",
       " 'Which of the following machine learning products have you used at work or school in the last 5 years? (Select all that apply) - Selected Choice - Amazon Translate',\n",
       " 'Which of the following machine learning products have you used at work or school in the last 5 years? (Select all that apply) - Selected Choice - Google Cloud Translation API',\n",
       " 'Which of the following machine learning products have you used at work or school in the last 5 years? (Select all that apply) - Selected Choice - Amazon Lex',\n",
       " 'Which of the following machine learning products have you used at work or school in the last 5 years? (Select all that apply) - Selected Choice - Google Dialogflow Enterprise Edition',\n",
       " 'Which of the following machine learning products have you used at work or school in the last 5 years? (Select all that apply) - Selected Choice - Amazon Rekognition Video',\n",
       " 'Which of the following machine learning products have you used at work or school in the last 5 years? (Select all that apply) - Selected Choice - Google Cloud Video Intelligence API',\n",
       " 'Which of the following machine learning products have you used at work or school in the last 5 years? (Select all that apply) - Selected Choice - Google Cloud AutoML',\n",
       " 'Which of the following machine learning products have you used at work or school in the last 5 years? (Select all that apply) - Selected Choice - Amazon SageMaker',\n",
       " 'Which of the following machine learning products have you used at work or school in the last 5 years? (Select all that apply) - Selected Choice - Google Cloud Machine Learning Engine',\n",
       " 'Which of the following machine learning products have you used at work or school in the last 5 years? (Select all that apply) - Selected Choice - DataRobot',\n",
       " 'Which of the following machine learning products have you used at work or school in the last 5 years? (Select all that apply) - Selected Choice - H20 Driverless AI',\n",
       " 'Which of the following machine learning products have you used at work or school in the last 5 years? (Select all that apply) - Selected Choice - Domino Datalab',\n",
       " 'Which of the following machine learning products have you used at work or school in the last 5 years? (Select all that apply) - Selected Choice - SAS',\n",
       " 'Which of the following machine learning products have you used at work or school in the last 5 years? (Select all that apply) - Selected Choice - Dataiku',\n",
       " 'Which of the following machine learning products have you used at work or school in the last 5 years? (Select all that apply) - Selected Choice - RapidMiner',\n",
       " 'Which of the following machine learning products have you used at work or school in the last 5 years? (Select all that apply) - Selected Choice - Instabase',\n",
       " 'Which of the following machine learning products have you used at work or school in the last 5 years? (Select all that apply) - Selected Choice - Algorithmia',\n",
       " 'Which of the following machine learning products have you used at work or school in the last 5 years? (Select all that apply) - Selected Choice - Dataversity',\n",
       " 'Which of the following machine learning products have you used at work or school in the last 5 years? (Select all that apply) - Selected Choice - Cloudera',\n",
       " 'Which of the following machine learning products have you used at work or school in the last 5 years? (Select all that apply) - Selected Choice - Azure Machine Learning Studio',\n",
       " 'Which of the following machine learning products have you used at work or school in the last 5 years? (Select all that apply) - Selected Choice - Azure Machine Learning Workbench',\n",
       " 'Which of the following machine learning products have you used at work or school in the last 5 years? (Select all that apply) - Selected Choice - Azure Cortana Intelligence Suite',\n",
       " 'Which of the following machine learning products have you used at work or school in the last 5 years? (Select all that apply) - Selected Choice - Azure Bing Speech API',\n",
       " 'Which of the following machine learning products have you used at work or school in the last 5 years? (Select all that apply) - Selected Choice - Azure Speaker Recognition API',\n",
       " 'Which of the following machine learning products have you used at work or school in the last 5 years? (Select all that apply) - Selected Choice - Azure Computer Vision API',\n",
       " 'Which of the following machine learning products have you used at work or school in the last 5 years? (Select all that apply) - Selected Choice - Azure Face API',\n",
       " 'Which of the following machine learning products have you used at work or school in the last 5 years? (Select all that apply) - Selected Choice - Azure Video API',\n",
       " 'Which of the following machine learning products have you used at work or school in the last 5 years? (Select all that apply) - Selected Choice - IBM Watson Studio',\n",
       " 'Which of the following machine learning products have you used at work or school in the last 5 years? (Select all that apply) - Selected Choice - IBM Watson Knowledge Catalog',\n",
       " 'Which of the following machine learning products have you used at work or school in the last 5 years? (Select all that apply) - Selected Choice - IBM Watson Assistant',\n",
       " 'Which of the following machine learning products have you used at work or school in the last 5 years? (Select all that apply) - Selected Choice - IBM Watson Discovery',\n",
       " 'Which of the following machine learning products have you used at work or school in the last 5 years? (Select all that apply) - Selected Choice - IBM Watson Text to Speech',\n",
       " 'Which of the following machine learning products have you used at work or school in the last 5 years? (Select all that apply) - Selected Choice - IBM Watson Visual Recognition',\n",
       " 'Which of the following machine learning products have you used at work or school in the last 5 years? (Select all that apply) - Selected Choice - IBM Watson Machine Learning',\n",
       " 'Which of the following machine learning products have you used at work or school in the last 5 years? (Select all that apply) - Selected Choice - Azure Cognitive Services',\n",
       " 'Which of the following machine learning products have you used at work or school in the last 5 years? (Select all that apply) - Selected Choice - None',\n",
       " 'Which of the following machine learning products have you used at work or school in the last 5 years? (Select all that apply) - Selected Choice - Other',\n",
       " 'Which of the following machine learning products have you used at work or school in the last 5 years? (Select all that apply) - Other - Text',\n",
       " 'Which of the following relational database products have you used at work or school in the last 5 years? (Select all that apply) - Selected Choice - AWS Relational Database Service',\n",
       " 'Which of the following relational database products have you used at work or school in the last 5 years? (Select all that apply) - Selected Choice - AWS Aurora',\n",
       " 'Which of the following relational database products have you used at work or school in the last 5 years? (Select all that apply) - Selected Choice - Google Cloud SQL',\n",
       " 'Which of the following relational database products have you used at work or school in the last 5 years? (Select all that apply) - Selected Choice - Google Cloud Spanner',\n",
       " 'Which of the following relational database products have you used at work or school in the last 5 years? (Select all that apply) - Selected Choice - AWS DynamoDB',\n",
       " 'Which of the following relational database products have you used at work or school in the last 5 years? (Select all that apply) - Selected Choice - Google Cloud Datastore',\n",
       " 'Which of the following relational database products have you used at work or school in the last 5 years? (Select all that apply) - Selected Choice - Google Cloud Bigtable',\n",
       " 'Which of the following relational database products have you used at work or school in the last 5 years? (Select all that apply) - Selected Choice - AWS SimpleDB',\n",
       " 'Which of the following relational database products have you used at work or school in the last 5 years? (Select all that apply) - Selected Choice - Microsoft SQL Server',\n",
       " 'Which of the following relational database products have you used at work or school in the last 5 years? (Select all that apply) - Selected Choice - MySQL',\n",
       " 'Which of the following relational database products have you used at work or school in the last 5 years? (Select all that apply) - Selected Choice - PostgresSQL',\n",
       " 'Which of the following relational database products have you used at work or school in the last 5 years? (Select all that apply) - Selected Choice - SQLite',\n",
       " 'Which of the following relational database products have you used at work or school in the last 5 years? (Select all that apply) - Selected Choice - Oracle Database',\n",
       " 'Which of the following relational database products have you used at work or school in the last 5 years? (Select all that apply) - Selected Choice - Ingres',\n",
       " 'Which of the following relational database products have you used at work or school in the last 5 years? (Select all that apply) - Selected Choice - Microsoft Access',\n",
       " 'Which of the following relational database products have you used at work or school in the last 5 years? (Select all that apply) - Selected Choice - NexusDB',\n",
       " 'Which of the following relational database products have you used at work or school in the last 5 years? (Select all that apply) - Selected Choice - SAP IQ',\n",
       " 'Which of the following relational database products have you used at work or school in the last 5 years? (Select all that apply) - Selected Choice - Google Fusion Tables',\n",
       " 'Which of the following relational database products have you used at work or school in the last 5 years? (Select all that apply) - Selected Choice - Azure Database for MySQL',\n",
       " 'Which of the following relational database products have you used at work or school in the last 5 years? (Select all that apply) - Selected Choice - Azure Cosmos DB',\n",
       " 'Which of the following relational database products have you used at work or school in the last 5 years? (Select all that apply) - Selected Choice - Azure SQL Database',\n",
       " 'Which of the following relational database products have you used at work or school in the last 5 years? (Select all that apply) - Selected Choice - Azure Database for PostgreSQL',\n",
       " 'Which of the following relational database products have you used at work or school in the last 5 years? (Select all that apply) - Selected Choice - IBM Cloud Compose',\n",
       " 'Which of the following relational database products have you used at work or school in the last 5 years? (Select all that apply) - Selected Choice - IBM Cloud Compose for MySQL',\n",
       " 'Which of the following relational database products have you used at work or school in the last 5 years? (Select all that apply) - Selected Choice - IBM Cloud Compose for PostgreSQL',\n",
       " 'Which of the following relational database products have you used at work or school in the last 5 years? (Select all that apply) - Selected Choice - IBM Cloud Db2',\n",
       " 'Which of the following relational database products have you used at work or school in the last 5 years? (Select all that apply) - Selected Choice - None',\n",
       " 'Which of the following relational database products have you used at work or school in the last 5 years? (Select all that apply) - Selected Choice - Other',\n",
       " 'Which of the following relational database products have you used at work or school in the last 5 years? (Select all that apply) - Other - Text',\n",
       " 'Which of the following big data and analytics products have you used at work or school in the last 5 years? (Select all that apply) - Selected Choice - AWS Elastic MapReduce',\n",
       " 'Which of the following big data and analytics products have you used at work or school in the last 5 years? (Select all that apply) - Selected Choice - AWS Batch',\n",
       " 'Which of the following big data and analytics products have you used at work or school in the last 5 years? (Select all that apply) - Selected Choice - Google Cloud Dataproc',\n",
       " 'Which of the following big data and analytics products have you used at work or school in the last 5 years? (Select all that apply) - Selected Choice - Google Cloud Dataflow',\n",
       " 'Which of the following big data and analytics products have you used at work or school in the last 5 years? (Select all that apply) - Selected Choice - Google Cloud Dataprep',\n",
       " 'Which of the following big data and analytics products have you used at work or school in the last 5 years? (Select all that apply) - Selected Choice - AWS Kinesis',\n",
       " 'Which of the following big data and analytics products have you used at work or school in the last 5 years? (Select all that apply) - Selected Choice - Google Cloud Pub/Sub',\n",
       " 'Which of the following big data and analytics products have you used at work or school in the last 5 years? (Select all that apply) - Selected Choice - AWS Athena',\n",
       " 'Which of the following big data and analytics products have you used at work or school in the last 5 years? (Select all that apply) - Selected Choice - AWS Redshift',\n",
       " 'Which of the following big data and analytics products have you used at work or school in the last 5 years? (Select all that apply) - Selected Choice - Google BigQuery',\n",
       " 'Which of the following big data and analytics products have you used at work or school in the last 5 years? (Select all that apply) - Selected Choice - Teradata',\n",
       " 'Which of the following big data and analytics products have you used at work or school in the last 5 years? (Select all that apply) - Selected Choice - Microsoft Analysis Services',\n",
       " 'Which of the following big data and analytics products have you used at work or school in the last 5 years? (Select all that apply) - Selected Choice - Oracle Exadata',\n",
       " 'Which of the following big data and analytics products have you used at work or school in the last 5 years? (Select all that apply) - Selected Choice - Oracle Warehouse Builder',\n",
       " 'Which of the following big data and analytics products have you used at work or school in the last 5 years? (Select all that apply) - Selected Choice - SAP IQ',\n",
       " 'Which of the following big data and analytics products have you used at work or school in the last 5 years? (Select all that apply) - Selected Choice - Snowflake',\n",
       " 'Which of the following big data and analytics products have you used at work or school in the last 5 years? (Select all that apply) - Selected Choice - Databricks',\n",
       " 'Which of the following big data and analytics products have you used at work or school in the last 5 years? (Select all that apply) - Selected Choice - Azure SQL Data Warehouse',\n",
       " 'Which of the following big data and analytics products have you used at work or school in the last 5 years? (Select all that apply) - Selected Choice - Azure HDInsight',\n",
       " 'Which of the following big data and analytics products have you used at work or school in the last 5 years? (Select all that apply) - Selected Choice - Azure Stream Analytics',\n",
       " 'Which of the following big data and analytics products have you used at work or school in the last 5 years? (Select all that apply) - Selected Choice - IBM InfoSphere DataStorage',\n",
       " 'Which of the following big data and analytics products have you used at work or school in the last 5 years? (Select all that apply) - Selected Choice - IBM Cloud Analytics Engine',\n",
       " 'Which of the following big data and analytics products have you used at work or school in the last 5 years? (Select all that apply) - Selected Choice - IBM Cloud Streaming Analytics',\n",
       " 'Which of the following big data and analytics products have you used at work or school in the last 5 years? (Select all that apply) - Selected Choice - None',\n",
       " 'Which of the following big data and analytics products have you used at work or school in the last 5 years? (Select all that apply) - Selected Choice - Other',\n",
       " 'Which of the following big data and analytics products have you used at work or school in the last 5 years? (Select all that apply) - Other - Text',\n",
       " 'Which types of data do you currently interact with most often at work or school? (Select all that apply) - Selected Choice - Audio Data',\n",
       " 'Which types of data do you currently interact with most often at work or school? (Select all that apply) - Selected Choice - Categorical Data',\n",
       " 'Which types of data do you currently interact with most often at work or school? (Select all that apply) - Selected Choice - Genetic Data',\n",
       " 'Which types of data do you currently interact with most often at work or school? (Select all that apply) - Selected Choice - Geospatial Data',\n",
       " 'Which types of data do you currently interact with most often at work or school? (Select all that apply) - Selected Choice - Image Data',\n",
       " 'Which types of data do you currently interact with most often at work or school? (Select all that apply) - Selected Choice - Numerical Data',\n",
       " 'Which types of data do you currently interact with most often at work or school? (Select all that apply) - Selected Choice - Sensor Data',\n",
       " 'Which types of data do you currently interact with most often at work or school? (Select all that apply) - Selected Choice - Tabular Data',\n",
       " 'Which types of data do you currently interact with most often at work or school? (Select all that apply) - Selected Choice - Text Data',\n",
       " 'Which types of data do you currently interact with most often at work or school? (Select all that apply) - Selected Choice - Time Series Data',\n",
       " 'Which types of data do you currently interact with most often at work or school? (Select all that apply) - Selected Choice - Video Data',\n",
       " 'Which types of data do you currently interact with most often at work or school? (Select all that apply) - Selected Choice - Other Data',\n",
       " 'Which types of data do you currently interact with most often at work or school? (Select all that apply) - Other Data - Text',\n",
       " 'What is the type of data that you currently interact with most often at work or school? - Selected Choice',\n",
       " 'What is the type of data that you currently interact with most often at work or school? - Other Data - Text',\n",
       " 'Where do you find public datasets? (Select all that apply) - Selected Choice - Government websites',\n",
       " 'Where do you find public datasets? (Select all that apply) - Selected Choice - University research group websites',\n",
       " 'Where do you find public datasets? (Select all that apply) - Selected Choice - Non-profit research group websites',\n",
       " 'Where do you find public datasets? (Select all that apply) - Selected Choice - Dataset aggregator/platform (Socrata, Kaggle Public Datasets Platform, etc.)',\n",
       " 'Where do you find public datasets? (Select all that apply) - Selected Choice - I collect my own data (web-scraping, etc.)',\n",
       " 'Where do you find public datasets? (Select all that apply) - Selected Choice - Publicly released data from private companies',\n",
       " 'Where do you find public datasets? (Select all that apply) - Selected Choice - Google Search',\n",
       " 'Where do you find public datasets? (Select all that apply) - Selected Choice - Google Dataset Search',\n",
       " 'Where do you find public datasets? (Select all that apply) - Selected Choice - GitHub',\n",
       " 'Where do you find public datasets? (Select all that apply) - Selected Choice - None/I do not work with public data',\n",
       " 'Where do you find public datasets? (Select all that apply) - Selected Choice - Other',\n",
       " 'Where do you find public datasets? (Select all that apply) - Other - Text',\n",
       " 'During a typical data science project at work or school, approximately what proportion of your time is devoted to the following? (Answers must add up to 100%) - Gathering data',\n",
       " 'During a typical data science project at work or school, approximately what proportion of your time is devoted to the following? (Answers must add up to 100%) - Cleaning data',\n",
       " 'During a typical data science project at work or school, approximately what proportion of your time is devoted to the following? (Answers must add up to 100%) - Visualizing data',\n",
       " 'During a typical data science project at work or school, approximately what proportion of your time is devoted to the following? (Answers must add up to 100%) - Model building/model selection',\n",
       " 'During a typical data science project at work or school, approximately what proportion of your time is devoted to the following? (Answers must add up to 100%) - Putting the model into production',\n",
       " 'During a typical data science project at work or school, approximately what proportion of your time is devoted to the following? (Answers must add up to 100%) - Finding insights in the data and communicating with stakeholders',\n",
       " 'During a typical data science project at work or school, approximately what proportion of your time is devoted to the following? (Answers must add up to 100%) - Other',\n",
       " 'What percentage of your current machine learning/data science training falls under each category? (Answers must add up to 100%) - Self-taught',\n",
       " 'What percentage of your current machine learning/data science training falls under each category? (Answers must add up to 100%) - Online courses (Coursera, Udemy, edX, etc.)',\n",
       " 'What percentage of your current machine learning/data science training falls under each category? (Answers must add up to 100%) - Work',\n",
       " 'What percentage of your current machine learning/data science training falls under each category? (Answers must add up to 100%) - University',\n",
       " 'What percentage of your current machine learning/data science training falls under each category? (Answers must add up to 100%) - Kaggle competitions',\n",
       " 'What percentage of your current machine learning/data science training falls under each category? (Answers must add up to 100%) - Other',\n",
       " 'What percentage of your current machine learning/data science training falls under each category? (Answers must add up to 100%) - Other - Text',\n",
       " 'On which online platforms have you begun or completed data science courses? (Select all that apply) - Selected Choice - Udacity',\n",
       " 'On which online platforms have you begun or completed data science courses? (Select all that apply) - Selected Choice - Coursera',\n",
       " 'On which online platforms have you begun or completed data science courses? (Select all that apply) - Selected Choice - edX',\n",
       " 'On which online platforms have you begun or completed data science courses? (Select all that apply) - Selected Choice - DataCamp',\n",
       " 'On which online platforms have you begun or completed data science courses? (Select all that apply) - Selected Choice - DataQuest',\n",
       " 'On which online platforms have you begun or completed data science courses? (Select all that apply) - Selected Choice - Kaggle Learn',\n",
       " 'On which online platforms have you begun or completed data science courses? (Select all that apply) - Selected Choice - Fast.AI',\n",
       " 'On which online platforms have you begun or completed data science courses? (Select all that apply) - Selected Choice - developers.google.com',\n",
       " 'On which online platforms have you begun or completed data science courses? (Select all that apply) - Selected Choice - Udemy',\n",
       " 'On which online platforms have you begun or completed data science courses? (Select all that apply) - Selected Choice - TheSchool.AI',\n",
       " 'On which online platforms have you begun or completed data science courses? (Select all that apply) - Selected Choice - Online University Courses',\n",
       " 'On which online platforms have you begun or completed data science courses? (Select all that apply) - Selected Choice - None',\n",
       " 'On which online platforms have you begun or completed data science courses? (Select all that apply) - Selected Choice - Other',\n",
       " 'On which online platforms have you begun or completed data science courses? (Select all that apply) - Other - Text',\n",
       " 'On which online platform have you spent the most amount of time? - Selected Choice',\n",
       " 'On which online platform have you spent the most amount of time? - Other - Text',\n",
       " 'Who/what are your favorite media sources that report on data science topics? (Select all that apply) - Selected Choice - Twitter',\n",
       " 'Who/what are your favorite media sources that report on data science topics? (Select all that apply) - Selected Choice - Hacker News',\n",
       " 'Who/what are your favorite media sources that report on data science topics? (Select all that apply) - Selected Choice - r/machinelearning',\n",
       " 'Who/what are your favorite media sources that report on data science topics? (Select all that apply) - Selected Choice - Kaggle forums',\n",
       " 'Who/what are your favorite media sources that report on data science topics? (Select all that apply) - Selected Choice - Fastai forums',\n",
       " 'Who/what are your favorite media sources that report on data science topics? (Select all that apply) - Selected Choice - Siraj Raval YouTube Channel',\n",
       " 'Who/what are your favorite media sources that report on data science topics? (Select all that apply) - Selected Choice - DataTau News Aggregator',\n",
       " 'Who/what are your favorite media sources that report on data science topics? (Select all that apply) - Selected Choice - Linear Digressions Podcast',\n",
       " 'Who/what are your favorite media sources that report on data science topics? (Select all that apply) - Selected Choice - Cloud AI Adventures (YouTube)',\n",
       " 'Who/what are your favorite media sources that report on data science topics? (Select all that apply) - Selected Choice - FiveThirtyEight.com',\n",
       " 'Who/what are your favorite media sources that report on data science topics? (Select all that apply) - Selected Choice - ArXiv & Preprints',\n",
       " 'Who/what are your favorite media sources that report on data science topics? (Select all that apply) - Selected Choice - Journal Publications',\n",
       " 'Who/what are your favorite media sources that report on data science topics? (Select all that apply) - Selected Choice - FastML Blog',\n",
       " 'Who/what are your favorite media sources that report on data science topics? (Select all that apply) - Selected Choice - KDnuggets Blog',\n",
       " \"Who/what are your favorite media sources that report on data science topics? (Select all that apply) - Selected Choice - O'Reilly Data Newsletter\",\n",
       " 'Who/what are your favorite media sources that report on data science topics? (Select all that apply) - Selected Choice - Partially Derivative Podcast',\n",
       " 'Who/what are your favorite media sources that report on data science topics? (Select all that apply) - Selected Choice - The Data Skeptic Podcast',\n",
       " 'Who/what are your favorite media sources that report on data science topics? (Select all that apply) - Selected Choice - Medium Blog Posts',\n",
       " 'Who/what are your favorite media sources that report on data science topics? (Select all that apply) - Selected Choice - Towards Data Science Blog',\n",
       " 'Who/what are your favorite media sources that report on data science topics? (Select all that apply) - Selected Choice - Analytics Vidhya Blog',\n",
       " 'Who/what are your favorite media sources that report on data science topics? (Select all that apply) - Selected Choice - None/I do not know',\n",
       " 'Who/what are your favorite media sources that report on data science topics? (Select all that apply) - Selected Choice - Other',\n",
       " 'Who/what are your favorite media sources that report on data science topics? (Select all that apply) - Other - Text',\n",
       " 'How do you perceive the quality of online learning platforms and in-person bootcamps as compared to the quality of the education provided by traditional brick and mortar institutions? - Online learning platforms and MOOCs:',\n",
       " 'How do you perceive the quality of online learning platforms and in-person bootcamps as compared to the quality of the education provided by traditional brick and mortar institutions? - In-person bootcamps:',\n",
       " 'Which better demonstrates expertise in data science: academic achievements or independent projects? - Your views:',\n",
       " 'How do you perceive the importance of the following topics? - Fairness and bias in ML algorithms:',\n",
       " 'How do you perceive the importance of the following topics? - Being able to explain ML model outputs and/or predictions',\n",
       " 'How do you perceive the importance of the following topics? - Reproducibility in data science',\n",
       " 'What metrics do you or your organization use to determine whether or not your models were successful? (Select all that apply) - Selected Choice - Revenue and/or business goals',\n",
       " 'What metrics do you or your organization use to determine whether or not your models were successful? (Select all that apply) - Selected Choice - Metrics that consider accuracy',\n",
       " 'What metrics do you or your organization use to determine whether or not your models were successful? (Select all that apply) - Selected Choice - Metrics that consider unfair bias',\n",
       " 'What metrics do you or your organization use to determine whether or not your models were successful? (Select all that apply) - Selected Choice - Not applicable (I am not involved with an organization that builds ML models)',\n",
       " 'What metrics do you or your organization use to determine whether or not your models were successful? (Select all that apply) - Selected Choice - Other',\n",
       " 'What metrics do you or your organization use to determine whether or not your models were successful? (Select all that apply) - Other - Text',\n",
       " 'Approximately what percent of your data projects involved exploring unfair bias in the dataset and/or algorithm?',\n",
       " 'What do you find most difficult about ensuring that your algorithms are fair and unbiased? (Select all that apply) - Lack of communication between individuals who collect the data and individuals who analyze the data',\n",
       " 'What do you find most difficult about ensuring that your algorithms are fair and unbiased? (Select all that apply) - Difficulty in identifying groups that are unfairly targeted',\n",
       " 'What do you find most difficult about ensuring that your algorithms are fair and unbiased? (Select all that apply) - Difficulty in collecting enough data about groups that may be unfairly targeted',\n",
       " 'What do you find most difficult about ensuring that your algorithms are fair and unbiased? (Select all that apply) - Difficulty in identifying and selecting the appropriate evaluation metrics',\n",
       " 'What do you find most difficult about ensuring that your algorithms are fair and unbiased? (Select all that apply) - I have never found any difficulty in this task',\n",
       " 'What do you find most difficult about ensuring that your algorithms are fair and unbiased? (Select all that apply) - I have never performed this task',\n",
       " \"In what circumstances would you explore model insights and interpret your model's predictions? (Select all that apply) - Only for very important models that are already in production\",\n",
       " \"In what circumstances would you explore model insights and interpret your model's predictions? (Select all that apply) - For all models right before putting the model in production\",\n",
       " \"In what circumstances would you explore model insights and interpret your model's predictions? (Select all that apply) - When determining whether it is worth it to put the model into production\",\n",
       " \"In what circumstances would you explore model insights and interpret your model's predictions? (Select all that apply) - When building a model that was specifically designed to produce such insights\",\n",
       " \"In what circumstances would you explore model insights and interpret your model's predictions? (Select all that apply) - When first exploring a new ML model or dataset\",\n",
       " \"In what circumstances would you explore model insights and interpret your model's predictions? (Select all that apply) - I do not explore and interpret model insights and predictions\",\n",
       " 'Approximately what percent of your data projects involve exploring model insights?',\n",
       " 'What methods do you prefer for explaining and/or interpreting decisions that are made by ML models? (Select all that apply) - Selected Choice - Examine individual model coefficients',\n",
       " 'What methods do you prefer for explaining and/or interpreting decisions that are made by ML models? (Select all that apply) - Selected Choice - Examine feature correlations',\n",
       " 'What methods do you prefer for explaining and/or interpreting decisions that are made by ML models? (Select all that apply) - Selected Choice - Examine feature importances',\n",
       " 'What methods do you prefer for explaining and/or interpreting decisions that are made by ML models? (Select all that apply) - Selected Choice - Plot decision boundaries',\n",
       " 'What methods do you prefer for explaining and/or interpreting decisions that are made by ML models? (Select all that apply) - Selected Choice - Create partial dependence plots',\n",
       " 'What methods do you prefer for explaining and/or interpreting decisions that are made by ML models? (Select all that apply) - Selected Choice - Dimensionality reduction techniques',\n",
       " 'What methods do you prefer for explaining and/or interpreting decisions that are made by ML models? (Select all that apply) - Selected Choice - Attention mapping/saliency mapping',\n",
       " 'What methods do you prefer for explaining and/or interpreting decisions that are made by ML models? (Select all that apply) - Selected Choice - Plot predicted vs. actual results',\n",
       " 'What methods do you prefer for explaining and/or interpreting decisions that are made by ML models? (Select all that apply) - Selected Choice - Print out a decision tree',\n",
       " 'What methods do you prefer for explaining and/or interpreting decisions that are made by ML models? (Select all that apply) - Selected Choice - Sensitivity analysis/perturbation importance',\n",
       " 'What methods do you prefer for explaining and/or interpreting decisions that are made by ML models? (Select all that apply) - Selected Choice - LIME functions',\n",
       " 'What methods do you prefer for explaining and/or interpreting decisions that are made by ML models? (Select all that apply) - Selected Choice - ELI5 functions',\n",
       " 'What methods do you prefer for explaining and/or interpreting decisions that are made by ML models? (Select all that apply) - Selected Choice - SHAP functions',\n",
       " 'What methods do you prefer for explaining and/or interpreting decisions that are made by ML models? (Select all that apply) - Selected Choice - None/I do not use these model explanation techniques',\n",
       " 'What methods do you prefer for explaining and/or interpreting decisions that are made by ML models? (Select all that apply) - Selected Choice - Other',\n",
       " 'What methods do you prefer for explaining and/or interpreting decisions that are made by ML models? (Select all that apply) - Other - Text',\n",
       " 'Do you consider ML models to be \"black boxes\" with outputs that are difficult or impossible to explain?',\n",
       " 'What tools and methods do you use to make your work easy to reproduce? (Select all that apply) - Selected Choice - Share code on Github or a similar code-sharing repository',\n",
       " 'What tools and methods do you use to make your work easy to reproduce? (Select all that apply) - Selected Choice - Share both data and code on Github or a similar code-sharing repository',\n",
       " 'What tools and methods do you use to make your work easy to reproduce? (Select all that apply) - Selected Choice - Share data, code, and environment using a hosted service (Kaggle Kernels, Google Colaboratory, Amazon SageMaker, etc.)',\n",
       " 'What tools and methods do you use to make your work easy to reproduce? (Select all that apply) - Selected Choice - Share data, code, and environment using containers (Docker, etc.)',\n",
       " 'What tools and methods do you use to make your work easy to reproduce? (Select all that apply) - Selected Choice - Share code, data, and environment using virtual machines (VirtualBox, etc.)',\n",
       " 'What tools and methods do you use to make your work easy to reproduce? (Select all that apply) - Selected Choice - Make sure the code is well documented',\n",
       " 'What tools and methods do you use to make your work easy to reproduce? (Select all that apply) - Selected Choice - Make sure the code is human-readable',\n",
       " 'What tools and methods do you use to make your work easy to reproduce? (Select all that apply) - Selected Choice - Define all random seeds',\n",
       " 'What tools and methods do you use to make your work easy to reproduce? (Select all that apply) - Selected Choice - Define relative rather than absolute file paths',\n",
       " 'What tools and methods do you use to make your work easy to reproduce? (Select all that apply) - Selected Choice - Include a text file describing all dependencies',\n",
       " 'What tools and methods do you use to make your work easy to reproduce? (Select all that apply) - Selected Choice - None/I do not make my work easy for others to reproduce',\n",
       " 'What tools and methods do you use to make your work easy to reproduce? (Select all that apply) - Selected Choice - Other',\n",
       " 'What tools and methods do you use to make your work easy to reproduce? (Select all that apply) - Other - Text',\n",
       " 'What barriers prevent you from making your work even easier to reuse and reproduce? (Select all that apply) - Selected Choice - Too expensive',\n",
       " 'What barriers prevent you from making your work even easier to reuse and reproduce? (Select all that apply) - Selected Choice - Too time-consuming',\n",
       " 'What barriers prevent you from making your work even easier to reuse and reproduce? (Select all that apply) - Selected Choice - Requires too much technical knowledge',\n",
       " 'What barriers prevent you from making your work even easier to reuse and reproduce? (Select all that apply) - Selected Choice - Afraid that others will use my work without giving proper credit',\n",
       " 'What barriers prevent you from making your work even easier to reuse and reproduce? (Select all that apply) - Selected Choice - Not enough incentives to share my work',\n",
       " 'What barriers prevent you from making your work even easier to reuse and reproduce? (Select all that apply) - Selected Choice - I had never considered making my work easier for others to reproduce',\n",
       " 'What barriers prevent you from making your work even easier to reuse and reproduce? (Select all that apply) - Selected Choice - None of these reasons apply to me',\n",
       " 'What barriers prevent you from making your work even easier to reuse and reproduce? (Select all that apply) - Selected Choice - Other',\n",
       " 'What barriers prevent you from making your work even easier to reuse and reproduce? (Select all that apply) - Other - Text']"
      ]
     },
     "execution_count": 4,
     "metadata": {},
     "output_type": "execute_result"
    }
   ],
   "source": [
    "df.columns.tolist()"
   ]
  },
  {
   "cell_type": "markdown",
   "metadata": {},
   "source": [
    "*Since we will only be usign a few columns, so taking only a subset for further analysis*"
   ]
  },
  {
   "cell_type": "code",
   "execution_count": 5,
   "metadata": {
    "collapsed": true
   },
   "outputs": [
    {
     "data": {
      "text/html": [
       "<div>\n",
       "<style scoped>\n",
       "    .dataframe tbody tr th:only-of-type {\n",
       "        vertical-align: middle;\n",
       "    }\n",
       "\n",
       "    .dataframe tbody tr th {\n",
       "        vertical-align: top;\n",
       "    }\n",
       "\n",
       "    .dataframe thead th {\n",
       "        text-align: right;\n",
       "    }\n",
       "</style>\n",
       "<table border=\"1\" class=\"dataframe\">\n",
       "  <thead>\n",
       "    <tr style=\"text-align: right;\">\n",
       "      <th></th>\n",
       "      <th>0</th>\n",
       "      <th>1</th>\n",
       "      <th>2</th>\n",
       "      <th>3</th>\n",
       "      <th>4</th>\n",
       "    </tr>\n",
       "  </thead>\n",
       "  <tbody>\n",
       "    <tr>\n",
       "      <td>What is your gender? - Selected Choice</td>\n",
       "      <td>Female</td>\n",
       "      <td>Male</td>\n",
       "      <td>Female</td>\n",
       "      <td>Male</td>\n",
       "      <td>Male</td>\n",
       "    </tr>\n",
       "    <tr>\n",
       "      <td>What is your gender? - Prefer to self-describe - Text</td>\n",
       "      <td>-1</td>\n",
       "      <td>-1</td>\n",
       "      <td>-1</td>\n",
       "      <td>-1</td>\n",
       "      <td>-1</td>\n",
       "    </tr>\n",
       "    <tr>\n",
       "      <td>What is your age (# years)?</td>\n",
       "      <td>45-49</td>\n",
       "      <td>30-34</td>\n",
       "      <td>30-34</td>\n",
       "      <td>35-39</td>\n",
       "      <td>22-24</td>\n",
       "    </tr>\n",
       "    <tr>\n",
       "      <td>In which country do you currently reside?</td>\n",
       "      <td>United States of America</td>\n",
       "      <td>Indonesia</td>\n",
       "      <td>United States of America</td>\n",
       "      <td>United States of America</td>\n",
       "      <td>India</td>\n",
       "    </tr>\n",
       "    <tr>\n",
       "      <td>What is the highest level of formal education that you have attained or plan to attain within the next 2 years?</td>\n",
       "      <td>Doctoral degree</td>\n",
       "      <td>Bachelor’s degree</td>\n",
       "      <td>Master’s degree</td>\n",
       "      <td>Master’s degree</td>\n",
       "      <td>Master’s degree</td>\n",
       "    </tr>\n",
       "    <tr>\n",
       "      <td>Which best describes your undergraduate major? - Selected Choice</td>\n",
       "      <td>Other</td>\n",
       "      <td>Engineering (non-computer focused)</td>\n",
       "      <td>Computer science (software engineering, etc.)</td>\n",
       "      <td>Social sciences (anthropology, psychology, soc...</td>\n",
       "      <td>Mathematics or statistics</td>\n",
       "    </tr>\n",
       "    <tr>\n",
       "      <td>Select the title most similar to your current role (or most recent title if retired): - Selected Choice</td>\n",
       "      <td>Consultant</td>\n",
       "      <td>Other</td>\n",
       "      <td>Data Scientist</td>\n",
       "      <td>Not employed</td>\n",
       "      <td>Data Analyst</td>\n",
       "    </tr>\n",
       "    <tr>\n",
       "      <td>Select the title most similar to your current role (or most recent title if retired): - Other - Text</td>\n",
       "      <td>-1</td>\n",
       "      <td>0</td>\n",
       "      <td>-1</td>\n",
       "      <td>-1</td>\n",
       "      <td>-1</td>\n",
       "    </tr>\n",
       "    <tr>\n",
       "      <td>In what industry is your current employer/contract (or your most recent employer if retired)? - Selected Choice</td>\n",
       "      <td>Other</td>\n",
       "      <td>Manufacturing/Fabrication</td>\n",
       "      <td>I am a student</td>\n",
       "      <td>NaN</td>\n",
       "      <td>I am a student</td>\n",
       "    </tr>\n",
       "    <tr>\n",
       "      <td>In what industry is your current employer/contract (or your most recent employer if retired)? - Other - Text</td>\n",
       "      <td>0</td>\n",
       "      <td>-1</td>\n",
       "      <td>-1</td>\n",
       "      <td>-1</td>\n",
       "      <td>-1</td>\n",
       "    </tr>\n",
       "    <tr>\n",
       "      <td>How many years of experience do you have in your current role?</td>\n",
       "      <td>NaN</td>\n",
       "      <td>5-10</td>\n",
       "      <td>0-1</td>\n",
       "      <td>NaN</td>\n",
       "      <td>0-1</td>\n",
       "    </tr>\n",
       "    <tr>\n",
       "      <td>What is your current yearly compensation (approximate $USD)?</td>\n",
       "      <td>NaN</td>\n",
       "      <td>10-20,000</td>\n",
       "      <td>0-10,000</td>\n",
       "      <td>NaN</td>\n",
       "      <td>0-10,000</td>\n",
       "    </tr>\n",
       "    <tr>\n",
       "      <td>Does your current employer incorporate machine learning methods into their business?</td>\n",
       "      <td>I do not know</td>\n",
       "      <td>No (we do not use ML methods)</td>\n",
       "      <td>I do not know</td>\n",
       "      <td>NaN</td>\n",
       "      <td>I do not know</td>\n",
       "    </tr>\n",
       "    <tr>\n",
       "      <td>Select any activities that make up an important part of your role at work: (Select all that apply) - Selected Choice - Analyze and understand data to influence product or business decisions</td>\n",
       "      <td>Analyze and understand data to influence produ...</td>\n",
       "      <td>NaN</td>\n",
       "      <td>Analyze and understand data to influence produ...</td>\n",
       "      <td>NaN</td>\n",
       "      <td>NaN</td>\n",
       "    </tr>\n",
       "    <tr>\n",
       "      <td>Select any activities that make up an important part of your role at work: (Select all that apply) - Selected Choice - Build and/or run a machine learning service that operationally improves my product or workflows</td>\n",
       "      <td>Build and/or run a machine learning service th...</td>\n",
       "      <td>NaN</td>\n",
       "      <td>NaN</td>\n",
       "      <td>NaN</td>\n",
       "      <td>NaN</td>\n",
       "    </tr>\n",
       "    <tr>\n",
       "      <td>Select any activities that make up an important part of your role at work: (Select all that apply) - Selected Choice - Build and/or run the data infrastructure that my business uses for storing, analyzing, and operationalizing data</td>\n",
       "      <td>Build and/or run the data infrastructure that ...</td>\n",
       "      <td>NaN</td>\n",
       "      <td>NaN</td>\n",
       "      <td>NaN</td>\n",
       "      <td>NaN</td>\n",
       "    </tr>\n",
       "    <tr>\n",
       "      <td>Select any activities that make up an important part of your role at work: (Select all that apply) - Selected Choice - Build prototypes to explore applying machine learning to new areas</td>\n",
       "      <td>NaN</td>\n",
       "      <td>NaN</td>\n",
       "      <td>NaN</td>\n",
       "      <td>NaN</td>\n",
       "      <td>NaN</td>\n",
       "    </tr>\n",
       "    <tr>\n",
       "      <td>Select any activities that make up an important part of your role at work: (Select all that apply) - Selected Choice - Do research that advances the state of the art of machine learning</td>\n",
       "      <td>Do research that advances the state of the art...</td>\n",
       "      <td>NaN</td>\n",
       "      <td>NaN</td>\n",
       "      <td>NaN</td>\n",
       "      <td>NaN</td>\n",
       "    </tr>\n",
       "    <tr>\n",
       "      <td>Select any activities that make up an important part of your role at work: (Select all that apply) - Selected Choice - None of these activities are an important part of my role at work</td>\n",
       "      <td>NaN</td>\n",
       "      <td>None of these activities are an important part...</td>\n",
       "      <td>NaN</td>\n",
       "      <td>NaN</td>\n",
       "      <td>NaN</td>\n",
       "    </tr>\n",
       "    <tr>\n",
       "      <td>Select any activities that make up an important part of your role at work: (Select all that apply) - Selected Choice - Other</td>\n",
       "      <td>NaN</td>\n",
       "      <td>NaN</td>\n",
       "      <td>NaN</td>\n",
       "      <td>NaN</td>\n",
       "      <td>Other</td>\n",
       "    </tr>\n",
       "  </tbody>\n",
       "</table>\n",
       "</div>"
      ],
      "text/plain": [
       "                                                                                                    0  \\\n",
       "What is your gender? - Selected Choice                                                         Female   \n",
       "What is your gender? - Prefer to self-describe ...                                                 -1   \n",
       "What is your age (# years)?                                                                     45-49   \n",
       "In which country do you currently reside?                                    United States of America   \n",
       "What is the highest level of formal education t...                                    Doctoral degree   \n",
       "Which best describes your undergraduate major? ...                                              Other   \n",
       "Select the title most similar to your current r...                                         Consultant   \n",
       "Select the title most similar to your current r...                                                 -1   \n",
       "In what industry is your current employer/contr...                                              Other   \n",
       "In what industry is your current employer/contr...                                                  0   \n",
       "How many years of experience do you have in you...                                                NaN   \n",
       "What is your current yearly compensation (appro...                                                NaN   \n",
       "Does your current employer incorporate machine ...                                      I do not know   \n",
       "Select any activities that make up an important...  Analyze and understand data to influence produ...   \n",
       "Select any activities that make up an important...  Build and/or run a machine learning service th...   \n",
       "Select any activities that make up an important...  Build and/or run the data infrastructure that ...   \n",
       "Select any activities that make up an important...                                                NaN   \n",
       "Select any activities that make up an important...  Do research that advances the state of the art...   \n",
       "Select any activities that make up an important...                                                NaN   \n",
       "Select any activities that make up an important...                                                NaN   \n",
       "\n",
       "                                                                                                    1  \\\n",
       "What is your gender? - Selected Choice                                                           Male   \n",
       "What is your gender? - Prefer to self-describe ...                                                 -1   \n",
       "What is your age (# years)?                                                                     30-34   \n",
       "In which country do you currently reside?                                                   Indonesia   \n",
       "What is the highest level of formal education t...                                  Bachelor’s degree   \n",
       "Which best describes your undergraduate major? ...                 Engineering (non-computer focused)   \n",
       "Select the title most similar to your current r...                                              Other   \n",
       "Select the title most similar to your current r...                                                  0   \n",
       "In what industry is your current employer/contr...                          Manufacturing/Fabrication   \n",
       "In what industry is your current employer/contr...                                                 -1   \n",
       "How many years of experience do you have in you...                                               5-10   \n",
       "What is your current yearly compensation (appro...                                          10-20,000   \n",
       "Does your current employer incorporate machine ...                      No (we do not use ML methods)   \n",
       "Select any activities that make up an important...                                                NaN   \n",
       "Select any activities that make up an important...                                                NaN   \n",
       "Select any activities that make up an important...                                                NaN   \n",
       "Select any activities that make up an important...                                                NaN   \n",
       "Select any activities that make up an important...                                                NaN   \n",
       "Select any activities that make up an important...  None of these activities are an important part...   \n",
       "Select any activities that make up an important...                                                NaN   \n",
       "\n",
       "                                                                                                    2  \\\n",
       "What is your gender? - Selected Choice                                                         Female   \n",
       "What is your gender? - Prefer to self-describe ...                                                 -1   \n",
       "What is your age (# years)?                                                                     30-34   \n",
       "In which country do you currently reside?                                    United States of America   \n",
       "What is the highest level of formal education t...                                    Master’s degree   \n",
       "Which best describes your undergraduate major? ...      Computer science (software engineering, etc.)   \n",
       "Select the title most similar to your current r...                                     Data Scientist   \n",
       "Select the title most similar to your current r...                                                 -1   \n",
       "In what industry is your current employer/contr...                                     I am a student   \n",
       "In what industry is your current employer/contr...                                                 -1   \n",
       "How many years of experience do you have in you...                                                0-1   \n",
       "What is your current yearly compensation (appro...                                           0-10,000   \n",
       "Does your current employer incorporate machine ...                                      I do not know   \n",
       "Select any activities that make up an important...  Analyze and understand data to influence produ...   \n",
       "Select any activities that make up an important...                                                NaN   \n",
       "Select any activities that make up an important...                                                NaN   \n",
       "Select any activities that make up an important...                                                NaN   \n",
       "Select any activities that make up an important...                                                NaN   \n",
       "Select any activities that make up an important...                                                NaN   \n",
       "Select any activities that make up an important...                                                NaN   \n",
       "\n",
       "                                                                                                    3  \\\n",
       "What is your gender? - Selected Choice                                                           Male   \n",
       "What is your gender? - Prefer to self-describe ...                                                 -1   \n",
       "What is your age (# years)?                                                                     35-39   \n",
       "In which country do you currently reside?                                    United States of America   \n",
       "What is the highest level of formal education t...                                    Master’s degree   \n",
       "Which best describes your undergraduate major? ...  Social sciences (anthropology, psychology, soc...   \n",
       "Select the title most similar to your current r...                                       Not employed   \n",
       "Select the title most similar to your current r...                                                 -1   \n",
       "In what industry is your current employer/contr...                                                NaN   \n",
       "In what industry is your current employer/contr...                                                 -1   \n",
       "How many years of experience do you have in you...                                                NaN   \n",
       "What is your current yearly compensation (appro...                                                NaN   \n",
       "Does your current employer incorporate machine ...                                                NaN   \n",
       "Select any activities that make up an important...                                                NaN   \n",
       "Select any activities that make up an important...                                                NaN   \n",
       "Select any activities that make up an important...                                                NaN   \n",
       "Select any activities that make up an important...                                                NaN   \n",
       "Select any activities that make up an important...                                                NaN   \n",
       "Select any activities that make up an important...                                                NaN   \n",
       "Select any activities that make up an important...                                                NaN   \n",
       "\n",
       "                                                                            4  \n",
       "What is your gender? - Selected Choice                                   Male  \n",
       "What is your gender? - Prefer to self-describe ...                         -1  \n",
       "What is your age (# years)?                                             22-24  \n",
       "In which country do you currently reside?                               India  \n",
       "What is the highest level of formal education t...            Master’s degree  \n",
       "Which best describes your undergraduate major? ...  Mathematics or statistics  \n",
       "Select the title most similar to your current r...               Data Analyst  \n",
       "Select the title most similar to your current r...                         -1  \n",
       "In what industry is your current employer/contr...             I am a student  \n",
       "In what industry is your current employer/contr...                         -1  \n",
       "How many years of experience do you have in you...                        0-1  \n",
       "What is your current yearly compensation (appro...                   0-10,000  \n",
       "Does your current employer incorporate machine ...              I do not know  \n",
       "Select any activities that make up an important...                        NaN  \n",
       "Select any activities that make up an important...                        NaN  \n",
       "Select any activities that make up an important...                        NaN  \n",
       "Select any activities that make up an important...                        NaN  \n",
       "Select any activities that make up an important...                        NaN  \n",
       "Select any activities that make up an important...                        NaN  \n",
       "Select any activities that make up an important...                      Other  "
      ]
     },
     "execution_count": 5,
     "metadata": {},
     "output_type": "execute_result"
    }
   ],
   "source": [
    "df_relevant = df.iloc[:, 1:21]\n",
    "df_relevant.head().T"
   ]
  },
  {
   "cell_type": "code",
   "execution_count": 6,
   "metadata": {
    "collapsed": true
   },
   "outputs": [
    {
     "data": {
      "text/plain": [
       "['What is your gender? - Selected Choice',\n",
       " 'What is your gender? - Prefer to self-describe - Text',\n",
       " 'What is your age (# years)?',\n",
       " 'In which country do you currently reside?',\n",
       " 'What is the highest level of formal education that you have attained or plan to attain within the next 2 years?',\n",
       " 'Which best describes your undergraduate major? - Selected Choice',\n",
       " 'Select the title most similar to your current role (or most recent title if retired): - Selected Choice',\n",
       " 'Select the title most similar to your current role (or most recent title if retired): - Other - Text',\n",
       " 'In what industry is your current employer/contract (or your most recent employer if retired)? - Selected Choice',\n",
       " 'In what industry is your current employer/contract (or your most recent employer if retired)? - Other - Text',\n",
       " 'How many years of experience do you have in your current role?',\n",
       " 'What is your current yearly compensation (approximate $USD)?',\n",
       " 'Does your current employer incorporate machine learning methods into their business?',\n",
       " 'Select any activities that make up an important part of your role at work: (Select all that apply) - Selected Choice - Analyze and understand data to influence product or business decisions',\n",
       " 'Select any activities that make up an important part of your role at work: (Select all that apply) - Selected Choice - Build and/or run a machine learning service that operationally improves my product or workflows',\n",
       " 'Select any activities that make up an important part of your role at work: (Select all that apply) - Selected Choice - Build and/or run the data infrastructure that my business uses for storing, analyzing, and operationalizing data',\n",
       " 'Select any activities that make up an important part of your role at work: (Select all that apply) - Selected Choice - Build prototypes to explore applying machine learning to new areas',\n",
       " 'Select any activities that make up an important part of your role at work: (Select all that apply) - Selected Choice - Do research that advances the state of the art of machine learning',\n",
       " 'Select any activities that make up an important part of your role at work: (Select all that apply) - Selected Choice - None of these activities are an important part of my role at work',\n",
       " 'Select any activities that make up an important part of your role at work: (Select all that apply) - Selected Choice - Other']"
      ]
     },
     "execution_count": 6,
     "metadata": {},
     "output_type": "execute_result"
    }
   ],
   "source": [
    "df_relevant.columns.tolist()"
   ]
  },
  {
   "cell_type": "code",
   "execution_count": 7,
   "metadata": {},
   "outputs": [],
   "source": [
    "# Renaming the columns appropriately\n",
    "df_relevant.columns = ['Gender','Gender_self_describe','Age','Country','Highest_education','UG_major','Title','Title_text',\n",
    "                      'Industry','Industry_text','Experience','Annual_compensation','Use_ML_models',\n",
    "                      'Activities_Analyze','Activities_ML_service','Activities_Data_infra','Activities_Prototyping',\n",
    "                       'Activities_Research','Activities_None','Activities_Other']"
   ]
  },
  {
   "cell_type": "code",
   "execution_count": 8,
   "metadata": {},
   "outputs": [],
   "source": [
    "df_relevant = df_relevant.drop(columns=['Gender_self_describe','Title_text','Industry_text'])\n",
    "df_relevant = df_relevant[df_relevant.Country.isin(df_relevant.Country.value_counts().index[:3])]"
   ]
  },
  {
   "cell_type": "code",
   "execution_count": 9,
   "metadata": {},
   "outputs": [
    {
     "data": {
      "text/html": [
       "<div>\n",
       "<style scoped>\n",
       "    .dataframe tbody tr th:only-of-type {\n",
       "        vertical-align: middle;\n",
       "    }\n",
       "\n",
       "    .dataframe tbody tr th {\n",
       "        vertical-align: top;\n",
       "    }\n",
       "\n",
       "    .dataframe thead th {\n",
       "        text-align: right;\n",
       "    }\n",
       "</style>\n",
       "<table border=\"1\" class=\"dataframe\">\n",
       "  <thead>\n",
       "    <tr style=\"text-align: right;\">\n",
       "      <th></th>\n",
       "      <th>Gender</th>\n",
       "      <th>Age</th>\n",
       "      <th>Country</th>\n",
       "      <th>Highest_education</th>\n",
       "      <th>UG_major</th>\n",
       "      <th>Title</th>\n",
       "      <th>Industry</th>\n",
       "      <th>Experience</th>\n",
       "      <th>Annual_compensation</th>\n",
       "      <th>Use_ML_models</th>\n",
       "      <th>Activities_Analyze</th>\n",
       "      <th>Activities_ML_service</th>\n",
       "      <th>Activities_Data_infra</th>\n",
       "      <th>Activities_Prototyping</th>\n",
       "      <th>Activities_Research</th>\n",
       "      <th>Activities_None</th>\n",
       "      <th>Activities_Other</th>\n",
       "    </tr>\n",
       "  </thead>\n",
       "  <tbody>\n",
       "    <tr>\n",
       "      <td>0</td>\n",
       "      <td>Female</td>\n",
       "      <td>45-49</td>\n",
       "      <td>United States of America</td>\n",
       "      <td>Doctoral degree</td>\n",
       "      <td>Other</td>\n",
       "      <td>Consultant</td>\n",
       "      <td>Other</td>\n",
       "      <td>NaN</td>\n",
       "      <td>NaN</td>\n",
       "      <td>I do not know</td>\n",
       "      <td>Analyze and understand data to influence produ...</td>\n",
       "      <td>Build and/or run a machine learning service th...</td>\n",
       "      <td>Build and/or run the data infrastructure that ...</td>\n",
       "      <td>NaN</td>\n",
       "      <td>Do research that advances the state of the art...</td>\n",
       "      <td>NaN</td>\n",
       "      <td>NaN</td>\n",
       "    </tr>\n",
       "    <tr>\n",
       "      <td>2</td>\n",
       "      <td>Female</td>\n",
       "      <td>30-34</td>\n",
       "      <td>United States of America</td>\n",
       "      <td>Master’s degree</td>\n",
       "      <td>Computer science (software engineering, etc.)</td>\n",
       "      <td>Data Scientist</td>\n",
       "      <td>I am a student</td>\n",
       "      <td>0-1</td>\n",
       "      <td>0-10,000</td>\n",
       "      <td>I do not know</td>\n",
       "      <td>Analyze and understand data to influence produ...</td>\n",
       "      <td>NaN</td>\n",
       "      <td>NaN</td>\n",
       "      <td>NaN</td>\n",
       "      <td>NaN</td>\n",
       "      <td>NaN</td>\n",
       "      <td>NaN</td>\n",
       "    </tr>\n",
       "    <tr>\n",
       "      <td>3</td>\n",
       "      <td>Male</td>\n",
       "      <td>35-39</td>\n",
       "      <td>United States of America</td>\n",
       "      <td>Master’s degree</td>\n",
       "      <td>Social sciences (anthropology, psychology, soc...</td>\n",
       "      <td>Not employed</td>\n",
       "      <td>NaN</td>\n",
       "      <td>NaN</td>\n",
       "      <td>NaN</td>\n",
       "      <td>NaN</td>\n",
       "      <td>NaN</td>\n",
       "      <td>NaN</td>\n",
       "      <td>NaN</td>\n",
       "      <td>NaN</td>\n",
       "      <td>NaN</td>\n",
       "      <td>NaN</td>\n",
       "      <td>NaN</td>\n",
       "    </tr>\n",
       "    <tr>\n",
       "      <td>4</td>\n",
       "      <td>Male</td>\n",
       "      <td>22-24</td>\n",
       "      <td>India</td>\n",
       "      <td>Master’s degree</td>\n",
       "      <td>Mathematics or statistics</td>\n",
       "      <td>Data Analyst</td>\n",
       "      <td>I am a student</td>\n",
       "      <td>0-1</td>\n",
       "      <td>0-10,000</td>\n",
       "      <td>I do not know</td>\n",
       "      <td>NaN</td>\n",
       "      <td>NaN</td>\n",
       "      <td>NaN</td>\n",
       "      <td>NaN</td>\n",
       "      <td>NaN</td>\n",
       "      <td>NaN</td>\n",
       "      <td>Other</td>\n",
       "    </tr>\n",
       "    <tr>\n",
       "      <td>7</td>\n",
       "      <td>Male</td>\n",
       "      <td>18-21</td>\n",
       "      <td>India</td>\n",
       "      <td>Master’s degree</td>\n",
       "      <td>Information technology, networking, or system ...</td>\n",
       "      <td>Other</td>\n",
       "      <td>Other</td>\n",
       "      <td>0-1</td>\n",
       "      <td>0-10,000</td>\n",
       "      <td>We recently started using ML methods (i.e., mo...</td>\n",
       "      <td>NaN</td>\n",
       "      <td>Build and/or run a machine learning service th...</td>\n",
       "      <td>NaN</td>\n",
       "      <td>NaN</td>\n",
       "      <td>NaN</td>\n",
       "      <td>NaN</td>\n",
       "      <td>NaN</td>\n",
       "    </tr>\n",
       "  </tbody>\n",
       "</table>\n",
       "</div>"
      ],
      "text/plain": [
       "   Gender    Age                   Country Highest_education  \\\n",
       "0  Female  45-49  United States of America   Doctoral degree   \n",
       "2  Female  30-34  United States of America   Master’s degree   \n",
       "3    Male  35-39  United States of America   Master’s degree   \n",
       "4    Male  22-24                     India   Master’s degree   \n",
       "7    Male  18-21                     India   Master’s degree   \n",
       "\n",
       "                                            UG_major           Title  \\\n",
       "0                                              Other      Consultant   \n",
       "2      Computer science (software engineering, etc.)  Data Scientist   \n",
       "3  Social sciences (anthropology, psychology, soc...    Not employed   \n",
       "4                          Mathematics or statistics    Data Analyst   \n",
       "7  Information technology, networking, or system ...           Other   \n",
       "\n",
       "         Industry Experience Annual_compensation  \\\n",
       "0           Other        NaN                 NaN   \n",
       "2  I am a student        0-1            0-10,000   \n",
       "3             NaN        NaN                 NaN   \n",
       "4  I am a student        0-1            0-10,000   \n",
       "7           Other        0-1            0-10,000   \n",
       "\n",
       "                                       Use_ML_models  \\\n",
       "0                                      I do not know   \n",
       "2                                      I do not know   \n",
       "3                                                NaN   \n",
       "4                                      I do not know   \n",
       "7  We recently started using ML methods (i.e., mo...   \n",
       "\n",
       "                                  Activities_Analyze  \\\n",
       "0  Analyze and understand data to influence produ...   \n",
       "2  Analyze and understand data to influence produ...   \n",
       "3                                                NaN   \n",
       "4                                                NaN   \n",
       "7                                                NaN   \n",
       "\n",
       "                               Activities_ML_service  \\\n",
       "0  Build and/or run a machine learning service th...   \n",
       "2                                                NaN   \n",
       "3                                                NaN   \n",
       "4                                                NaN   \n",
       "7  Build and/or run a machine learning service th...   \n",
       "\n",
       "                               Activities_Data_infra Activities_Prototyping  \\\n",
       "0  Build and/or run the data infrastructure that ...                    NaN   \n",
       "2                                                NaN                    NaN   \n",
       "3                                                NaN                    NaN   \n",
       "4                                                NaN                    NaN   \n",
       "7                                                NaN                    NaN   \n",
       "\n",
       "                                 Activities_Research Activities_None  \\\n",
       "0  Do research that advances the state of the art...             NaN   \n",
       "2                                                NaN             NaN   \n",
       "3                                                NaN             NaN   \n",
       "4                                                NaN             NaN   \n",
       "7                                                NaN             NaN   \n",
       "\n",
       "  Activities_Other  \n",
       "0              NaN  \n",
       "2              NaN  \n",
       "3              NaN  \n",
       "4            Other  \n",
       "7              NaN  "
      ]
     },
     "execution_count": 9,
     "metadata": {},
     "output_type": "execute_result"
    }
   ],
   "source": [
    "df_relevant.head()"
   ]
  },
  {
   "cell_type": "code",
   "execution_count": 10,
   "metadata": {},
   "outputs": [
    {
     "data": {
      "text/plain": [
       "Text(0.5, 1.0, 'Gender Distribution of Data Scientists')"
      ]
     },
     "execution_count": 10,
     "metadata": {},
     "output_type": "execute_result"
    },
    {
     "data": {
      "image/png": "[encoded data removed]",
      "text/plain": [
       "<Figure size 576x360 with 1 Axes>"
      ]
     },
     "metadata": {
      "needs_background": "light"
     },
     "output_type": "display_data"
    }
   ],
   "source": [
    "plt.figure(figsize=(8,5))\n",
    "sns.countplot(df_relevant.Gender)\n",
    "plt.title('Gender Distribution of Data Scientists')"
   ]
  },
  {
   "cell_type": "code",
   "execution_count": 11,
   "metadata": {},
   "outputs": [
    {
     "data": {
      "text/plain": [
       "Text(0.5, 1.0, 'Distribution of Data Scientists by Country and Gender')"
      ]
     },
     "execution_count": 11,
     "metadata": {},
     "output_type": "execute_result"
    },
    {
     "data": {
      "image/png": "[encoded data removed]",
      "text/plain": [
       "<Figure size 576x360 with 1 Axes>"
      ]
     },
     "metadata": {
      "needs_background": "light"
     },
     "output_type": "display_data"
    }
   ],
   "source": [
    "plt.figure(figsize=(8,5))\n",
    "sns.countplot(x=\"Country\", hue=\"Gender\", data=df_relevant[df_relevant.Gender.isin(df_relevant.Gender.value_counts().index[:2])])\n",
    "plt.title('Distribution of Data Scientists by Country and Gender')"
   ]
  },
  {
   "cell_type": "markdown",
   "metadata": {},
   "source": [
    "Males out-number females in DS and ML field by a significant margin and this gap keeps widening from US to India and China"
   ]
  },
  {
   "cell_type": "markdown",
   "metadata": {},
   "source": [
    "### 1. Explore how levels of education and majors vary in across countries, esp US and India"
   ]
  },
  {
   "cell_type": "markdown",
   "metadata": {},
   "source": [
    "Analyzing Educational levels. Need to map values to better work with data. "
   ]
  },
  {
   "cell_type": "code",
   "execution_count": 12,
   "metadata": {},
   "outputs": [
    {
     "data": {
      "text/plain": [
       "array(['Doctoral degree', 'Master’s degree', 'Bachelor’s degree',\n",
       "       'Some college/university study without earning a bachelor’s degree',\n",
       "       'Professional degree', 'I prefer not to answer',\n",
       "       'No formal education past high school', nan], dtype=object)"
      ]
     },
     "execution_count": 12,
     "metadata": {},
     "output_type": "execute_result"
    }
   ],
   "source": [
    "df_relevant.Highest_education.unique()"
   ]
  },
  {
   "cell_type": "code",
   "execution_count": 13,
   "metadata": {},
   "outputs": [],
   "source": [
    "highest_edu_dict = {'Doctoral degree':'Doctoral', 'Bachelor’s degree':'Bachelors', 'Master’s degree':'Masters',\n",
    "                   'Professional degree':'Professional', \n",
    "                    'Some college/university study without earning a bachelor’s degree':'College_dropout',\n",
    "                   'I prefer not to answer':'No_answer', 'No formal education past high school':'HS'}\n",
    "df_relevant.Highest_education.replace(highest_edu_dict, inplace=True)\n",
    "df_relevant.fillna('No_answer', inplace=True)"
   ]
  },
  {
   "cell_type": "code",
   "execution_count": 14,
   "metadata": {
    "scrolled": false
   },
   "outputs": [
    {
     "data": {
      "text/plain": [
       "Text(0.5, 1.0, 'Educational levels of Data Scientists')"
      ]
     },
     "execution_count": 14,
     "metadata": {},
     "output_type": "execute_result"
    },
    {
     "data": {
      "image/png": "[encoded data removed]",
      "text/plain": [
       "<Figure size 1080x360 with 1 Axes>"
      ]
     },
     "metadata": {
      "needs_background": "light"
     },
     "output_type": "display_data"
    }
   ],
   "source": [
    "plt.figure(figsize=(15,5))\n",
    "sns.countplot(df_relevant.Highest_education)\n",
    "plt.title('Educational levels of Data Scientists')"
   ]
  },
  {
   "cell_type": "code",
   "execution_count": 15,
   "metadata": {},
   "outputs": [
    {
     "data": {
      "text/plain": [
       "Text(0.5, 1.0, 'Distribution of Data Scientists by Country and Educational level')"
      ]
     },
     "execution_count": 15,
     "metadata": {},
     "output_type": "execute_result"
    },
    {
     "data": {
      "image/png": "[encoded data removed]",
      "text/plain": [
       "<Figure size 720x360 with 1 Axes>"
      ]
     },
     "metadata": {
      "needs_background": "light"
     },
     "output_type": "display_data"
    }
   ],
   "source": [
    "plt.figure(figsize=(10,5))\n",
    "sns.countplot(x=\"Highest_education\", hue=\"Country\", data=df_relevant[df_relevant.Gender.isin(df_relevant.Gender.value_counts().index[:2])])\n",
    "plt.title('Distribution of Data Scientists by Country and Educational level')"
   ]
  },
  {
   "cell_type": "code",
   "execution_count": 44,
   "metadata": {},
   "outputs": [],
   "source": [
    "df_percent_count = (df_relevant\n",
    ".groupby('Country')['Highest_education']\n",
    ".value_counts(normalize=True)\n",
    ".mul(100)\n",
    ".rename('percent')\n",
    ".reset_index())"
   ]
  },
  {
   "cell_type": "code",
   "execution_count": 45,
   "metadata": {},
   "outputs": [
    {
     "data": {
      "text/plain": [
       "Text(0.5, 0.98, 'Education levels by Country')"
      ]
     },
     "execution_count": 45,
     "metadata": {},
     "output_type": "execute_result"
    },
    {
     "data": {
      "image/png": "[encoded data removed]",
      "text/plain": [
       "<Figure size 521.6x360 with 1 Axes>"
      ]
     },
     "metadata": {
      "needs_background": "light"
     },
     "output_type": "display_data"
    }
   ],
   "source": [
    "chart = df_percent_count.pipe((sns.catplot,'data'), x='Highest_education',y='percent',hue='Country',kind='bar')\n",
    "chart.set_xticklabels(rotation=90)\n",
    "chart.fig.suptitle('Education levels by Country')"
   ]
  },
  {
   "cell_type": "code",
   "execution_count": 18,
   "metadata": {},
   "outputs": [
    {
     "data": {
      "text/plain": [
       "array(['Other', 'Computer science (software engineering, etc.)',\n",
       "       'Social sciences (anthropology, psychology, sociology, etc.)',\n",
       "       'Mathematics or statistics',\n",
       "       'Information technology, networking, or system administration',\n",
       "       'Engineering (non-computer focused)',\n",
       "       'A business discipline (accounting, economics, finance, etc.)',\n",
       "       'Medical or life sciences (biology, chemistry, medicine, etc.)',\n",
       "       'Physics or astronomy',\n",
       "       'Humanities (history, literature, philosophy, etc.)',\n",
       "       'Environmental science or geology', 'I never declared a major',\n",
       "       'No_answer', 'Fine arts or performing arts'], dtype=object)"
      ]
     },
     "execution_count": 18,
     "metadata": {},
     "output_type": "execute_result"
    }
   ],
   "source": [
    "df_relevant.UG_major.unique()"
   ]
  },
  {
   "cell_type": "code",
   "execution_count": 19,
   "metadata": {},
   "outputs": [],
   "source": [
    "major_dict = {'Other':'Other', 'Engineering (non-computer focused)':'Engg_NonCS', \n",
    "              'Computer science (software engineering, etc.)':'CS',\n",
    "             'Social sciences (anthropology, psychology, sociology, etc.)':'Social',\n",
    "             'Mathematics or statistics':'Math', 'Physics or astronomy':'Physics', \n",
    "             'Information technology, networking, or system administration':'IT',\n",
    "             'A business discipline (accounting, economics, finance, etc.)':'Business',\n",
    "              'Environmental science or geology':'Environment',\n",
    "             'Medical or life sciences (biology, chemistry, medicine, etc.)':'Medicine',\n",
    "              'I never declared a major':'None','Humanities (history, literature, philosophy, etc.)':'Humanities',\n",
    "             'No_answer':'None', 'Fine arts or performing arts':'Arts'}"
   ]
  },
  {
   "cell_type": "code",
   "execution_count": 20,
   "metadata": {},
   "outputs": [],
   "source": [
    "df_relevant.UG_major.replace(major_dict, inplace=True)"
   ]
  },
  {
   "cell_type": "code",
   "execution_count": 21,
   "metadata": {},
   "outputs": [
    {
     "data": {
      "text/plain": [
       "<matplotlib.axes._subplots.AxesSubplot at 0x1c20591ff88>"
      ]
     },
     "execution_count": 21,
     "metadata": {},
     "output_type": "execute_result"
    },
    {
     "data": {
      "image/png": "[encoded data removed]",
      "text/plain": [
       "<Figure size 1080x360 with 1 Axes>"
      ]
     },
     "metadata": {
      "needs_background": "light"
     },
     "output_type": "display_data"
    }
   ],
   "source": [
    "plt.figure(figsize=(15,5))\n",
    "sns.countplot(df_relevant.UG_major)"
   ]
  },
  {
   "cell_type": "code",
   "execution_count": 27,
   "metadata": {},
   "outputs": [
    {
     "data": {
      "text/plain": [
       "CS             4277\n",
       "Engg_NonCS     2013\n",
       "Math           1152\n",
       "Business        714\n",
       "IT              480\n",
       "Medicine        408\n",
       "Other           395\n",
       "None            393\n",
       "Physics         355\n",
       "Social          297\n",
       "Humanities      137\n",
       "Environment     106\n",
       "Arts             50\n",
       "Name: UG_major, dtype: int64"
      ]
     },
     "execution_count": 27,
     "metadata": {},
     "output_type": "execute_result"
    }
   ],
   "source": [
    "df_relevant.UG_major.value_counts()"
   ]
  },
  {
   "cell_type": "code",
   "execution_count": 33,
   "metadata": {},
   "outputs": [],
   "source": [
    "df_relevant_major = df_relevant.copy()\n",
    "df_relevant_major = df_relevant_major[df_relevant_major.UG_major.isin(df_relevant_major.UG_major.value_counts().index[:5])]"
   ]
  },
  {
   "cell_type": "code",
   "execution_count": 40,
   "metadata": {},
   "outputs": [],
   "source": [
    "df_percent_major = (df_relevant_major\n",
    ".groupby('Country')['UG_major']\n",
    ".value_counts(normalize=True)\n",
    ".mul(100)\n",
    ".rename('percent')\n",
    ".reset_index())"
   ]
  },
  {
   "cell_type": "code",
   "execution_count": 43,
   "metadata": {},
   "outputs": [
    {
     "data": {
      "text/plain": [
       "Text(0.5, 0.98, 'UG Major by Country')"
      ]
     },
     "execution_count": 43,
     "metadata": {},
     "output_type": "execute_result"
    },
    {
     "data": {
      "image/png": "[encoded data removed]",
      "text/plain": [
       "<Figure size 521.6x360 with 1 Axes>"
      ]
     },
     "metadata": {
      "needs_background": "light"
     },
     "output_type": "display_data"
    }
   ],
   "source": [
    "chart = df_percent_major.pipe((sns.catplot,'data'), x='UG_major',y='percent',hue='Country',kind='bar')\n",
    "chart.set_xticklabels(rotation=90)\n",
    "chart.fig.suptitle('UG Major by Country')"
   ]
  },
  {
   "cell_type": "markdown",
   "metadata": {},
   "source": [
    "### 2. How are levels of education related to job roles?"
   ]
  },
  {
   "cell_type": "code",
   "execution_count": 62,
   "metadata": {},
   "outputs": [
    {
     "data": {
      "text/plain": [
       "array(['United States of America', 'India', 'China'], dtype=object)"
      ]
     },
     "execution_count": 62,
     "metadata": {},
     "output_type": "execute_result"
    }
   ],
   "source": [
    "df_relevant.Country.unique()"
   ]
  },
  {
   "cell_type": "code",
   "execution_count": 72,
   "metadata": {},
   "outputs": [
    {
     "data": {
      "text/plain": [
       "Student                    2894\n",
       "Data Scientist             1647\n",
       "Software Engineer          1368\n",
       "Data Analyst                952\n",
       "Other                       591\n",
       "No_answer                   440\n",
       "Not employed                412\n",
       "Business Analyst            350\n",
       "Data Engineer               344\n",
       "Research Scientist          336\n",
       "Consultant                  297\n",
       "Manager                     251\n",
       "Research Assistant          233\n",
       "Product/Project Manager     191\n",
       "Chief Officer               135\n",
       "Statistician                 78\n",
       "DBA/Database Engineer        68\n",
       "Marketing Analyst            55\n",
       "Salesperson                  46\n",
       "Principal Investigator       41\n",
       "Developer Advocate           41\n",
       "Data Journalist               7\n",
       "Name: Title, dtype: int64"
      ]
     },
     "execution_count": 72,
     "metadata": {},
     "output_type": "execute_result"
    }
   ],
   "source": [
    "df_relevant.Title.value_counts()"
   ]
  },
  {
   "cell_type": "code",
   "execution_count": 70,
   "metadata": {},
   "outputs": [
    {
     "data": {
      "image/png": "[encoded data removed]",
      "text/plain": [
       "<Figure size 432x288 with 1 Axes>"
      ]
     },
     "metadata": {},
     "output_type": "display_data"
    }
   ],
   "source": [
    "\n",
    "plt.pie(df_relevant.Title.value_counts()[:10], labels=df_relevant.Title.value_counts().index[:10],\n",
    "autopct='%1.1f%%', shadow=True, startangle=140)\n",
    "\n",
    "plt.axis('equal')\n",
    "plt.show()"
   ]
  },
  {
   "cell_type": "code",
   "execution_count": 60,
   "metadata": {},
   "outputs": [
    {
     "data": {
      "text/plain": [
       "Title\n",
       "Business Analyst             Masters\n",
       "Chief Officer                Masters\n",
       "Consultant                   Masters\n",
       "DBA/Database Engineer      Bachelors\n",
       "Data Analyst                 Masters\n",
       "Data Engineer                Masters\n",
       "Data Journalist            Bachelors\n",
       "Data Scientist               Masters\n",
       "Developer Advocate         Bachelors\n",
       "Manager                      Masters\n",
       "Marketing Analyst            Masters\n",
       "No_answer                  No_answer\n",
       "Not employed                 Masters\n",
       "Other                        Masters\n",
       "Principal Investigator      Doctoral\n",
       "Product/Project Manager      Masters\n",
       "Research Assistant           Masters\n",
       "Research Scientist          Doctoral\n",
       "Salesperson                  Masters\n",
       "Software Engineer          Bachelors\n",
       "Statistician                 Masters\n",
       "Student                    Bachelors\n",
       "Name: top, dtype: object"
      ]
     },
     "execution_count": 60,
     "metadata": {},
     "output_type": "execute_result"
    }
   ],
   "source": [
    "df_relevant.groupby(['Title'])['Highest_education'].describe()['top']"
   ]
  },
  {
   "cell_type": "code",
   "execution_count": 73,
   "metadata": {},
   "outputs": [],
   "source": [
    "pd.merge(df_relevant[df_relevant.Country=='United States of America'].groupby(['Title'])['Highest_education'].describe()['top'],\n",
    "        df_relevant.groupby(['Title'])['Highest_education'].describe()['top'], left_index=True, right_index=True, \n",
    "         suffixes=('_US', '_Overall'), how='outer').to_clipboard()"
   ]
  },
  {
   "cell_type": "markdown",
   "metadata": {},
   "source": [
    "*We observe that most roles need require a Masters role, also lot more roles need Masters in the US* "
   ]
  },
  {
   "cell_type": "code",
   "execution_count": 56,
   "metadata": {},
   "outputs": [
    {
     "data": {
      "text/plain": [
       "<matplotlib.axes._subplots.AxesSubplot at 0x1c205cb0508>"
      ]
     },
     "execution_count": 56,
     "metadata": {},
     "output_type": "execute_result"
    },
    {
     "data": {
      "image/png": "[encoded data removed]",
      "text/plain": [
       "<Figure size 432x288 with 1 Axes>"
      ]
     },
     "metadata": {
      "needs_background": "light"
     },
     "output_type": "display_data"
    }
   ],
   "source": [
    "sns.countplot(df_relevant.groupby('Title')['Highest_education'].describe()['top'])"
   ]
  },
  {
   "cell_type": "code",
   "execution_count": 55,
   "metadata": {},
   "outputs": [],
   "source": [
    "df_relevant.groupby('Title')['Highest_education'].value_counts(normalize=True).to_excel('JobTitle_by_Education.xlsx')"
   ]
  },
  {
   "cell_type": "markdown",
   "metadata": {},
   "source": [
    "### 3. What are the responsibilites for each role?"
   ]
  },
  {
   "cell_type": "code",
   "execution_count": 74,
   "metadata": {},
   "outputs": [
    {
     "data": {
      "text/html": [
       "<div>\n",
       "<style scoped>\n",
       "    .dataframe tbody tr th:only-of-type {\n",
       "        vertical-align: middle;\n",
       "    }\n",
       "\n",
       "    .dataframe tbody tr th {\n",
       "        vertical-align: top;\n",
       "    }\n",
       "\n",
       "    .dataframe thead th {\n",
       "        text-align: right;\n",
       "    }\n",
       "</style>\n",
       "<table border=\"1\" class=\"dataframe\">\n",
       "  <thead>\n",
       "    <tr style=\"text-align: right;\">\n",
       "      <th></th>\n",
       "      <th>Activities_Analyze</th>\n",
       "      <th>Activities_ML_service</th>\n",
       "      <th>Activities_Data_infra</th>\n",
       "      <th>Activities_Prototyping</th>\n",
       "      <th>Activities_Research</th>\n",
       "      <th>Activities_None</th>\n",
       "      <th>Activities_Other</th>\n",
       "    </tr>\n",
       "  </thead>\n",
       "  <tbody>\n",
       "    <tr>\n",
       "      <td>0</td>\n",
       "      <td>Analyze and understand data to influence produ...</td>\n",
       "      <td>Build and/or run a machine learning service th...</td>\n",
       "      <td>Build and/or run the data infrastructure that ...</td>\n",
       "      <td>No_answer</td>\n",
       "      <td>Do research that advances the state of the art...</td>\n",
       "      <td>No_answer</td>\n",
       "      <td>No_answer</td>\n",
       "    </tr>\n",
       "    <tr>\n",
       "      <td>2</td>\n",
       "      <td>Analyze and understand data to influence produ...</td>\n",
       "      <td>No_answer</td>\n",
       "      <td>No_answer</td>\n",
       "      <td>No_answer</td>\n",
       "      <td>No_answer</td>\n",
       "      <td>No_answer</td>\n",
       "      <td>No_answer</td>\n",
       "    </tr>\n",
       "    <tr>\n",
       "      <td>3</td>\n",
       "      <td>No_answer</td>\n",
       "      <td>No_answer</td>\n",
       "      <td>No_answer</td>\n",
       "      <td>No_answer</td>\n",
       "      <td>No_answer</td>\n",
       "      <td>No_answer</td>\n",
       "      <td>No_answer</td>\n",
       "    </tr>\n",
       "    <tr>\n",
       "      <td>4</td>\n",
       "      <td>No_answer</td>\n",
       "      <td>No_answer</td>\n",
       "      <td>No_answer</td>\n",
       "      <td>No_answer</td>\n",
       "      <td>No_answer</td>\n",
       "      <td>No_answer</td>\n",
       "      <td>Other</td>\n",
       "    </tr>\n",
       "    <tr>\n",
       "      <td>7</td>\n",
       "      <td>No_answer</td>\n",
       "      <td>Build and/or run a machine learning service th...</td>\n",
       "      <td>No_answer</td>\n",
       "      <td>No_answer</td>\n",
       "      <td>No_answer</td>\n",
       "      <td>No_answer</td>\n",
       "      <td>No_answer</td>\n",
       "    </tr>\n",
       "    <tr>\n",
       "      <td>...</td>\n",
       "      <td>...</td>\n",
       "      <td>...</td>\n",
       "      <td>...</td>\n",
       "      <td>...</td>\n",
       "      <td>...</td>\n",
       "      <td>...</td>\n",
       "      <td>...</td>\n",
       "    </tr>\n",
       "    <tr>\n",
       "      <td>23812</td>\n",
       "      <td>No_answer</td>\n",
       "      <td>No_answer</td>\n",
       "      <td>Build and/or run the data infrastructure that ...</td>\n",
       "      <td>No_answer</td>\n",
       "      <td>No_answer</td>\n",
       "      <td>No_answer</td>\n",
       "      <td>No_answer</td>\n",
       "    </tr>\n",
       "    <tr>\n",
       "      <td>23824</td>\n",
       "      <td>No_answer</td>\n",
       "      <td>No_answer</td>\n",
       "      <td>No_answer</td>\n",
       "      <td>No_answer</td>\n",
       "      <td>No_answer</td>\n",
       "      <td>No_answer</td>\n",
       "      <td>No_answer</td>\n",
       "    </tr>\n",
       "    <tr>\n",
       "      <td>23840</td>\n",
       "      <td>No_answer</td>\n",
       "      <td>No_answer</td>\n",
       "      <td>No_answer</td>\n",
       "      <td>No_answer</td>\n",
       "      <td>Do research that advances the state of the art...</td>\n",
       "      <td>No_answer</td>\n",
       "      <td>No_answer</td>\n",
       "    </tr>\n",
       "    <tr>\n",
       "      <td>23845</td>\n",
       "      <td>No_answer</td>\n",
       "      <td>No_answer</td>\n",
       "      <td>No_answer</td>\n",
       "      <td>No_answer</td>\n",
       "      <td>No_answer</td>\n",
       "      <td>No_answer</td>\n",
       "      <td>No_answer</td>\n",
       "    </tr>\n",
       "    <tr>\n",
       "      <td>23849</td>\n",
       "      <td>Analyze and understand data to influence produ...</td>\n",
       "      <td>No_answer</td>\n",
       "      <td>No_answer</td>\n",
       "      <td>No_answer</td>\n",
       "      <td>No_answer</td>\n",
       "      <td>No_answer</td>\n",
       "      <td>No_answer</td>\n",
       "    </tr>\n",
       "  </tbody>\n",
       "</table>\n",
       "<p>10777 rows × 7 columns</p>\n",
       "</div>"
      ],
      "text/plain": [
       "                                      Activities_Analyze  \\\n",
       "0      Analyze and understand data to influence produ...   \n",
       "2      Analyze and understand data to influence produ...   \n",
       "3                                              No_answer   \n",
       "4                                              No_answer   \n",
       "7                                              No_answer   \n",
       "...                                                  ...   \n",
       "23812                                          No_answer   \n",
       "23824                                          No_answer   \n",
       "23840                                          No_answer   \n",
       "23845                                          No_answer   \n",
       "23849  Analyze and understand data to influence produ...   \n",
       "\n",
       "                                   Activities_ML_service  \\\n",
       "0      Build and/or run a machine learning service th...   \n",
       "2                                              No_answer   \n",
       "3                                              No_answer   \n",
       "4                                              No_answer   \n",
       "7      Build and/or run a machine learning service th...   \n",
       "...                                                  ...   \n",
       "23812                                          No_answer   \n",
       "23824                                          No_answer   \n",
       "23840                                          No_answer   \n",
       "23845                                          No_answer   \n",
       "23849                                          No_answer   \n",
       "\n",
       "                                   Activities_Data_infra  \\\n",
       "0      Build and/or run the data infrastructure that ...   \n",
       "2                                              No_answer   \n",
       "3                                              No_answer   \n",
       "4                                              No_answer   \n",
       "7                                              No_answer   \n",
       "...                                                  ...   \n",
       "23812  Build and/or run the data infrastructure that ...   \n",
       "23824                                          No_answer   \n",
       "23840                                          No_answer   \n",
       "23845                                          No_answer   \n",
       "23849                                          No_answer   \n",
       "\n",
       "      Activities_Prototyping  \\\n",
       "0                  No_answer   \n",
       "2                  No_answer   \n",
       "3                  No_answer   \n",
       "4                  No_answer   \n",
       "7                  No_answer   \n",
       "...                      ...   \n",
       "23812              No_answer   \n",
       "23824              No_answer   \n",
       "23840              No_answer   \n",
       "23845              No_answer   \n",
       "23849              No_answer   \n",
       "\n",
       "                                     Activities_Research Activities_None  \\\n",
       "0      Do research that advances the state of the art...       No_answer   \n",
       "2                                              No_answer       No_answer   \n",
       "3                                              No_answer       No_answer   \n",
       "4                                              No_answer       No_answer   \n",
       "7                                              No_answer       No_answer   \n",
       "...                                                  ...             ...   \n",
       "23812                                          No_answer       No_answer   \n",
       "23824                                          No_answer       No_answer   \n",
       "23840  Do research that advances the state of the art...       No_answer   \n",
       "23845                                          No_answer       No_answer   \n",
       "23849                                          No_answer       No_answer   \n",
       "\n",
       "      Activities_Other  \n",
       "0            No_answer  \n",
       "2            No_answer  \n",
       "3            No_answer  \n",
       "4                Other  \n",
       "7            No_answer  \n",
       "...                ...  \n",
       "23812        No_answer  \n",
       "23824        No_answer  \n",
       "23840        No_answer  \n",
       "23845        No_answer  \n",
       "23849        No_answer  \n",
       "\n",
       "[10777 rows x 7 columns]"
      ]
     },
     "execution_count": 74,
     "metadata": {},
     "output_type": "execute_result"
    }
   ],
   "source": [
    "df_relevant[['Activities_Analyze','Activities_ML_service','Activities_Data_infra','Activities_Prototyping',\n",
    "                       'Activities_Research','Activities_None','Activities_Other']]"
   ]
  },
  {
   "cell_type": "code",
   "execution_count": 102,
   "metadata": {},
   "outputs": [],
   "source": [
    "df_activities = df_relevant.copy()"
   ]
  },
  {
   "cell_type": "code",
   "execution_count": 103,
   "metadata": {},
   "outputs": [
    {
     "name": "stdout",
     "output_type": "stream",
     "text": [
      "['Analyze and understand data to influence product or business decisions'\n",
      " 'No_answer']\n",
      "['Build and/or run a machine learning service that operationally improves my product or workflows'\n",
      " 'No_answer']\n",
      "['Build and/or run the data infrastructure that my business uses for storing, analyzing, and operationalizing data'\n",
      " 'No_answer']\n",
      "['No_answer'\n",
      " 'Build prototypes to explore applying machine learning to new areas']\n",
      "['Do research that advances the state of the art of machine learning'\n",
      " 'No_answer']\n",
      "['No_answer'\n",
      " 'None of these activities are an important part of my role at work']\n",
      "['No_answer' 'Other']\n"
     ]
    }
   ],
   "source": [
    "for col in ['Activities_Analyze','Activities_ML_service','Activities_Data_infra','Activities_Prototyping',\n",
    "                       'Activities_Research','Activities_None','Activities_Other']:\n",
    "    print(df_relevant[col].unique())"
   ]
  },
  {
   "cell_type": "code",
   "execution_count": 104,
   "metadata": {},
   "outputs": [],
   "source": [
    "def activities_map(c):\n",
    "    return int(c!='No_answer')"
   ]
  },
  {
   "cell_type": "code",
   "execution_count": 105,
   "metadata": {},
   "outputs": [],
   "source": [
    "df_activities[['Activities_Analyze','Activities_ML_service','Activities_Data_infra','Activities_Prototyping',\n",
    "                       'Activities_Research','Activities_None','Activities_Other']] = df_activities[['Activities_Analyze','Activities_ML_service','Activities_Data_infra','Activities_Prototyping',\n",
    "                       'Activities_Research','Activities_None','Activities_Other']].applymap(activities_map)"
   ]
  },
  {
   "cell_type": "code",
   "execution_count": 106,
   "metadata": {},
   "outputs": [
    {
     "data": {
      "text/html": [
       "<div>\n",
       "<style scoped>\n",
       "    .dataframe tbody tr th:only-of-type {\n",
       "        vertical-align: middle;\n",
       "    }\n",
       "\n",
       "    .dataframe tbody tr th {\n",
       "        vertical-align: top;\n",
       "    }\n",
       "\n",
       "    .dataframe thead th {\n",
       "        text-align: right;\n",
       "    }\n",
       "</style>\n",
       "<table border=\"1\" class=\"dataframe\">\n",
       "  <thead>\n",
       "    <tr style=\"text-align: right;\">\n",
       "      <th></th>\n",
       "      <th>Activities_Analyze</th>\n",
       "      <th>Activities_ML_service</th>\n",
       "      <th>Activities_Data_infra</th>\n",
       "      <th>Activities_Prototyping</th>\n",
       "      <th>Activities_Research</th>\n",
       "      <th>Activities_None</th>\n",
       "      <th>Activities_Other</th>\n",
       "    </tr>\n",
       "  </thead>\n",
       "  <tbody>\n",
       "    <tr>\n",
       "      <td>0</td>\n",
       "      <td>1</td>\n",
       "      <td>1</td>\n",
       "      <td>1</td>\n",
       "      <td>0</td>\n",
       "      <td>1</td>\n",
       "      <td>0</td>\n",
       "      <td>0</td>\n",
       "    </tr>\n",
       "    <tr>\n",
       "      <td>2</td>\n",
       "      <td>1</td>\n",
       "      <td>0</td>\n",
       "      <td>0</td>\n",
       "      <td>0</td>\n",
       "      <td>0</td>\n",
       "      <td>0</td>\n",
       "      <td>0</td>\n",
       "    </tr>\n",
       "    <tr>\n",
       "      <td>3</td>\n",
       "      <td>0</td>\n",
       "      <td>0</td>\n",
       "      <td>0</td>\n",
       "      <td>0</td>\n",
       "      <td>0</td>\n",
       "      <td>0</td>\n",
       "      <td>0</td>\n",
       "    </tr>\n",
       "    <tr>\n",
       "      <td>4</td>\n",
       "      <td>0</td>\n",
       "      <td>0</td>\n",
       "      <td>0</td>\n",
       "      <td>0</td>\n",
       "      <td>0</td>\n",
       "      <td>0</td>\n",
       "      <td>1</td>\n",
       "    </tr>\n",
       "    <tr>\n",
       "      <td>7</td>\n",
       "      <td>0</td>\n",
       "      <td>1</td>\n",
       "      <td>0</td>\n",
       "      <td>0</td>\n",
       "      <td>0</td>\n",
       "      <td>0</td>\n",
       "      <td>0</td>\n",
       "    </tr>\n",
       "  </tbody>\n",
       "</table>\n",
       "</div>"
      ],
      "text/plain": [
       "   Activities_Analyze  Activities_ML_service  Activities_Data_infra  \\\n",
       "0                   1                      1                      1   \n",
       "2                   1                      0                      0   \n",
       "3                   0                      0                      0   \n",
       "4                   0                      0                      0   \n",
       "7                   0                      1                      0   \n",
       "\n",
       "   Activities_Prototyping  Activities_Research  Activities_None  \\\n",
       "0                       0                    1                0   \n",
       "2                       0                    0                0   \n",
       "3                       0                    0                0   \n",
       "4                       0                    0                0   \n",
       "7                       0                    0                0   \n",
       "\n",
       "   Activities_Other  \n",
       "0                 0  \n",
       "2                 0  \n",
       "3                 0  \n",
       "4                 1  \n",
       "7                 0  "
      ]
     },
     "execution_count": 106,
     "metadata": {},
     "output_type": "execute_result"
    }
   ],
   "source": [
    "df_activities[['Activities_Analyze','Activities_ML_service','Activities_Data_infra','Activities_Prototyping',\n",
    "                       'Activities_Research','Activities_None','Activities_Other']].head()"
   ]
  },
  {
   "cell_type": "code",
   "execution_count": 107,
   "metadata": {},
   "outputs": [
    {
     "data": {
      "text/html": [
       "<div>\n",
       "<style scoped>\n",
       "    .dataframe tbody tr th:only-of-type {\n",
       "        vertical-align: middle;\n",
       "    }\n",
       "\n",
       "    .dataframe tbody tr th {\n",
       "        vertical-align: top;\n",
       "    }\n",
       "\n",
       "    .dataframe thead th {\n",
       "        text-align: right;\n",
       "    }\n",
       "</style>\n",
       "<table border=\"1\" class=\"dataframe\">\n",
       "  <thead>\n",
       "    <tr style=\"text-align: right;\">\n",
       "      <th></th>\n",
       "      <th>Activities_Analyze</th>\n",
       "      <th>Activities_ML_service</th>\n",
       "      <th>Activities_Data_infra</th>\n",
       "      <th>Activities_Prototyping</th>\n",
       "      <th>Activities_Research</th>\n",
       "      <th>Activities_None</th>\n",
       "      <th>Activities_Other</th>\n",
       "    </tr>\n",
       "  </thead>\n",
       "  <tbody>\n",
       "    <tr>\n",
       "      <td>0</td>\n",
       "      <td>Analyze and understand data to influence produ...</td>\n",
       "      <td>Build and/or run a machine learning service th...</td>\n",
       "      <td>Build and/or run the data infrastructure that ...</td>\n",
       "      <td>No_answer</td>\n",
       "      <td>Do research that advances the state of the art...</td>\n",
       "      <td>No_answer</td>\n",
       "      <td>No_answer</td>\n",
       "    </tr>\n",
       "    <tr>\n",
       "      <td>2</td>\n",
       "      <td>Analyze and understand data to influence produ...</td>\n",
       "      <td>No_answer</td>\n",
       "      <td>No_answer</td>\n",
       "      <td>No_answer</td>\n",
       "      <td>No_answer</td>\n",
       "      <td>No_answer</td>\n",
       "      <td>No_answer</td>\n",
       "    </tr>\n",
       "    <tr>\n",
       "      <td>3</td>\n",
       "      <td>No_answer</td>\n",
       "      <td>No_answer</td>\n",
       "      <td>No_answer</td>\n",
       "      <td>No_answer</td>\n",
       "      <td>No_answer</td>\n",
       "      <td>No_answer</td>\n",
       "      <td>No_answer</td>\n",
       "    </tr>\n",
       "    <tr>\n",
       "      <td>4</td>\n",
       "      <td>No_answer</td>\n",
       "      <td>No_answer</td>\n",
       "      <td>No_answer</td>\n",
       "      <td>No_answer</td>\n",
       "      <td>No_answer</td>\n",
       "      <td>No_answer</td>\n",
       "      <td>Other</td>\n",
       "    </tr>\n",
       "    <tr>\n",
       "      <td>7</td>\n",
       "      <td>No_answer</td>\n",
       "      <td>Build and/or run a machine learning service th...</td>\n",
       "      <td>No_answer</td>\n",
       "      <td>No_answer</td>\n",
       "      <td>No_answer</td>\n",
       "      <td>No_answer</td>\n",
       "      <td>No_answer</td>\n",
       "    </tr>\n",
       "  </tbody>\n",
       "</table>\n",
       "</div>"
      ],
      "text/plain": [
       "                                  Activities_Analyze  \\\n",
       "0  Analyze and understand data to influence produ...   \n",
       "2  Analyze and understand data to influence produ...   \n",
       "3                                          No_answer   \n",
       "4                                          No_answer   \n",
       "7                                          No_answer   \n",
       "\n",
       "                               Activities_ML_service  \\\n",
       "0  Build and/or run a machine learning service th...   \n",
       "2                                          No_answer   \n",
       "3                                          No_answer   \n",
       "4                                          No_answer   \n",
       "7  Build and/or run a machine learning service th...   \n",
       "\n",
       "                               Activities_Data_infra Activities_Prototyping  \\\n",
       "0  Build and/or run the data infrastructure that ...              No_answer   \n",
       "2                                          No_answer              No_answer   \n",
       "3                                          No_answer              No_answer   \n",
       "4                                          No_answer              No_answer   \n",
       "7                                          No_answer              No_answer   \n",
       "\n",
       "                                 Activities_Research Activities_None  \\\n",
       "0  Do research that advances the state of the art...       No_answer   \n",
       "2                                          No_answer       No_answer   \n",
       "3                                          No_answer       No_answer   \n",
       "4                                          No_answer       No_answer   \n",
       "7                                          No_answer       No_answer   \n",
       "\n",
       "  Activities_Other  \n",
       "0        No_answer  \n",
       "2        No_answer  \n",
       "3        No_answer  \n",
       "4            Other  \n",
       "7        No_answer  "
      ]
     },
     "execution_count": 107,
     "metadata": {},
     "output_type": "execute_result"
    }
   ],
   "source": [
    "df_relevant[['Activities_Analyze','Activities_ML_service','Activities_Data_infra','Activities_Prototyping',\n",
    "                       'Activities_Research','Activities_None','Activities_Other']].head()"
   ]
  },
  {
   "cell_type": "code",
   "execution_count": 110,
   "metadata": {},
   "outputs": [
    {
     "data": {
      "text/plain": [
       "<matplotlib.axes._subplots.AxesSubplot at 0x1c21827edc8>"
      ]
     },
     "execution_count": 110,
     "metadata": {},
     "output_type": "execute_result"
    },
    {
     "data": {
      "image/png": "[encoded data removed]",
      "text/plain": [
       "<Figure size 720x648 with 2 Axes>"
      ]
     },
     "metadata": {
      "needs_background": "light"
     },
     "output_type": "display_data"
    }
   ],
   "source": [
    "plt.figure(figsize=(10, 9))\n",
    "sns.heatmap(df_activities.groupby('Title')[['Activities_Analyze','Activities_ML_service','Activities_Data_infra',\n",
    "                                'Activities_Prototyping', 'Activities_Research','Activities_None',\n",
    "                                'Activities_Other']].mean().T[['Data Scientist','Data Engineer','Data Analyst',\n",
    "                                                               'Software Engineer','Business Analyst','DBA/Database Engineer',\n",
    "                                                              'Research Scientist']], cmap='coolwarm')"
   ]
  },
  {
   "cell_type": "code",
   "execution_count": null,
   "metadata": {},
   "outputs": [],
   "source": []
  }
 ],
 "metadata": {
  "kernelspec": {
   "display_name": "Python 3",
   "language": "python",
   "name": "python3"
  },
  "language_info": {
   "codemirror_mode": {
    "name": "ipython",
    "version": 3
   },
   "file_extension": ".py",
   "mimetype": "text/x-python",
   "name": "python",
   "nbconvert_exporter": "python",
   "pygments_lexer": "ipython3",
   "version": "3.7.4"
  }
 },
 "nbformat": 4,
 "nbformat_minor": 2
}

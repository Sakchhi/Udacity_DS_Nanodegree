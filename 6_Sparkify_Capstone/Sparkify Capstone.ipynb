{
 "cells": [
  {
   "cell_type": "code",
   "execution_count": 1,
   "metadata": {},
   "outputs": [
    {
     "name": "stdout",
     "output_type": "stream",
     "text": [
      "Waiting for a Spark session to start...\n",
      "Spark Initialization Done! ApplicationId = app-20200414144241-0002\n",
      "KERNEL_ID = 42aa9e45-fc0c-4252-857b-c3067905a3bd\n"
     ]
    }
   ],
   "source": [
    "\n",
    "import ibmos2spark\n",
    "# @hidden_cell\n",
    "credentials = {\n",
    "    'endpoint': 'YOUR_ENDPOINT_HERE',\n",
    "    'service_id': 'YOUR_SERVICE_ID',\n",
    "    'iam_service_endpoint': 'YOUR_IAM_SERVICE_ACCOUNT',\n",
    "    'api_key': 'YOUR_API_KEY'\n",
    "}\n",
    "\n",
    "configuration_name = 'CONFIGURATION'\n",
    "cos = ibmos2spark.CloudObjectStorage(sc, credentials, configuration_name, 'bluemix_cos')\n",
    "\n",
    "from pyspark.sql import SparkSession\n",
    "spark = SparkSession.builder.getOrCreate()\n",
    "# Since JSON data can be semi-structured and contain additional metadata, it is possible that you might face issues with the DataFrame layout.\n",
    "# Please read the documentation of 'SparkSession.read()' to learn more about the possibilities to adjust the data loading.\n",
    "# PySpark documentation: http://spark.apache.org/docs/2.0.2/api/python/pyspark.sql.html#pyspark.sql.DataFrameReader.json\n",
    "\n",
    "# df_data_1 = spark.read.json(cos.url('medium-sparkify-event-data.json', 'sparkify-donotdelete-pr-dt38yc2ek9gkw7'))\n",
    "# df_data_1.take(5)\n"
   ]
  },
  {
   "cell_type": "code",
   "execution_count": 2,
   "metadata": {},
   "outputs": [],
   "source": [
    "from pyspark.sql.functions import avg, col, concat, desc, explode, lit, min, max as Fmax, split, udf\n",
    "from pyspark.sql.functions import sum as Fsum\n",
    "from pyspark.sql.types import IntegerType\n",
    "from pyspark.sql import Window\n",
    "\n",
    "from pyspark.ml import Pipeline\n",
    "from pyspark.ml.classification import LogisticRegression, GBTClassifier,LinearSVC, RandomForestClassifier\n",
    "from pyspark.ml.evaluation import MulticlassClassificationEvaluator\n",
    "from pyspark.ml.feature import StandardScaler, VectorAssembler\n",
    "from pyspark.ml.tuning import CrossValidator, ParamGridBuilder\n",
    "\n",
    "import pandas as pd\n",
    "import numpy as np\n",
    "import matplotlib.pyplot as plt\n",
    "import seaborn as sns\n",
    "\n",
    "import datetime\n",
    "\n",
    "from time import time"
   ]
  },
  {
   "cell_type": "code",
   "execution_count": 3,
   "metadata": {},
   "outputs": [
    {
     "data": {
      "text/plain": [
       "[Row(artist='Martin Orford', auth='Logged In', firstName='Joseph', gender='M', itemInSession=20, lastName='Morales', length=597.55057, level='free', location='Corpus Christi, TX', method='PUT', page='NextSong', registration=1532063507000, sessionId=292, song='Grand Designs', status=200, ts=1538352011000, userAgent='\"Mozilla/5.0 (Macintosh; Intel Mac OS X 10_9_4) AppleWebKit/537.36 (KHTML, like Gecko) Chrome/36.0.1985.125 Safari/537.36\"', userId='293'),\n",
       " Row(artist=\"John Brown's Body\", auth='Logged In', firstName='Sawyer', gender='M', itemInSession=74, lastName='Larson', length=380.21179, level='free', location='Houston-The Woodlands-Sugar Land, TX', method='PUT', page='NextSong', registration=1538069638000, sessionId=97, song='Bulls', status=200, ts=1538352025000, userAgent='\"Mozilla/5.0 (Macintosh; Intel Mac OS X 10_9_4) AppleWebKit/537.36 (KHTML, like Gecko) Chrome/36.0.1985.143 Safari/537.36\"', userId='98'),\n",
       " Row(artist='Afroman', auth='Logged In', firstName='Maverick', gender='M', itemInSession=184, lastName='Santiago', length=202.37016, level='paid', location='Orlando-Kissimmee-Sanford, FL', method='PUT', page='NextSong', registration=1535953455000, sessionId=178, song='Because I Got High', status=200, ts=1538352118000, userAgent='\"Mozilla/5.0 (Macintosh; Intel Mac OS X 10_9_4) AppleWebKit/537.36 (KHTML, like Gecko) Chrome/36.0.1985.143 Safari/537.36\"', userId='179'),\n",
       " Row(artist=None, auth='Logged In', firstName='Maverick', gender='M', itemInSession=185, lastName='Santiago', length=None, level='paid', location='Orlando-Kissimmee-Sanford, FL', method='PUT', page='Logout', registration=1535953455000, sessionId=178, song=None, status=307, ts=1538352119000, userAgent='\"Mozilla/5.0 (Macintosh; Intel Mac OS X 10_9_4) AppleWebKit/537.36 (KHTML, like Gecko) Chrome/36.0.1985.143 Safari/537.36\"', userId='179'),\n",
       " Row(artist='Lily Allen', auth='Logged In', firstName='Gianna', gender='F', itemInSession=22, lastName='Campos', length=194.53342, level='paid', location='Mobile, AL', method='PUT', page='NextSong', registration=1535931018000, sessionId=245, song='Smile (Radio Edit)', status=200, ts=1538352124000, userAgent='Mozilla/5.0 (Windows NT 6.1; WOW64; rv:31.0) Gecko/20100101 Firefox/31.0', userId='246')]"
      ]
     },
     "execution_count": 3,
     "metadata": {},
     "output_type": "execute_result"
    }
   ],
   "source": [
    "df_data_1 = spark.read.json(cos.url('medium-sparkify-event-data.json', 'sparkify-donotdelete-pr-dt38yc2ek9gkw7'))\n",
    "df_data_1.take(5)"
   ]
  },
  {
   "cell_type": "code",
   "execution_count": 4,
   "metadata": {},
   "outputs": [
    {
     "data": {
      "text/plain": [
       "528005"
      ]
     },
     "execution_count": 4,
     "metadata": {},
     "output_type": "execute_result"
    }
   ],
   "source": [
    "df = df_data_1.dropna(how = 'any', subset = ['userId', 'sessionId'])\n",
    "df = df[df.userId != \"\"]\n",
    "df.count()"
   ]
  },
  {
   "cell_type": "code",
   "execution_count": 5,
   "metadata": {},
   "outputs": [],
   "source": [
    "new_ts = udf(lambda x: datetime.datetime.fromtimestamp(x / 1000.0).strftime(\"%m-%d-%Y %H:%M:%S\"))\n",
    "df = df.withColumn('updated_registration', new_ts('registration'))\n",
    "df = df.withColumn('updated_ts', new_ts('ts'))"
   ]
  },
  {
   "cell_type": "code",
   "execution_count": 6,
   "metadata": {},
   "outputs": [],
   "source": [
    "flag_downgrade_event = udf(lambda x: 1 if x == \"Submit Downgrade\" else 0, IntegerType())\n",
    "df = df.withColumn(\"downgrade_event\", flag_downgrade_event(\"page\"))\n",
    "\n",
    "windowval = Window.partitionBy('userId')\n",
    "df = df.withColumn('downgrade', Fmax('downgrade_event').over(windowval))"
   ]
  },
  {
   "cell_type": "code",
   "execution_count": 7,
   "metadata": {},
   "outputs": [],
   "source": [
    "# define a churn label\n",
    "churn_value = udf(lambda x: 1 if x == 'Cancellation Confirmation' else 0, IntegerType())\n",
    "df = df.withColumn(\"churn_value\", churn_value(\"page\"))\n",
    "\n",
    "churn_window = Window.partitionBy('UserId')\n",
    "df = df.withColumn(\"user_churn\", Fmax('churn_value').over(churn_window))"
   ]
  },
  {
   "cell_type": "markdown",
   "metadata": {},
   "source": [
    "### Feature Engineering"
   ]
  },
  {
   "cell_type": "code",
   "execution_count": 8,
   "metadata": {},
   "outputs": [],
   "source": [
    "total_songs = df.select('userId', 'song').groupBy('userId').count().withColumnRenamed('count', 'total_songs')\n",
    "total_length = df.select('userId', 'length').groupBy('userId').sum().withColumnRenamed('sum(length)', 'total_length')\n",
    "thumbs_up = df.select('userId', 'page').where(df.page == 'Thumbs Up').groupBy('userId').count().withColumnRenamed('count', 'thumbs_up')\n",
    "thumbs_down = df.select('userId', 'page').where(df.page == 'Thumbs Down').groupBy('userId').count().withColumnRenamed('count', 'thumbs_down')\n",
    "user_lifetime = df.select('userId', 'registration', 'ts').withColumn('tot_lifetime', (df.ts - df.registration)).groupBy('userId').agg({'tot_lifetime' : 'max'})\\\n",
    "    .withColumnRenamed('max(tot_lifetime)', 'tot_lifetime').select('userId', (col('tot_lifetime')/1000/3600/24).alias('user_lifetime'))\n",
    "friends_added = df.select('userId', 'page').where(df.page == 'Add Friend').groupBy('userId').count().withColumnRenamed('count', 'friends_added')\n",
    "songs_per_session = df.where('page == \"NextSong\"').groupby(['userId', 'sessionId']).count().groupby('userId')\\\n",
    "          .agg({'count' : 'avg'}).withColumnRenamed('avg(count)', 'songs_per_session')\n",
    "total_artists = df.filter(df.page == \"NextSong\").select(\"userId\", \"artist\").dropDuplicates().groupby(\"userId\").count()\\\n",
    "         .withColumnRenamed(\"count\", \"total_artists\")\n",
    "gender = df.select('userId', 'gender').dropDuplicates().replace(['F', 'M'], ['1', '0'], 'gender').select('userId', col('gender').cast('int'))\n",
    "playlist_added = df.select('userID','page').where(df.page == 'Add to Playlist').groupBy('userID').count().withColumnRenamed('count', 'playlist_added')\n",
    "downgrade = df.select('userId', 'downgrade').dropDuplicates().select('userId', col('downgrade'))\n",
    "user_churn = df.select('userId', col('user_churn')).dropDuplicates()\n"
   ]
  },
  {
   "cell_type": "code",
   "execution_count": 9,
   "metadata": {},
   "outputs": [
    {
     "name": "stdout",
     "output_type": "stream",
     "text": [
      "+-----------+------------------+---------+-----------+------------------+------------------+-------------+--------------+------+-------------+---------+----------+\n",
      "|total_songs|      total_length|thumbs_up|thumbs_down|     user_lifetime| songs_per_session|friends_added|playlist_added|gender|total_artists|downgrade|user_churn|\n",
      "+-----------+------------------+---------+-----------+------------------+------------------+-------------+--------------+------+-------------+---------+----------+\n",
      "|        137|25870.950739999997|        4|          3|14.328449074074074|              48.0|            3|             1|     1|           94|        0|         1|\n",
      "|        395| 78695.82683999998|       15|          5| 53.32314814814814|              62.0|            2|             6|     0|          287|        0|         1|\n",
      "|         84|15813.771070000003|        3|          1|105.42211805555554|20.666666666666668|            3|             2|     0|           61|        0|         0|\n",
      "|       2156|      456664.04058|      102|         15| 112.5537962962963|           114.125|           26|            45|     1|         1240|        0|         1|\n",
      "|        328| 66817.21162999999|       16|          1| 18.84582175925926|              53.2|            3|             8|     0|          233|        0|         1|\n",
      "|        600|115987.01665000005|       12|          4| 78.02979166666667|              30.8|           16|             6|     0|          407|        0|         0|\n",
      "|        155| 30116.43781000001|        5|          3| 42.55398148148148|17.428571428571427|            2|             4|     0|          114|        0|         1|\n",
      "|       1244|263650.81615999993|       50|         10|52.055104166666666|             209.6|           21|            25|     1|          803|        0|         0|\n",
      "|       2173|458152.04961999995|       93|         16| 56.73247685185185|101.94444444444444|           32|            57|     0|         1286|        0|         0|\n",
      "|       2325|463040.61232000025|       97|         17|107.00724537037037| 81.56521739130434|           43|            61|     1|         1280|        1|         0|\n",
      "+-----------+------------------+---------+-----------+------------------+------------------+-------------+--------------+------+-------------+---------+----------+\n",
      "only showing top 10 rows\n",
      "\n"
     ]
    }
   ],
   "source": [
    "final_df = total_songs.join(total_length, 'userId', 'inner').join(thumbs_up, 'userId', 'inner')\\\n",
    "                .join(thumbs_down, 'userId', 'inner').join(user_lifetime, 'userId', 'inner').join(songs_per_session, 'userId', 'inner')\\\n",
    "                .join(friends_added, 'userId', 'inner').join(playlist_added, 'userId', 'inner').join(gender, 'userId', 'inner')\\\n",
    "                .join(total_artists, 'userId', 'inner').join(downgrade, 'userId', 'inner')\\\n",
    "                .join(user_churn, 'userId', 'inner').drop('userId')\n",
    "\n",
    "final_df.show(10)"
   ]
  },
  {
   "cell_type": "markdown",
   "metadata": {},
   "source": [
    "### Modeling"
   ]
  },
  {
   "cell_type": "code",
   "execution_count": 10,
   "metadata": {},
   "outputs": [],
   "source": [
    "assmblr = VectorAssembler(inputCols = ['total_songs', 'total_length', 'thumbs_up', 'thumbs_down', 'user_lifetime', \n",
    "                                       'songs_per_session', 'friends_added', 'playlist_added', 'gender', 'total_artists', \n",
    "                                       'downgrade'],\n",
    "                          outputCol = \"VectFeatures\")\n",
    "final_df = assmblr.transform(final_df)"
   ]
  },
  {
   "cell_type": "code",
   "execution_count": 11,
   "metadata": {},
   "outputs": [],
   "source": [
    "scaler = StandardScaler(inputCol = 'VectFeatures', outputCol = \"scaled_features\", withStd = True)\n",
    "scaler_model = scaler.fit(final_df)\n",
    "final_df = scaler_model.transform(final_df)"
   ]
  },
  {
   "cell_type": "code",
   "execution_count": 12,
   "metadata": {},
   "outputs": [],
   "source": [
    "data = final_df.select(final_df.user_churn.alias(\"label\"), final_df.scaled_features.alias(\"features\"))"
   ]
  },
  {
   "cell_type": "code",
   "execution_count": 13,
   "metadata": {},
   "outputs": [],
   "source": [
    "train, rest = data.randomSplit([0.7, 0.3])\n",
    "val, test = rest.randomSplit([0.5, 0.5])"
   ]
  },
  {
   "cell_type": "code",
   "execution_count": 14,
   "metadata": {},
   "outputs": [
    {
     "data": {
      "text/plain": [
       "[Row(sum(label)=57)]"
      ]
     },
     "execution_count": 14,
     "metadata": {},
     "output_type": "execute_result"
    }
   ],
   "source": [
    "train.select('label').agg({'label': 'sum'}).collect()"
   ]
  },
  {
   "cell_type": "code",
   "execution_count": 15,
   "metadata": {},
   "outputs": [
    {
     "data": {
      "text/plain": [
       "250"
      ]
     },
     "execution_count": 15,
     "metadata": {},
     "output_type": "execute_result"
    }
   ],
   "source": [
    "train.count()"
   ]
  },
  {
   "cell_type": "code",
   "execution_count": 16,
   "metadata": {},
   "outputs": [
    {
     "name": "stdout",
     "output_type": "stream",
     "text": [
      "Dummy Classifier metrics:\n",
      "Accuracy: 0.7755102040816326\n",
      "F-1 Score:0.6774571897724607\n",
      "Recall Score:0.7755102040816326\n"
     ]
    }
   ],
   "source": [
    "dummy_classifier = val.withColumn('prediction', lit(0.0))\n",
    "\n",
    "print('Dummy Classifier metrics:')\n",
    "evaluator = MulticlassClassificationEvaluator(predictionCol='prediction')\n",
    "print('Accuracy: {}'.format(evaluator.evaluate(dummy_classifier, {evaluator.metricName: \"accuracy\"})))\n",
    "print('F-1 Score:{}'.format(evaluator.evaluate(dummy_classifier, {evaluator.metricName: \"f1\"})))\n",
    "print('Recall Score:{}'.format(evaluator.evaluate(dummy_classifier, {evaluator.metricName: \"weightedRecall\"})))"
   ]
  },
  {
   "cell_type": "code",
   "execution_count": 19,
   "metadata": {},
   "outputs": [],
   "source": [
    "lr = LogisticRegression(maxIter=15)\n",
    "rf = RandomForestClassifier()\n",
    "svc = LinearSVC(maxIter=15)\n",
    "gb = GBTClassifier(maxIter=15)"
   ]
  },
  {
   "cell_type": "code",
   "execution_count": 18,
   "metadata": {},
   "outputs": [
    {
     "name": "stdout",
     "output_type": "stream",
     "text": [
      "Logistic Regression metrics:\n",
      "Accuracy: 0.8163265306122449\n",
      "F-1 Score:0.7624711423030751\n",
      "Recall Score:0.8163265306122449\n"
     ]
    }
   ],
   "source": [
    "model_lr = lr.fit(train)\n",
    "results_lr = model_lr.transform(val)\n",
    "\n",
    "print('Logistic Regression metrics:')\n",
    "evaluator = MulticlassClassificationEvaluator(predictionCol='prediction')\n",
    "print('Accuracy: {}'.format(evaluator.evaluate(results_lr, {evaluator.metricName: \"accuracy\"})))\n",
    "print('F-1 Score:{}'.format(evaluator.evaluate(results_lr, {evaluator.metricName: \"f1\"})))\n",
    "print('Recall Score:{}'.format(evaluator.evaluate(results_lr, {evaluator.metricName: \"weightedRecall\"})))"
   ]
  },
  {
   "cell_type": "code",
   "execution_count": 20,
   "metadata": {},
   "outputs": [
    {
     "name": "stdout",
     "output_type": "stream",
     "text": [
      "Logistic Regression Cross-Val metrics:\n",
      "Accuracy: 0.8163265306122449\n",
      "F-1 Score:0.7624711423030751\n"
     ]
    }
   ],
   "source": [
    "f1_evaluation = MulticlassClassificationEvaluator(metricName = 'f1')\n",
    "param_grid = ParamGridBuilder().build()\n",
    "\n",
    "lrs = LogisticRegression(maxIter=15)\n",
    "cv_lr = CrossValidator(estimator = lrs, estimatorParamMaps = param_grid, evaluator = f1_evaluation, numFolds = 3)\n",
    "model_lr_cv = cv_lr.fit(train)\n",
    "results_lr_cv = model_lr_cv.transform(val)\n",
    "\n",
    "print('Logistic Regression Cross-Val metrics:')\n",
    "evaluator = MulticlassClassificationEvaluator(predictionCol='prediction')\n",
    "print('Accuracy: {}'.format(evaluator.evaluate(results_lr_cv, {evaluator.metricName: \"accuracy\"})))\n",
    "print('F-1 Score:{}'.format(evaluator.evaluate(results_lr_cv, {evaluator.metricName: \"f1\"})))"
   ]
  },
  {
   "cell_type": "code",
   "execution_count": 21,
   "metadata": {},
   "outputs": [
    {
     "name": "stdout",
     "output_type": "stream",
     "text": [
      "Logistic Regression Cross-Val metrics:\n",
      "Accuracy: 0.8163265306122449\n",
      "F-1 Score:0.7624711423030751\n",
      "Recall Score:0.8163265306122449\n"
     ]
    }
   ],
   "source": [
    "f1_evaluation = MulticlassClassificationEvaluator(metricName = 'weightedRecall')\n",
    "param_grid = ParamGridBuilder().build()\n",
    "\n",
    "lrs = LogisticRegression(maxIter=15)\n",
    "cv_lr = CrossValidator(estimator = lrs, estimatorParamMaps = param_grid, evaluator = f1_evaluation, numFolds = 3)\n",
    "model_lr_cv = cv_lr.fit(train)\n",
    "results_lr_cv = model_lr_cv.transform(val)\n",
    "\n",
    "print('Logistic Regression Cross-Val metrics:')\n",
    "evaluator = MulticlassClassificationEvaluator(predictionCol='prediction')\n",
    "print('Accuracy: {}'.format(evaluator.evaluate(results_lr_cv, {evaluator.metricName: \"accuracy\"})))\n",
    "print('F-1 Score:{}'.format(evaluator.evaluate(results_lr_cv, {evaluator.metricName: \"f1\"})))\n",
    "print('Recall Score:{}'.format(evaluator.evaluate(results_lr_cv, {evaluator.metricName: \"weightedRecall\"})))"
   ]
  },
  {
   "cell_type": "code",
   "execution_count": 22,
   "metadata": {},
   "outputs": [
    {
     "name": "stdout",
     "output_type": "stream",
     "text": [
      "Random Forest metrics:\n",
      "Accuracy: 0.8367346938775511\n",
      "F-1 Score:0.7978620019436345\n",
      "Recall Score:0.836734693877551\n"
     ]
    }
   ],
   "source": [
    "model_rf = rf.fit(train)\n",
    "results_rf = model_rf.transform(val)\n",
    "\n",
    "print('Random Forest metrics:')\n",
    "evaluator = MulticlassClassificationEvaluator(predictionCol='prediction')\n",
    "print('Accuracy: {}'.format(evaluator.evaluate(results_rf, {evaluator.metricName: \"accuracy\"})))\n",
    "print('F-1 Score:{}'.format(evaluator.evaluate(results_rf, {evaluator.metricName: \"f1\"})))\n",
    "print('Recall Score:{}'.format(evaluator.evaluate(results_rf, {evaluator.metricName: \"weightedRecall\"})))"
   ]
  },
  {
   "cell_type": "code",
   "execution_count": 23,
   "metadata": {},
   "outputs": [
    {
     "name": "stdout",
     "output_type": "stream",
     "text": [
      "Linear SVC metrics:\n",
      "Accuracy: 0.7755102040816326\n",
      "F-1 Score:0.6774571897724607\n"
     ]
    }
   ],
   "source": [
    "model_svc = svc.fit(train)\n",
    "results_svc = model_svc.transform(val)\n",
    "\n",
    "print('Linear SVC metrics:')\n",
    "evaluator = MulticlassClassificationEvaluator(predictionCol='prediction')\n",
    "print('Accuracy: {}'.format(evaluator.evaluate(results_svc, {evaluator.metricName: \"accuracy\"})))\n",
    "print('F-1 Score:{}'.format(evaluator.evaluate(results_svc, {evaluator.metricName: \"f1\"})))"
   ]
  },
  {
   "cell_type": "code",
   "execution_count": 24,
   "metadata": {},
   "outputs": [
    {
     "name": "stdout",
     "output_type": "stream",
     "text": [
      "GB Tree metrics:\n",
      "Accuracy: 0.7551020408163265\n",
      "F-1 Score:0.7181433549029368\n"
     ]
    }
   ],
   "source": [
    "model_gb = gb.fit(train)\n",
    "results_gb = model_gb.transform(val)\n",
    "\n",
    "print('GB Tree metrics:')\n",
    "evaluator = MulticlassClassificationEvaluator(predictionCol='prediction')\n",
    "print('Accuracy: {}'.format(evaluator.evaluate(results_gb, {evaluator.metricName: \"accuracy\"})))\n",
    "print('F-1 Score:{}'.format(evaluator.evaluate(results_gb, {evaluator.metricName: \"f1\"})))"
   ]
  },
  {
   "cell_type": "markdown",
   "metadata": {},
   "source": [
    "### Tuning Random Forest Model"
   ]
  },
  {
   "cell_type": "code",
   "execution_count": 28,
   "metadata": {},
   "outputs": [
    {
     "name": "stdout",
     "output_type": "stream",
     "text": [
      "Tuned Random Forest metrics:\n",
      "Accuracy: 0.8571428571428571\n",
      "F-1 Score:0.8298336201950659\n"
     ]
    }
   ],
   "source": [
    "rf_tune = RandomForestClassifier()\n",
    "\n",
    "param_grid_rf_tune = ParamGridBuilder().addGrid(rf_tune.maxDepth, [5, 10])\\\n",
    "                                   .addGrid(rf_tune.numTrees, [20, 30, 40, 50]).build()\n",
    "\n",
    "f1_evaluation = MulticlassClassificationEvaluator(metricName = 'f1')\n",
    "\n",
    "cv_rf_tune = CrossValidator(estimator = rf_tune, estimatorParamMaps = param_grid_rf_tune, evaluator = f1_evaluation, numFolds = 3)\n",
    "\n",
    "model_rf_tune = cv_rf_tune.fit(train)\n",
    "results_rf_tune = model_rf_tune.transform(val)\n",
    "\n",
    "print('Tuned Random Forest metrics:')\n",
    "evaluator = MulticlassClassificationEvaluator(predictionCol='prediction')\n",
    "print('Accuracy: {}'.format(evaluator.evaluate(results_rf_tune, {evaluator.metricName: \"accuracy\"})))\n",
    "print('F-1 Score:{}'.format(evaluator.evaluate(results_rf_tune, {evaluator.metricName: \"f1\"})))"
   ]
  },
  {
   "cell_type": "code",
   "execution_count": 39,
   "metadata": {},
   "outputs": [
    {
     "data": {
      "text/plain": [
       "\"cacheNodeIds: If false, the algorithm will pass trees to executors to match instances with nodes. If true, the algorithm will cache node IDs for each instance. Caching can speed up training of deeper trees. (default: False)\\ncheckpointInterval: set checkpoint interval (>= 1) or disable checkpoint (-1). E.g. 10 means that the cache will get checkpointed every 10 iterations. Note: this setting will be ignored if the checkpoint directory is not set in the SparkContext (default: 10)\\nfeatureSubsetStrategy: The number of features to consider for splits at each tree node. Supported options: auto, all, onethird, sqrt, log2, (0.0-1.0], [1-n]. (default: auto)\\nfeaturesCol: features column name (default: features)\\nimpurity: Criterion used for information gain calculation (case-insensitive). Supported options: entropy, gini (default: gini)\\nlabelCol: label column name (default: label)\\nmaxBins: Max number of bins for discretizing continuous features.  Must be >=2 and >= number of categories for any categorical feature. (default: 32)\\nmaxDepth: Maximum depth of the tree. (>= 0) E.g., depth 0 means 1 leaf node; depth 1 means 1 internal node + 2 leaf nodes. (default: 5, current: 5)\\nmaxMemoryInMB: Maximum memory in MB allocated to histogram aggregation. (default: 256)\\nminInfoGain: Minimum information gain for a split to be considered at a tree node. (default: 0.0)\\nminInstancesPerNode: Minimum number of instances each child must have after split.  If a split causes the left or right child to have fewer than minInstancesPerNode, the split will be discarded as invalid. Should be >= 1. (default: 1)\\nnumTrees: Number of trees to train (>= 1) (default: 20, current: 30)\\npredictionCol: prediction column name (default: prediction)\\nprobabilityCol: Column name for predicted class conditional probabilities. Note: Not all models output well-calibrated probability estimates! These probabilities should be treated as confidences, not precise probabilities (default: probability)\\nrawPredictionCol: raw prediction (a.k.a. confidence) column name (default: rawPrediction)\\nseed: random seed (default: 6469589069890263532)\\nsubsamplingRate: Fraction of the training data used for learning each decision tree, in range (0, 1]. (default: 1.0)\\nthresholds: Thresholds in multi-class classification to adjust the probability of predicting each class. Array must have length equal to the number of classes, with values > 0 excepting that at most one value may be 0. The class with largest value p/t is predicted, where p is the original probability of that class and t is the class's threshold (undefined)\""
      ]
     },
     "execution_count": 39,
     "metadata": {},
     "output_type": "execute_result"
    }
   ],
   "source": [
    "model_rf_tune.bestModel.explainParams()"
   ]
  },
  {
   "cell_type": "code",
   "execution_count": 41,
   "metadata": {},
   "outputs": [],
   "source": [
    "results_test = model_rf_tune.transform(test)"
   ]
  },
  {
   "cell_type": "markdown",
   "metadata": {},
   "source": [
    "### Testing model performance for Final Model"
   ]
  },
  {
   "cell_type": "code",
   "execution_count": 42,
   "metadata": {},
   "outputs": [
    {
     "name": "stdout",
     "output_type": "stream",
     "text": [
      "Tuned Random Forest metrics:\n",
      "Accuracy: 0.7391304347826086\n",
      "F-1 Score:0.6814774430966335\n"
     ]
    }
   ],
   "source": [
    "print('Tuned Random Forest metrics:')\n",
    "evaluator = MulticlassClassificationEvaluator(predictionCol='prediction')\n",
    "print('Accuracy: {}'.format(evaluator.evaluate(results_test, {evaluator.metricName: \"accuracy\"})))\n",
    "print('F-1 Score:{}'.format(evaluator.evaluate(results_test, {evaluator.metricName: \"f1\"})))"
   ]
  },
  {
   "cell_type": "markdown",
   "metadata": {},
   "source": [
    "Features in model: |total_songs|      total_length|thumbs_up|thumbs_down|user_lifetime| songs_per_session|friends_added|playlist_added|gender|total_artists|downgrade"
   ]
  },
  {
   "cell_type": "code",
   "execution_count": 43,
   "metadata": {},
   "outputs": [
    {
     "data": {
      "text/plain": [
       "SparseVector(11, {0: 0.0883, 1: 0.0539, 2: 0.082, 3: 0.0799, 4: 0.3667, 5: 0.1184, 6: 0.0834, 7: 0.0704, 8: 0.019, 9: 0.0296, 10: 0.0084})"
      ]
     },
     "execution_count": 43,
     "metadata": {},
     "output_type": "execute_result"
    }
   ],
   "source": [
    "model_rf_tune.bestModel.featureImportances"
   ]
  },
  {
   "cell_type": "code",
   "execution_count": null,
   "metadata": {},
   "outputs": [],
   "source": []
  }
 ],
 "metadata": {
  "kernelspec": {
   "display_name": "Python 3.6 with Spark",
   "language": "python3",
   "name": "python36"
  },
  "language_info": {
   "codemirror_mode": {
    "name": "ipython",
    "version": 3
   },
   "file_extension": ".py",
   "mimetype": "text/x-python",
   "name": "python",
   "nbconvert_exporter": "python",
   "pygments_lexer": "ipython3",
   "version": "3.6.8"
  }
 },
 "nbformat": 4,
 "nbformat_minor": 1
}

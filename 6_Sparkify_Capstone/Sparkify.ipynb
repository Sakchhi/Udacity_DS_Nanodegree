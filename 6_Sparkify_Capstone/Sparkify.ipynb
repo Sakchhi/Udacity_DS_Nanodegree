{
 "cells": [
  {
   "cell_type": "markdown",
   "metadata": {},
   "source": [
    "# Sparkify Capstone Project"
   ]
  },
  {
   "cell_type": "markdown",
   "metadata": {},
   "source": [
    "## Business Understanding\n",
    "\n",
    "Churn modeling is one of the common analytics problems faced by data scientists working with business teams. It impacts the revenue of the company directly. Churn modeling has some interesting constraints and implications for data scientists as the dataset is imbalanced and also model interpretability is an important requirement.\n",
    "\n",
    "In this project, we will look at user interaction logs for a fictional music streaming company Sparkify. The full dataset is 12GB and would need a spark cluster to work with. We have explored the mini(128 MB) locally and medium(230 MB) datasets on IBM Watson cluster. This project familiarizes us with PySpark library for handling Big Data. We walk through the entire data lifecycle in this project and also present the findings for technical audience in a Medium post. "
   ]
  },
  {
   "cell_type": "code",
   "execution_count": 1,
   "metadata": {},
   "outputs": [],
   "source": [
    "# import libraries\n",
    "from pyspark.sql import SparkSession\n",
    "from pyspark.sql.functions import isnan, count, when, col, desc, udf, col, sort_array, asc, avg, lit\n",
    "from pyspark.sql.functions import max as Fmax\n",
    "from pyspark.sql.window import Window\n",
    "from pyspark.sql.types import IntegerType\n",
    "\n",
    "from pyspark.ml import Pipeline\n",
    "from pyspark.ml.classification import LogisticRegression, GBTClassifier,LinearSVC, RandomForestClassifier\n",
    "from pyspark.ml.evaluation import MulticlassClassificationEvaluator\n",
    "from pyspark.ml.feature import StandardScaler, VectorAssembler\n",
    "from pyspark.ml.tuning import CrossValidator, ParamGridBuilder\n",
    "from pyspark.ml.evaluation import MulticlassClassificationEvaluator\n",
    "\n",
    "import datetime\n",
    "import pandas as pd\n",
    "import seaborn as sns\n",
    "import matplotlib.pyplot as plt\n",
    "%matplotlib inline"
   ]
  },
  {
   "cell_type": "code",
   "execution_count": 2,
   "metadata": {},
   "outputs": [],
   "source": [
    "# create a Spark session\n",
    "spark = SparkSession \\\n",
    "    .builder \\\n",
    "    .appName(\"Sparkify Capstone Project\") \\\n",
    "    .getOrCreate()"
   ]
  },
  {
   "cell_type": "markdown",
   "metadata": {},
   "source": [
    "### Load and Clean Dataset\n",
    "In this workspace, the mini-dataset file is `mini_sparkify_event_data.json`. Load and clean the dataset, checking for invalid or missing data - for example, records without userids or sessionids. "
   ]
  },
  {
   "cell_type": "code",
   "execution_count": 3,
   "metadata": {},
   "outputs": [],
   "source": [
    "df = spark.read.json('mini_sparkify_event_data.json')"
   ]
  },
  {
   "cell_type": "code",
   "execution_count": 4,
   "metadata": {},
   "outputs": [
    {
     "data": {
      "text/plain": [
       "[Row(artist='Martha Tilston', auth='Logged In', firstName='Colin', gender='M', itemInSession=50, lastName='Freeman', length=277.89016, level='paid', location='Bakersfield, CA', method='PUT', page='NextSong', registration=1538173362000, sessionId=29, song='Rockpools', status=200, ts=1538352117000, userAgent='Mozilla/5.0 (Windows NT 6.1; WOW64; rv:31.0) Gecko/20100101 Firefox/31.0', userId='30'),\n",
       " Row(artist='Five Iron Frenzy', auth='Logged In', firstName='Micah', gender='M', itemInSession=79, lastName='Long', length=236.09424, level='free', location='Boston-Cambridge-Newton, MA-NH', method='PUT', page='NextSong', registration=1538331630000, sessionId=8, song='Canada', status=200, ts=1538352180000, userAgent='\"Mozilla/5.0 (Windows NT 6.1; WOW64) AppleWebKit/537.36 (KHTML, like Gecko) Chrome/37.0.2062.103 Safari/537.36\"', userId='9'),\n",
       " Row(artist='Adam Lambert', auth='Logged In', firstName='Colin', gender='M', itemInSession=51, lastName='Freeman', length=282.8273, level='paid', location='Bakersfield, CA', method='PUT', page='NextSong', registration=1538173362000, sessionId=29, song='Time For Miracles', status=200, ts=1538352394000, userAgent='Mozilla/5.0 (Windows NT 6.1; WOW64; rv:31.0) Gecko/20100101 Firefox/31.0', userId='30'),\n",
       " Row(artist='Enigma', auth='Logged In', firstName='Micah', gender='M', itemInSession=80, lastName='Long', length=262.71302, level='free', location='Boston-Cambridge-Newton, MA-NH', method='PUT', page='NextSong', registration=1538331630000, sessionId=8, song='Knocking On Forbidden Doors', status=200, ts=1538352416000, userAgent='\"Mozilla/5.0 (Windows NT 6.1; WOW64) AppleWebKit/537.36 (KHTML, like Gecko) Chrome/37.0.2062.103 Safari/537.36\"', userId='9'),\n",
       " Row(artist='Daft Punk', auth='Logged In', firstName='Colin', gender='M', itemInSession=52, lastName='Freeman', length=223.60771, level='paid', location='Bakersfield, CA', method='PUT', page='NextSong', registration=1538173362000, sessionId=29, song='Harder Better Faster Stronger', status=200, ts=1538352676000, userAgent='Mozilla/5.0 (Windows NT 6.1; WOW64; rv:31.0) Gecko/20100101 Firefox/31.0', userId='30')]"
      ]
     },
     "execution_count": 4,
     "metadata": {},
     "output_type": "execute_result"
    }
   ],
   "source": [
    "df.take(5)"
   ]
  },
  {
   "cell_type": "markdown",
   "metadata": {},
   "source": [
    "## Data Understanding"
   ]
  },
  {
   "cell_type": "markdown",
   "metadata": {},
   "source": [
    "### Churn\n",
    "Churn is defined as a Cancellation Confirmation action.\n",
    "We can also look at Downgrade event, which is when a user downgrades their subscription from Paid level to Free level."
   ]
  },
  {
   "cell_type": "code",
   "execution_count": 5,
   "metadata": {
    "scrolled": true
   },
   "outputs": [
    {
     "data": {
      "text/plain": [
       "286500"
      ]
     },
     "execution_count": 5,
     "metadata": {},
     "output_type": "execute_result"
    }
   ],
   "source": [
    "df.count()"
   ]
  },
  {
   "cell_type": "code",
   "execution_count": 6,
   "metadata": {},
   "outputs": [
    {
     "name": "stdout",
     "output_type": "stream",
     "text": [
      "root\n",
      " |-- artist: string (nullable = true)\n",
      " |-- auth: string (nullable = true)\n",
      " |-- firstName: string (nullable = true)\n",
      " |-- gender: string (nullable = true)\n",
      " |-- itemInSession: long (nullable = true)\n",
      " |-- lastName: string (nullable = true)\n",
      " |-- length: double (nullable = true)\n",
      " |-- level: string (nullable = true)\n",
      " |-- location: string (nullable = true)\n",
      " |-- method: string (nullable = true)\n",
      " |-- page: string (nullable = true)\n",
      " |-- registration: long (nullable = true)\n",
      " |-- sessionId: long (nullable = true)\n",
      " |-- song: string (nullable = true)\n",
      " |-- status: long (nullable = true)\n",
      " |-- ts: long (nullable = true)\n",
      " |-- userAgent: string (nullable = true)\n",
      " |-- userId: string (nullable = true)\n",
      "\n"
     ]
    }
   ],
   "source": [
    "df.printSchema()"
   ]
  },
  {
   "cell_type": "code",
   "execution_count": 7,
   "metadata": {},
   "outputs": [
    {
     "name": "stdout",
     "output_type": "stream",
     "text": [
      "+------+\n",
      "|userId|\n",
      "+------+\n",
      "|      |\n",
      "|    10|\n",
      "|   100|\n",
      "|100001|\n",
      "|100002|\n",
      "|100003|\n",
      "|100004|\n",
      "|100005|\n",
      "|100006|\n",
      "|100007|\n",
      "+------+\n",
      "only showing top 10 rows\n",
      "\n"
     ]
    }
   ],
   "source": [
    "df.select('userId').dropDuplicates().sort('userId').show(10)"
   ]
  },
  {
   "cell_type": "markdown",
   "metadata": {},
   "source": [
    "All possible user actions"
   ]
  },
  {
   "cell_type": "code",
   "execution_count": 8,
   "metadata": {},
   "outputs": [
    {
     "name": "stdout",
     "output_type": "stream",
     "text": [
      "+--------------------+\n",
      "|                page|\n",
      "+--------------------+\n",
      "|              Cancel|\n",
      "|    Submit Downgrade|\n",
      "|         Thumbs Down|\n",
      "|                Home|\n",
      "|           Downgrade|\n",
      "|         Roll Advert|\n",
      "|              Logout|\n",
      "|       Save Settings|\n",
      "|Cancellation Conf...|\n",
      "|               About|\n",
      "| Submit Registration|\n",
      "|            Settings|\n",
      "|               Login|\n",
      "|            Register|\n",
      "|     Add to Playlist|\n",
      "|          Add Friend|\n",
      "|            NextSong|\n",
      "|           Thumbs Up|\n",
      "|                Help|\n",
      "|             Upgrade|\n",
      "|               Error|\n",
      "|      Submit Upgrade|\n",
      "+--------------------+\n",
      "\n"
     ]
    }
   ],
   "source": [
    "df.select(col('page')).dropDuplicates().show(25)"
   ]
  },
  {
   "cell_type": "markdown",
   "metadata": {},
   "source": [
    "Actions without any user id are where user has not registered yet or is looking to login."
   ]
  },
  {
   "cell_type": "code",
   "execution_count": 9,
   "metadata": {},
   "outputs": [
    {
     "name": "stdout",
     "output_type": "stream",
     "text": [
      "+-------------------+\n",
      "|        blank_pages|\n",
      "+-------------------+\n",
      "|               Home|\n",
      "|              About|\n",
      "|Submit Registration|\n",
      "|              Login|\n",
      "|           Register|\n",
      "|               Help|\n",
      "|              Error|\n",
      "+-------------------+\n",
      "\n"
     ]
    }
   ],
   "source": [
    "blank_pages = df.filter(df.userId == '') \\\n",
    "    .select(col('page') \\\n",
    "    .alias('blank_pages')) \\\n",
    "    .dropDuplicates()\n",
    "blank_pages.show()"
   ]
  },
  {
   "cell_type": "code",
   "execution_count": 10,
   "metadata": {},
   "outputs": [
    {
     "data": {
      "text/plain": [
       "[Row(userId='', sessionId=268, avg(itemInSession)=112.06666666666666),\n",
       " Row(userId='', sessionId=565, avg(itemInSession)=162.6),\n",
       " Row(userId='', sessionId=814, avg(itemInSession)=121.73333333333333),\n",
       " Row(userId='', sessionId=1053, avg(itemInSession)=30.0),\n",
       " Row(userId='', sessionId=1183, avg(itemInSession)=125.0),\n",
       " Row(userId='', sessionId=1305, avg(itemInSession)=293.1),\n",
       " Row(userId='', sessionId=1446, avg(itemInSession)=288.25),\n",
       " Row(userId='', sessionId=1592, avg(itemInSession)=32.833333333333336),\n",
       " Row(userId='', sessionId=164, avg(itemInSession)=0.3333333333333333),\n",
       " Row(userId='', sessionId=187, avg(itemInSession)=29.2),\n",
       " Row(userId='', sessionId=485, avg(itemInSession)=28.142857142857142),\n",
       " Row(userId='', sessionId=1023, avg(itemInSession)=11.0),\n",
       " Row(userId='', sessionId=1163, avg(itemInSession)=17.0),\n",
       " Row(userId='', sessionId=1392, avg(itemInSession)=4.5),\n",
       " Row(userId='', sessionId=1359, avg(itemInSession)=119.0),\n",
       " Row(userId='', sessionId=1595, avg(itemInSession)=87.5),\n",
       " Row(userId='', sessionId=233, avg(itemInSession)=43.5),\n",
       " Row(userId='', sessionId=788, avg(itemInSession)=44.333333333333336),\n",
       " Row(userId='', sessionId=494, avg(itemInSession)=0.0),\n",
       " Row(userId='', sessionId=1203, avg(itemInSession)=81.9090909090909),\n",
       " Row(userId='', sessionId=2332, avg(itemInSession)=19.5),\n",
       " Row(userId='', sessionId=2446, avg(itemInSession)=13.0),\n",
       " Row(userId='', sessionId=67, avg(itemInSession)=123.3),\n",
       " Row(userId='', sessionId=77, avg(itemInSession)=138.04347826086956),\n",
       " Row(userId='', sessionId=147, avg(itemInSession)=93.0),\n",
       " Row(userId='', sessionId=296, avg(itemInSession)=54.25),\n",
       " Row(userId='', sessionId=700, avg(itemInSession)=0.5),\n",
       " Row(userId='', sessionId=876, avg(itemInSession)=6.5),\n",
       " Row(userId='', sessionId=852, avg(itemInSession)=37.5),\n",
       " Row(userId='', sessionId=924, avg(itemInSession)=6.0),\n",
       " Row(userId='', sessionId=1084, avg(itemInSession)=6.8),\n",
       " Row(userId='', sessionId=1228, avg(itemInSession)=24.0),\n",
       " Row(userId='', sessionId=1754, avg(itemInSession)=26.0),\n",
       " Row(userId='', sessionId=1832, avg(itemInSession)=220.71428571428572),\n",
       " Row(userId='', sessionId=1837, avg(itemInSession)=190.5),\n",
       " Row(userId='', sessionId=2298, avg(itemInSession)=160.23076923076923),\n",
       " Row(userId='', sessionId=42, avg(itemInSession)=7.666666666666667),\n",
       " Row(userId='', sessionId=96, avg(itemInSession)=37.111111111111114),\n",
       " Row(userId='', sessionId=406, avg(itemInSession)=19.666666666666668),\n",
       " Row(userId='', sessionId=125, avg(itemInSession)=47.7),\n",
       " Row(userId='', sessionId=251, avg(itemInSession)=121.125),\n",
       " Row(userId='', sessionId=420, avg(itemInSession)=218.52380952380952),\n",
       " Row(userId='', sessionId=586, avg(itemInSession)=90.0),\n",
       " Row(userId='', sessionId=873, avg(itemInSession)=59.27272727272727),\n",
       " Row(userId='', sessionId=1394, avg(itemInSession)=161.7),\n",
       " Row(userId='', sessionId=2163, avg(itemInSession)=81.5),\n",
       " Row(userId='', sessionId=202, avg(itemInSession)=139.64285714285714),\n",
       " Row(userId='', sessionId=362, avg(itemInSession)=23.0),\n",
       " Row(userId='', sessionId=289, avg(itemInSession)=49.0),\n",
       " Row(userId='', sessionId=414, avg(itemInSession)=30.833333333333332),\n",
       " Row(userId='', sessionId=979, avg(itemInSession)=35.5),\n",
       " Row(userId='', sessionId=1062, avg(itemInSession)=77.5),\n",
       " Row(userId='', sessionId=1210, avg(itemInSession)=28.5),\n",
       " Row(userId='', sessionId=1317, avg(itemInSession)=49.666666666666664),\n",
       " Row(userId='', sessionId=1774, avg(itemInSession)=62.5),\n",
       " Row(userId='', sessionId=2199, avg(itemInSession)=61.0),\n",
       " Row(userId='', sessionId=430, avg(itemInSession)=62.44444444444444),\n",
       " Row(userId='', sessionId=544, avg(itemInSession)=16.0),\n",
       " Row(userId='', sessionId=1209, avg(itemInSession)=91.5),\n",
       " Row(userId='', sessionId=1286, avg(itemInSession)=0.0),\n",
       " Row(userId='', sessionId=1389, avg(itemInSession)=4.0),\n",
       " Row(userId='', sessionId=1490, avg(itemInSession)=0.5),\n",
       " Row(userId='', sessionId=1643, avg(itemInSession)=60.0),\n",
       " Row(userId='', sessionId=1930, avg(itemInSession)=29.5),\n",
       " Row(userId='', sessionId=2198, avg(itemInSession)=43.5),\n",
       " Row(userId='', sessionId=1776, avg(itemInSession)=24.0),\n",
       " Row(userId='', sessionId=548, avg(itemInSession)=20.0),\n",
       " Row(userId='', sessionId=531, avg(itemInSession)=18.5),\n",
       " Row(userId='', sessionId=646, avg(itemInSession)=0.5),\n",
       " Row(userId='', sessionId=986, avg(itemInSession)=25.5),\n",
       " Row(userId='', sessionId=1111, avg(itemInSession)=0.0),\n",
       " Row(userId='', sessionId=1049, avg(itemInSession)=33.0),\n",
       " Row(userId='', sessionId=1333, avg(itemInSession)=193.28571428571428),\n",
       " Row(userId='', sessionId=1919, avg(itemInSession)=20.5),\n",
       " Row(userId='', sessionId=2295, avg(itemInSession)=114.33333333333333),\n",
       " Row(userId='', sessionId=2445, avg(itemInSession)=0.5),\n",
       " Row(userId='', sessionId=225, avg(itemInSession)=52.4),\n",
       " Row(userId='', sessionId=529, avg(itemInSession)=420.0),\n",
       " Row(userId='', sessionId=627, avg(itemInSession)=190.0),\n",
       " Row(userId='', sessionId=1003, avg(itemInSession)=121.0),\n",
       " Row(userId='', sessionId=1283, avg(itemInSession)=57.5),\n",
       " Row(userId='', sessionId=1406, avg(itemInSession)=100.0),\n",
       " Row(userId='', sessionId=1699, avg(itemInSession)=149.5),\n",
       " Row(userId='', sessionId=1898, avg(itemInSession)=4.5),\n",
       " Row(userId='', sessionId=528, avg(itemInSession)=129.5),\n",
       " Row(userId='', sessionId=1137, avg(itemInSession)=1.0),\n",
       " Row(userId='', sessionId=1401, avg(itemInSession)=89.0),\n",
       " Row(userId='', sessionId=1871, avg(itemInSession)=272.0),\n",
       " Row(userId='', sessionId=1895, avg(itemInSession)=116.28571428571429),\n",
       " Row(userId='', sessionId=1917, avg(itemInSession)=32.5),\n",
       " Row(userId='', sessionId=135, avg(itemInSession)=127.07142857142857),\n",
       " Row(userId='', sessionId=450, avg(itemInSession)=25.5),\n",
       " Row(userId='', sessionId=885, avg(itemInSession)=95.5),\n",
       " Row(userId='', sessionId=1532, avg(itemInSession)=53.833333333333336),\n",
       " Row(userId='', sessionId=2206, avg(itemInSession)=310.7),\n",
       " Row(userId='', sessionId=2403, avg(itemInSession)=21.0),\n",
       " Row(userId='', sessionId=380, avg(itemInSession)=71.0),\n",
       " Row(userId='', sessionId=197, avg(itemInSession)=38.77777777777778),\n",
       " Row(userId='', sessionId=628, avg(itemInSession)=7.5),\n",
       " Row(userId='', sessionId=1537, avg(itemInSession)=227.5),\n",
       " Row(userId='', sessionId=1963, avg(itemInSession)=12.5),\n",
       " Row(userId='', sessionId=2264, avg(itemInSession)=11.5),\n",
       " Row(userId='', sessionId=284, avg(itemInSession)=9.666666666666666),\n",
       " Row(userId='', sessionId=505, avg(itemInSession)=13.5),\n",
       " Row(userId='', sessionId=1095, avg(itemInSession)=0.0),\n",
       " Row(userId='', sessionId=1418, avg(itemInSession)=121.5),\n",
       " Row(userId='', sessionId=1346, avg(itemInSession)=29.0),\n",
       " Row(userId='', sessionId=1900, avg(itemInSession)=93.0),\n",
       " Row(userId='', sessionId=2107, avg(itemInSession)=71.0),\n",
       " Row(userId='', sessionId=2252, avg(itemInSession)=15.5),\n",
       " Row(userId='', sessionId=116, avg(itemInSession)=18.5),\n",
       " Row(userId='', sessionId=322, avg(itemInSession)=8.5),\n",
       " Row(userId='', sessionId=386, avg(itemInSession)=10.8),\n",
       " Row(userId='', sessionId=606, avg(itemInSession)=18.5),\n",
       " Row(userId='', sessionId=714, avg(itemInSession)=33.0),\n",
       " Row(userId='', sessionId=955, avg(itemInSession)=53.5),\n",
       " Row(userId='', sessionId=1035, avg(itemInSession)=266.5),\n",
       " Row(userId='', sessionId=1301, avg(itemInSession)=7.0),\n",
       " Row(userId='', sessionId=2046, avg(itemInSession)=30.5),\n",
       " Row(userId='', sessionId=2056, avg(itemInSession)=433.1111111111111),\n",
       " Row(userId='', sessionId=2312, avg(itemInSession)=67.2),\n",
       " Row(userId='', sessionId=1043, avg(itemInSession)=0.5),\n",
       " Row(userId='', sessionId=1092, avg(itemInSession)=48.5),\n",
       " Row(userId='', sessionId=693, avg(itemInSession)=23.5),\n",
       " Row(userId='', sessionId=1320, avg(itemInSession)=82.33333333333333),\n",
       " Row(userId='', sessionId=1378, avg(itemInSession)=208.83333333333334),\n",
       " Row(userId='', sessionId=1943, avg(itemInSession)=69.42857142857143),\n",
       " Row(userId='', sessionId=1922, avg(itemInSession)=17.142857142857142),\n",
       " Row(userId='', sessionId=46, avg(itemInSession)=17.3),\n",
       " Row(userId='', sessionId=55, avg(itemInSession)=0.0),\n",
       " Row(userId='', sessionId=91, avg(itemInSession)=52.0),\n",
       " Row(userId='', sessionId=248, avg(itemInSession)=167.5),\n",
       " Row(userId='', sessionId=396, avg(itemInSession)=41.0),\n",
       " Row(userId='', sessionId=596, avg(itemInSession)=0.0),\n",
       " Row(userId='', sessionId=1663, avg(itemInSession)=28.0),\n",
       " Row(userId='', sessionId=1987, avg(itemInSession)=117.66666666666667),\n",
       " Row(userId='', sessionId=2459, avg(itemInSession)=1.0),\n",
       " Row(userId='', sessionId=384, avg(itemInSession)=40.5),\n",
       " Row(userId='', sessionId=816, avg(itemInSession)=50.42857142857143),\n",
       " Row(userId='', sessionId=731, avg(itemInSession)=262.8666666666667),\n",
       " Row(userId='', sessionId=1318, avg(itemInSession)=16.5),\n",
       " Row(userId='', sessionId=1768, avg(itemInSession)=7.5),\n",
       " Row(userId='', sessionId=2034, avg(itemInSession)=26.0),\n",
       " Row(userId='', sessionId=174, avg(itemInSession)=112.0),\n",
       " Row(userId='', sessionId=81, avg(itemInSession)=19.4),\n",
       " Row(userId='', sessionId=516, avg(itemInSession)=0.5),\n",
       " Row(userId='', sessionId=453, avg(itemInSession)=90.54545454545455),\n",
       " Row(userId='', sessionId=1190, avg(itemInSession)=0.5),\n",
       " Row(userId='', sessionId=1620, avg(itemInSession)=14.5),\n",
       " Row(userId='', sessionId=1946, avg(itemInSession)=19.666666666666668),\n",
       " Row(userId='', sessionId=2127, avg(itemInSession)=51.0),\n",
       " Row(userId='', sessionId=2430, avg(itemInSession)=10.0),\n",
       " Row(userId='', sessionId=239, avg(itemInSession)=9.8),\n",
       " Row(userId='', sessionId=684, avg(itemInSession)=47.25),\n",
       " Row(userId='', sessionId=923, avg(itemInSession)=106.27272727272727),\n",
       " Row(userId='', sessionId=1892, avg(itemInSession)=195.63636363636363),\n",
       " Row(userId='', sessionId=1965, avg(itemInSession)=69.0),\n",
       " Row(userId='', sessionId=2231, avg(itemInSession)=62.0),\n",
       " Row(userId='', sessionId=304, avg(itemInSession)=26.0),\n",
       " Row(userId='', sessionId=1126, avg(itemInSession)=8.5),\n",
       " Row(userId='', sessionId=720, avg(itemInSession)=43.833333333333336),\n",
       " Row(userId='', sessionId=1196, avg(itemInSession)=0.5),\n",
       " Row(userId='', sessionId=1275, avg(itemInSession)=0.0),\n",
       " Row(userId='', sessionId=1364, avg(itemInSession)=99.16666666666667),\n",
       " Row(userId='', sessionId=2084, avg(itemInSession)=10.5),\n",
       " Row(userId='', sessionId=176, avg(itemInSession)=0.0),\n",
       " Row(userId='', sessionId=393, avg(itemInSession)=6.5),\n",
       " Row(userId='', sessionId=54, avg(itemInSession)=78.44444444444444),\n",
       " Row(userId='', sessionId=439, avg(itemInSession)=29.5),\n",
       " Row(userId='', sessionId=734, avg(itemInSession)=50.285714285714285),\n",
       " Row(userId='', sessionId=879, avg(itemInSession)=0.0),\n",
       " Row(userId='', sessionId=1411, avg(itemInSession)=70.5),\n",
       " Row(userId='', sessionId=1746, avg(itemInSession)=65.0),\n",
       " Row(userId='', sessionId=2205, avg(itemInSession)=283.5),\n",
       " Row(userId='', sessionId=2373, avg(itemInSession)=0.0),\n",
       " Row(userId='', sessionId=266, avg(itemInSession)=3.0),\n",
       " Row(userId='', sessionId=200, avg(itemInSession)=3.0),\n",
       " Row(userId='', sessionId=962, avg(itemInSession)=5.6),\n",
       " Row(userId='', sessionId=1195, avg(itemInSession)=85.0),\n",
       " Row(userId='', sessionId=1501, avg(itemInSession)=100.5),\n",
       " Row(userId='', sessionId=1562, avg(itemInSession)=77.16666666666667),\n",
       " Row(userId='', sessionId=1639, avg(itemInSession)=147.83333333333334),\n",
       " Row(userId='', sessionId=1870, avg(itemInSession)=57.2),\n",
       " Row(userId='', sessionId=2169, avg(itemInSession)=48.0),\n",
       " Row(userId='', sessionId=30, avg(itemInSession)=27.5),\n",
       " Row(userId='', sessionId=277, avg(itemInSession)=0.5),\n",
       " Row(userId='', sessionId=573, avg(itemInSession)=0.0),\n",
       " Row(userId='', sessionId=1279, avg(itemInSession)=31.5),\n",
       " Row(userId='', sessionId=1538, avg(itemInSession)=252.53846153846155),\n",
       " Row(userId='', sessionId=1655, avg(itemInSession)=20.0),\n",
       " Row(userId='', sessionId=2052, avg(itemInSession)=57.0),\n",
       " Row(userId='', sessionId=1599, avg(itemInSession)=76.5),\n",
       " Row(userId='', sessionId=2100, avg(itemInSession)=93.125),\n",
       " Row(userId='', sessionId=2062, avg(itemInSession)=75.0),\n",
       " Row(userId='', sessionId=1672, avg(itemInSession)=165.33333333333334),\n",
       " Row(userId='', sessionId=703, avg(itemInSession)=1.0),\n",
       " Row(userId='', sessionId=374, avg(itemInSession)=47.54545454545455),\n",
       " Row(userId='', sessionId=665, avg(itemInSession)=8.0),\n",
       " Row(userId='', sessionId=1902, avg(itemInSession)=14.5),\n",
       " Row(userId='', sessionId=1925, avg(itemInSession)=26.0),\n",
       " Row(userId='', sessionId=1977, avg(itemInSession)=15.5),\n",
       " Row(userId='', sessionId=2050, avg(itemInSession)=0.5),\n",
       " Row(userId='', sessionId=2146, avg(itemInSession)=251.89473684210526),\n",
       " Row(userId='', sessionId=2188, avg(itemInSession)=127.0),\n",
       " Row(userId='', sessionId=144, avg(itemInSession)=201.125),\n",
       " Row(userId='', sessionId=261, avg(itemInSession)=49.25),\n",
       " Row(userId='', sessionId=234, avg(itemInSession)=73.54545454545455),\n",
       " Row(userId='', sessionId=727, avg(itemInSession)=30.0),\n",
       " Row(userId='', sessionId=729, avg(itemInSession)=28.714285714285715),\n",
       " Row(userId='', sessionId=1063, avg(itemInSession)=2.5),\n",
       " Row(userId='', sessionId=2012, avg(itemInSession)=26.0),\n",
       " Row(userId='', sessionId=1561, avg(itemInSession)=272.5),\n",
       " Row(userId='', sessionId=355, avg(itemInSession)=18.0),\n",
       " Row(userId='', sessionId=455, avg(itemInSession)=57.5),\n",
       " Row(userId='', sessionId=559, avg(itemInSession)=14.5),\n",
       " Row(userId='', sessionId=898, avg(itemInSession)=11.0),\n",
       " Row(userId='', sessionId=922, avg(itemInSession)=0.0),\n",
       " Row(userId='', sessionId=2061, avg(itemInSession)=115.5),\n",
       " Row(userId='', sessionId=264, avg(itemInSession)=180.16666666666666),\n",
       " Row(userId='', sessionId=742, avg(itemInSession)=111.83333333333333),\n",
       " Row(userId='', sessionId=840, avg(itemInSession)=66.0),\n",
       " Row(userId='', sessionId=1393, avg(itemInSession)=56.833333333333336),\n",
       " Row(userId='', sessionId=1717, avg(itemInSession)=1.0),\n",
       " Row(userId='', sessionId=1748, avg(itemInSession)=129.0),\n",
       " Row(userId='', sessionId=1876, avg(itemInSession)=16.5),\n",
       " Row(userId='', sessionId=361, avg(itemInSession)=90.1875),\n",
       " Row(userId='', sessionId=517, avg(itemInSession)=113.5),\n",
       " Row(userId='', sessionId=619, avg(itemInSession)=125.0),\n",
       " Row(userId='', sessionId=759, avg(itemInSession)=63.888888888888886),\n",
       " Row(userId='', sessionId=167, avg(itemInSession)=31.307692307692307),\n",
       " Row(userId='', sessionId=947, avg(itemInSession)=134.71428571428572),\n",
       " Row(userId='', sessionId=1059, avg(itemInSession)=0.5),\n",
       " Row(userId='', sessionId=1272, avg(itemInSession)=38.0),\n",
       " Row(userId='', sessionId=1294, avg(itemInSession)=4.5),\n",
       " Row(userId='', sessionId=1594, avg(itemInSession)=106.125),\n",
       " Row(userId='', sessionId=1573, avg(itemInSession)=67.11111111111111),\n",
       " Row(userId='', sessionId=1488, avg(itemInSession)=158.2),\n",
       " Row(userId='', sessionId=1623, avg(itemInSession)=366.5),\n",
       " Row(userId='', sessionId=1809, avg(itemInSession)=0.0),\n",
       " Row(userId='', sessionId=208, avg(itemInSession)=67.625),\n",
       " Row(userId='', sessionId=344, avg(itemInSession)=162.04545454545453),\n",
       " Row(userId='', sessionId=620, avg(itemInSession)=0.5),\n",
       " Row(userId='', sessionId=301, avg(itemInSession)=0.0),\n",
       " Row(userId='', sessionId=748, avg(itemInSession)=8.0),\n",
       " Row(userId='', sessionId=1408, avg(itemInSession)=77.5),\n",
       " Row(userId='', sessionId=1800, avg(itemInSession)=0.0),\n",
       " Row(userId='', sessionId=2203, avg(itemInSession)=0.0),\n",
       " Row(userId='', sessionId=2266, avg(itemInSession)=345.0416666666667),\n",
       " Row(userId='', sessionId=156, avg(itemInSession)=0.5),\n",
       " Row(userId='', sessionId=257, avg(itemInSession)=153.5),\n",
       " Row(userId='', sessionId=213, avg(itemInSession)=0.0),\n",
       " Row(userId='', sessionId=623, avg(itemInSession)=31.5),\n",
       " Row(userId='', sessionId=645, avg(itemInSession)=11.5),\n",
       " Row(userId='', sessionId=838, avg(itemInSession)=6.5),\n",
       " Row(userId='', sessionId=1087, avg(itemInSession)=75.5),\n",
       " Row(userId='', sessionId=1213, avg(itemInSession)=56.0),\n",
       " Row(userId='', sessionId=1549, avg(itemInSession)=166.5),\n",
       " Row(userId='', sessionId=1331, avg(itemInSession)=0.0),\n",
       " Row(userId='', sessionId=1926, avg(itemInSession)=37.5),\n",
       " Row(userId='', sessionId=1931, avg(itemInSession)=176.83333333333334),\n",
       " Row(userId='', sessionId=279, avg(itemInSession)=103.5),\n",
       " Row(userId='', sessionId=651, avg(itemInSession)=0.5),\n",
       " Row(userId='', sessionId=1064, avg(itemInSession)=26.0),\n",
       " Row(userId='', sessionId=2047, avg(itemInSession)=0.5),\n",
       " Row(userId='', sessionId=2154, avg(itemInSession)=3.5),\n",
       " Row(userId='', sessionId=698, avg(itemInSession)=0.0),\n",
       " Row(userId='', sessionId=1100, avg(itemInSession)=191.125),\n",
       " Row(userId='', sessionId=1433, avg(itemInSession)=36.5),\n",
       " Row(userId='', sessionId=1787, avg(itemInSession)=212.0),\n",
       " Row(userId='', sessionId=2362, avg(itemInSession)=15.0),\n",
       " Row(userId='', sessionId=2352, avg(itemInSession)=0.0),\n",
       " Row(userId='', sessionId=423, avg(itemInSession)=49.833333333333336),\n",
       " Row(userId='', sessionId=708, avg(itemInSession)=169.6875),\n",
       " Row(userId='', sessionId=999, avg(itemInSession)=0.5),\n",
       " Row(userId='', sessionId=1174, avg(itemInSession)=0.5),\n",
       " Row(userId='', sessionId=1337, avg(itemInSession)=49.0),\n",
       " Row(userId='', sessionId=1604, avg(itemInSession)=91.5),\n",
       " Row(userId='', sessionId=2391, avg(itemInSession)=9.0),\n",
       " Row(userId='', sessionId=57, avg(itemInSession)=24.4),\n",
       " Row(userId='', sessionId=287, avg(itemInSession)=48.0),\n",
       " Row(userId='', sessionId=624, avg(itemInSession)=17.0),\n",
       " Row(userId='', sessionId=1052, avg(itemInSession)=299.57142857142856),\n",
       " Row(userId='', sessionId=1042, avg(itemInSession)=66.0),\n",
       " Row(userId='', sessionId=1686, avg(itemInSession)=210.5),\n",
       " Row(userId='', sessionId=1878, avg(itemInSession)=70.0),\n",
       " Row(userId='', sessionId=126, avg(itemInSession)=69.5),\n",
       " Row(userId='', sessionId=1116, avg(itemInSession)=233.83333333333334),\n",
       " Row(userId='', sessionId=702, avg(itemInSession)=9.333333333333334),\n",
       " Row(userId='', sessionId=1954, avg(itemInSession)=17.75),\n",
       " Row(userId='', sessionId=1831, avg(itemInSession)=17.5),\n",
       " Row(userId='', sessionId=539, avg(itemInSession)=72.0),\n",
       " Row(userId='', sessionId=824, avg(itemInSession)=116.5),\n",
       " Row(userId='', sessionId=905, avg(itemInSession)=2.5),\n",
       " Row(userId='', sessionId=1237, avg(itemInSession)=139.125),\n",
       " Row(userId='', sessionId=1704, avg(itemInSession)=24.5),\n",
       " Row(userId='', sessionId=72, avg(itemInSession)=53.666666666666664),\n",
       " Row(userId='', sessionId=1056, avg(itemInSession)=3.8),\n",
       " Row(userId='', sessionId=1227, avg(itemInSession)=19.2),\n",
       " Row(userId='', sessionId=989, avg(itemInSession)=23.5),\n",
       " Row(userId='', sessionId=1983, avg(itemInSession)=5.0),\n",
       " Row(userId='', sessionId=206, avg(itemInSession)=20.5),\n",
       " Row(userId='', sessionId=186, avg(itemInSession)=18.166666666666668),\n",
       " Row(userId='', sessionId=508, avg(itemInSession)=256.25),\n",
       " Row(userId='', sessionId=848, avg(itemInSession)=14.5),\n",
       " Row(userId='', sessionId=754, avg(itemInSession)=201.5),\n",
       " Row(userId='', sessionId=803, avg(itemInSession)=13.5),\n",
       " Row(userId='', sessionId=1050, avg(itemInSession)=58.5),\n",
       " Row(userId='', sessionId=953, avg(itemInSession)=104.375),\n",
       " Row(userId='', sessionId=1265, avg(itemInSession)=16.5),\n",
       " Row(userId='', sessionId=1649, avg(itemInSession)=46.55555555555556),\n",
       " Row(userId='', sessionId=2218, avg(itemInSession)=7.0),\n",
       " Row(userId='', sessionId=407, avg(itemInSession)=37.285714285714285),\n",
       " Row(userId='', sessionId=550, avg(itemInSession)=3.5),\n",
       " Row(userId='', sessionId=1168, avg(itemInSession)=0.0),\n",
       " Row(userId='', sessionId=1117, avg(itemInSession)=269.7142857142857),\n",
       " Row(userId='', sessionId=1644, avg(itemInSession)=29.5),\n",
       " Row(userId='', sessionId=1896, avg(itemInSession)=170.0),\n",
       " Row(userId='', sessionId=669, avg(itemInSession)=8.0),\n",
       " Row(userId='', sessionId=930, avg(itemInSession)=0.0),\n",
       " Row(userId='', sessionId=907, avg(itemInSession)=91.44444444444444),\n",
       " Row(userId='', sessionId=2036, avg(itemInSession)=153.55555555555554),\n",
       " Row(userId='', sessionId=302, avg(itemInSession)=152.3846153846154),\n",
       " Row(userId='', sessionId=371, avg(itemInSession)=66.25),\n",
       " Row(userId='', sessionId=23, avg(itemInSession)=10.5),\n",
       " Row(userId='', sessionId=895, avg(itemInSession)=125.63636363636364),\n",
       " Row(userId='', sessionId=1259, avg(itemInSession)=0.0),\n",
       " Row(userId='', sessionId=1556, avg(itemInSession)=13.5),\n",
       " Row(userId='', sessionId=1625, avg(itemInSession)=38.25),\n",
       " Row(userId='', sessionId=1744, avg(itemInSession)=108.5),\n",
       " Row(userId='', sessionId=1897, avg(itemInSession)=1.0),\n",
       " Row(userId='', sessionId=1865, avg(itemInSession)=188.5),\n",
       " Row(userId='', sessionId=2427, avg(itemInSession)=1.0),\n",
       " Row(userId='', sessionId=101, avg(itemInSession)=45.5),\n",
       " Row(userId='', sessionId=466, avg(itemInSession)=37.6),\n",
       " Row(userId='', sessionId=679, avg(itemInSession)=3.0),\n",
       " Row(userId='', sessionId=1000, avg(itemInSession)=47.666666666666664),\n",
       " Row(userId='', sessionId=1036, avg(itemInSession)=76.5),\n",
       " Row(userId='', sessionId=1223, avg(itemInSession)=195.0),\n",
       " Row(userId='', sessionId=1767, avg(itemInSession)=107.0),\n",
       " Row(userId='', sessionId=1807, avg(itemInSession)=69.0),\n",
       " Row(userId='', sessionId=1845, avg(itemInSession)=25.0),\n",
       " Row(userId='', sessionId=1952, avg(itemInSession)=22.0),\n",
       " Row(userId='', sessionId=498, avg(itemInSession)=3.75),\n",
       " Row(userId='', sessionId=583, avg(itemInSession)=103.0),\n",
       " Row(userId='', sessionId=1351, avg(itemInSession)=31.2),\n",
       " Row(userId='', sessionId=129, avg(itemInSession)=15.857142857142858),\n",
       " Row(userId='', sessionId=672, avg(itemInSession)=48.5),\n",
       " Row(userId='', sessionId=716, avg(itemInSession)=31.5),\n",
       " Row(userId='', sessionId=743, avg(itemInSession)=63.0),\n",
       " Row(userId='', sessionId=984, avg(itemInSession)=12.5),\n",
       " Row(userId='', sessionId=1430, avg(itemInSession)=231.0),\n",
       " Row(userId='', sessionId=1447, avg(itemInSession)=48.5),\n",
       " Row(userId='', sessionId=1695, avg(itemInSession)=18.333333333333332),\n",
       " Row(userId='', sessionId=1879, avg(itemInSession)=33.25),\n",
       " Row(userId='', sessionId=2131, avg(itemInSession)=42.2),\n",
       " Row(userId='', sessionId=2336, avg(itemInSession)=21.5),\n",
       " Row(userId='', sessionId=84, avg(itemInSession)=13.0),\n",
       " Row(userId='', sessionId=272, avg(itemInSession)=0.5),\n",
       " Row(userId='', sessionId=426, avg(itemInSession)=56.0),\n",
       " Row(userId='', sessionId=1429, avg(itemInSession)=395.14285714285717),\n",
       " Row(userId='', sessionId=1805, avg(itemInSession)=81.0),\n",
       " Row(userId='', sessionId=1850, avg(itemInSession)=17.833333333333332),\n",
       " Row(userId='', sessionId=1727, avg(itemInSession)=36.0),\n",
       " Row(userId='', sessionId=1683, avg(itemInSession)=53.5),\n",
       " Row(userId='', sessionId=2024, avg(itemInSession)=61.5),\n",
       " Row(userId='', sessionId=1849, avg(itemInSession)=29.0),\n",
       " Row(userId='', sessionId=2451, avg(itemInSession)=0.0),\n",
       " Row(userId='', sessionId=180, avg(itemInSession)=80.8),\n",
       " Row(userId='', sessionId=340, avg(itemInSession)=2.0),\n",
       " Row(userId='', sessionId=185, avg(itemInSession)=62.0),\n",
       " Row(userId='', sessionId=436, avg(itemInSession)=39.57142857142857),\n",
       " Row(userId='', sessionId=910, avg(itemInSession)=270.7692307692308),\n",
       " Row(userId='', sessionId=866, avg(itemInSession)=38.333333333333336),\n",
       " Row(userId='', sessionId=1071, avg(itemInSession)=6.333333333333333),\n",
       " Row(userId='', sessionId=1627, avg(itemInSession)=33.2),\n",
       " Row(userId='', sessionId=1666, avg(itemInSession)=33.714285714285715),\n",
       " Row(userId='', sessionId=1903, avg(itemInSession)=41.72727272727273),\n",
       " Row(userId='', sessionId=2408, avg(itemInSession)=20.0),\n",
       " Row(userId='', sessionId=94, avg(itemInSession)=28.9),\n",
       " Row(userId='', sessionId=194, avg(itemInSession)=27.125),\n",
       " Row(userId='', sessionId=80, avg(itemInSession)=225.1818181818182),\n",
       " Row(userId='', sessionId=388, avg(itemInSession)=0.0),\n",
       " Row(userId='', sessionId=783, avg(itemInSession)=18.5),\n",
       " Row(userId='', sessionId=2014, avg(itemInSession)=58.0),\n",
       " Row(userId='', sessionId=2070, avg(itemInSession)=193.72727272727272),\n",
       " Row(userId='', sessionId=2337, avg(itemInSession)=52.2),\n",
       " Row(userId='', sessionId=348, avg(itemInSession)=79.57142857142857),\n",
       " Row(userId='', sessionId=60, avg(itemInSession)=62.375),\n",
       " Row(userId='', sessionId=1423, avg(itemInSession)=0.5),\n",
       " Row(userId='', sessionId=193, avg(itemInSession)=32.166666666666664),\n",
       " Row(userId='', sessionId=933, avg(itemInSession)=3.0),\n",
       " Row(userId='', sessionId=1778, avg(itemInSession)=172.5),\n",
       " Row(userId='', sessionId=93, avg(itemInSession)=52.0),\n",
       " Row(userId='', sessionId=326, avg(itemInSession)=32.833333333333336),\n",
       " Row(userId='', sessionId=1103, avg(itemInSession)=59.0),\n",
       " Row(userId='', sessionId=1192, avg(itemInSession)=111.5),\n",
       " Row(userId='', sessionId=1402, avg(itemInSession)=1.5),\n",
       " Row(userId='', sessionId=1439, avg(itemInSession)=0.5),\n",
       " Row(userId='', sessionId=1675, avg(itemInSession)=73.2),\n",
       " Row(userId='', sessionId=2039, avg(itemInSession)=234.83333333333334),\n",
       " Row(userId='', sessionId=2235, avg(itemInSession)=62.5),\n",
       " Row(userId='', sessionId=56, avg(itemInSession)=80.4),\n",
       " Row(userId='', sessionId=321, avg(itemInSession)=8.166666666666666),\n",
       " Row(userId='', sessionId=1280, avg(itemInSession)=12.0),\n",
       " Row(userId='', sessionId=1449, avg(itemInSession)=281.85714285714283),\n",
       " Row(userId='', sessionId=1271, avg(itemInSession)=376.0),\n",
       " Row(userId='', sessionId=2134, avg(itemInSession)=30.25),\n",
       " Row(userId='', sessionId=2085, avg(itemInSession)=29.666666666666668),\n",
       " Row(userId='', sessionId=324, avg(itemInSession)=0.5),\n",
       " Row(userId='', sessionId=815, avg(itemInSession)=0.0),\n",
       " Row(userId='', sessionId=688, avg(itemInSession)=57.0),\n",
       " Row(userId='', sessionId=1105, avg(itemInSession)=49.4),\n",
       " Row(userId='', sessionId=1221, avg(itemInSession)=0.0),\n",
       " Row(userId='', sessionId=1314, avg(itemInSession)=5.5),\n",
       " Row(userId='', sessionId=1808, avg(itemInSession)=0.0),\n",
       " Row(userId='', sessionId=1840, avg(itemInSession)=782.625),\n",
       " Row(userId='', sessionId=2209, avg(itemInSession)=4.0),\n",
       " Row(userId='', sessionId=110, avg(itemInSession)=50.166666666666664),\n",
       " Row(userId='', sessionId=605, avg(itemInSession)=12.666666666666666),\n",
       " Row(userId='', sessionId=770, avg(itemInSession)=47.0),\n",
       " Row(userId='', sessionId=1460, avg(itemInSession)=0.0),\n",
       " Row(userId='', sessionId=1733, avg(itemInSession)=23.5),\n",
       " Row(userId='', sessionId=2305, avg(itemInSession)=131.5),\n",
       " Row(userId='', sessionId=963, avg(itemInSession)=31.666666666666668),\n",
       " Row(userId='', sessionId=932, avg(itemInSession)=189.0),\n",
       " Row(userId='', sessionId=1177, avg(itemInSession)=145.1818181818182),\n",
       " Row(userId='', sessionId=1287, avg(itemInSession)=4.5),\n",
       " Row(userId='', sessionId=1473, avg(itemInSession)=100.5),\n",
       " Row(userId='', sessionId=699, avg(itemInSession)=0.0),\n",
       " Row(userId='', sessionId=1715, avg(itemInSession)=11.5),\n",
       " Row(userId='', sessionId=2073, avg(itemInSession)=26.5),\n",
       " Row(userId='', sessionId=2178, avg(itemInSession)=225.0),\n",
       " Row(userId='', sessionId=2464, avg(itemInSession)=0.5),\n",
       " Row(userId='', sessionId=64, avg(itemInSession)=26.238095238095237),\n",
       " Row(userId='', sessionId=28, avg(itemInSession)=64.5),\n",
       " Row(userId='', sessionId=270, avg(itemInSession)=2.3333333333333335),\n",
       " Row(userId='', sessionId=63, avg(itemInSession)=104.55555555555556),\n",
       " Row(userId='', sessionId=1454, avg(itemInSession)=76.0),\n",
       " Row(userId='', sessionId=1362, avg(itemInSession)=246.1),\n",
       " Row(userId='', sessionId=1804, avg(itemInSession)=31.5),\n",
       " Row(userId='', sessionId=2075, avg(itemInSession)=30.285714285714285),\n",
       " Row(userId='', sessionId=99, avg(itemInSession)=41.15384615384615),\n",
       " Row(userId='', sessionId=149, avg(itemInSession)=147.64285714285714),\n",
       " Row(userId='', sessionId=68, avg(itemInSession)=83.0),\n",
       " Row(userId='', sessionId=345, avg(itemInSession)=45.2),\n",
       " Row(userId='', sessionId=464, avg(itemInSession)=19.857142857142858),\n",
       " Row(userId='', sessionId=1091, avg(itemInSession)=2.5),\n",
       " Row(userId='', sessionId=1255, avg(itemInSession)=74.0),\n",
       " Row(userId='', sessionId=1452, avg(itemInSession)=74.0),\n",
       " Row(userId='', sessionId=1632, avg(itemInSession)=35.0),\n",
       " Row(userId='', sessionId=1631, avg(itemInSession)=6.0),\n",
       " Row(userId='', sessionId=2230, avg(itemInSession)=22.166666666666668),\n",
       " Row(userId='', sessionId=19, avg(itemInSession)=82.0),\n",
       " Row(userId='', sessionId=915, avg(itemInSession)=0.5),\n",
       " Row(userId='', sessionId=1121, avg(itemInSession)=39.5),\n",
       " Row(userId='', sessionId=1245, avg(itemInSession)=86.5),\n",
       " Row(userId='', sessionId=2136, avg(itemInSession)=53.0),\n",
       " Row(userId='', sessionId=2275, avg(itemInSession)=8.5),\n",
       " Row(userId='', sessionId=2394, avg(itemInSession)=0.5),\n",
       " Row(userId='', sessionId=138, avg(itemInSession)=0.0),\n",
       " Row(userId='', sessionId=3, avg(itemInSession)=35.0),\n",
       " Row(userId='', sessionId=415, avg(itemInSession)=55.42857142857143),\n",
       " Row(userId='', sessionId=791, avg(itemInSession)=193.63636363636363),\n",
       " Row(userId='', sessionId=1327, avg(itemInSession)=14.5),\n",
       " Row(userId='', sessionId=1719, avg(itemInSession)=329.09090909090907),\n",
       " Row(userId='', sessionId=2273, avg(itemInSession)=0.5),\n",
       " Row(userId='', sessionId=425, avg(itemInSession)=24.0),\n",
       " Row(userId='', sessionId=1143, avg(itemInSession)=108.5),\n",
       " Row(userId='', sessionId=1559, avg(itemInSession)=133.8),\n",
       " Row(userId='', sessionId=2183, avg(itemInSession)=0.5),\n",
       " Row(userId='', sessionId=2219, avg(itemInSession)=0.0),\n",
       " Row(userId='', sessionId=2244, avg(itemInSession)=159.5),\n",
       " Row(userId='', sessionId=1638, avg(itemInSession)=109.5),\n",
       " Row(userId='', sessionId=397, avg(itemInSession)=179.57142857142858),\n",
       " Row(userId='', sessionId=323, avg(itemInSession)=16.5),\n",
       " Row(userId='', sessionId=403, avg(itemInSession)=19.5),\n",
       " Row(userId='', sessionId=514, avg(itemInSession)=61.0),\n",
       " Row(userId='', sessionId=1874, avg(itemInSession)=49.5),\n",
       " Row(userId='', sessionId=1656, avg(itemInSession)=0.5),\n",
       " Row(userId='', sessionId=2255, avg(itemInSession)=2.5),\n",
       " Row(userId='', sessionId=1999, avg(itemInSession)=193.0),\n",
       " Row(userId='', sessionId=2444, avg(itemInSession)=32.0),\n",
       " Row(userId='', sessionId=330, avg(itemInSession)=62.8),\n",
       " Row(userId='', sessionId=106, avg(itemInSession)=105.0),\n",
       " Row(userId='', sessionId=732, avg(itemInSession)=19.666666666666668),\n",
       " Row(userId='', sessionId=2071, avg(itemInSession)=30.0),\n",
       " Row(userId='', sessionId=79, avg(itemInSession)=101.42857142857143),\n",
       " Row(userId='', sessionId=245, avg(itemInSession)=80.5),\n",
       " Row(userId='', sessionId=328, avg(itemInSession)=99.0),\n",
       " Row(userId='', sessionId=495, avg(itemInSession)=81.0),\n",
       " Row(userId='', sessionId=108, avg(itemInSession)=42.0),\n",
       " Row(userId='', sessionId=612, avg(itemInSession)=3.5),\n",
       " Row(userId='', sessionId=332, avg(itemInSession)=147.7),\n",
       " Row(userId='', sessionId=736, avg(itemInSession)=61.875),\n",
       " Row(userId='', sessionId=894, avg(itemInSession)=0.0),\n",
       " Row(userId='', sessionId=1711, avg(itemInSession)=12.5),\n",
       " Row(userId='', sessionId=5, avg(itemInSession)=52.0),\n",
       " Row(userId='', sessionId=89, avg(itemInSession)=26.25),\n",
       " Row(userId='', sessionId=864, avg(itemInSession)=23.0),\n",
       " Row(userId='', sessionId=966, avg(itemInSession)=0.0),\n",
       " Row(userId='', sessionId=1051, avg(itemInSession)=317.95454545454544),\n",
       " Row(userId='', sessionId=1022, avg(itemInSession)=67.5),\n",
       " Row(userId='', sessionId=1680, avg(itemInSession)=39.0),\n",
       " Row(userId='', sessionId=1788, avg(itemInSession)=24.5),\n",
       " Row(userId='', sessionId=2000, avg(itemInSession)=23.5),\n",
       " Row(userId='', sessionId=2245, avg(itemInSession)=62.166666666666664),\n",
       " Row(userId='', sessionId=2397, avg(itemInSession)=0.5),\n",
       " Row(userId='', sessionId=172, avg(itemInSession)=78.66666666666667),\n",
       " Row(userId='', sessionId=44, avg(itemInSession)=11.333333333333334),\n",
       " Row(userId='', sessionId=131, avg(itemInSession)=44.166666666666664),\n",
       " Row(userId='', sessionId=568, avg(itemInSession)=1.5),\n",
       " Row(userId='', sessionId=863, avg(itemInSession)=0.5),\n",
       " Row(userId='', sessionId=1089, avg(itemInSession)=10.0),\n",
       " Row(userId='', sessionId=974, avg(itemInSession)=74.88888888888889),\n",
       " Row(userId='', sessionId=1544, avg(itemInSession)=233.5),\n",
       " Row(userId='', sessionId=1384, avg(itemInSession)=12.5),\n",
       " Row(userId='', sessionId=2005, avg(itemInSession)=197.0),\n",
       " Row(userId='', sessionId=2079, avg(itemInSession)=42.333333333333336),\n",
       " Row(userId='', sessionId=2345, avg(itemInSession)=58.0),\n",
       " Row(userId='', sessionId=719, avg(itemInSession)=30.5),\n",
       " Row(userId='', sessionId=1858, avg(itemInSession)=33.5),\n",
       " Row(userId='', sessionId=1888, avg(itemInSession)=184.63636363636363),\n",
       " Row(userId='', sessionId=723, avg(itemInSession)=0.0),\n",
       " Row(userId='', sessionId=642, avg(itemInSession)=148.5),\n",
       " Row(userId='', sessionId=988, avg(itemInSession)=214.0),\n",
       " Row(userId='', sessionId=1069, avg(itemInSession)=251.1),\n",
       " Row(userId='', sessionId=981, avg(itemInSession)=36.0),\n",
       " Row(userId='', sessionId=153, avg(itemInSession)=4.125),\n",
       " Row(userId='', sessionId=2254, avg(itemInSession)=8.5),\n",
       " Row(userId='', sessionId=69, avg(itemInSession)=68.3),\n",
       " Row(userId='', sessionId=228, avg(itemInSession)=42.833333333333336),\n",
       " Row(userId='', sessionId=553, avg(itemInSession)=0.5),\n",
       " Row(userId='', sessionId=739, avg(itemInSession)=21.666666666666668),\n",
       " Row(userId='', sessionId=889, avg(itemInSession)=25.4),\n",
       " Row(userId='', sessionId=1915, avg(itemInSession)=68.0),\n",
       " Row(userId='', sessionId=117, avg(itemInSession)=90.5),\n",
       " Row(userId='', sessionId=35, avg(itemInSession)=22.333333333333332),\n",
       " Row(userId='', sessionId=189, avg(itemInSession)=17.166666666666668),\n",
       " Row(userId='', sessionId=451, avg(itemInSession)=25.0),\n",
       " Row(userId='', sessionId=535, avg(itemInSession)=19.0),\n",
       " Row(userId='', sessionId=782, avg(itemInSession)=171.14285714285714),\n",
       " Row(userId='', sessionId=977, avg(itemInSession)=22.333333333333332),\n",
       " Row(userId='', sessionId=1313, avg(itemInSession)=47.0),\n",
       " Row(userId='', sessionId=1225, avg(itemInSession)=13.5),\n",
       " Row(userId='', sessionId=1493, avg(itemInSession)=94.0),\n",
       " Row(userId='', sessionId=1396, avg(itemInSession)=57.0),\n",
       " Row(userId='', sessionId=181, avg(itemInSession)=98.85714285714286),\n",
       " Row(userId='', sessionId=293, avg(itemInSession)=25.666666666666668),\n",
       " Row(userId='', sessionId=418, avg(itemInSession)=18.6),\n",
       " Row(userId='', sessionId=171, avg(itemInSession)=44.588235294117645),\n",
       " Row(userId='', sessionId=1001, avg(itemInSession)=73.5),\n",
       " Row(userId='', sessionId=1438, avg(itemInSession)=59.5),\n",
       " Row(userId='', sessionId=1491, avg(itemInSession)=12.0),\n",
       " Row(userId='', sessionId=1889, avg(itemInSession)=49.0),\n",
       " Row(userId='', sessionId=2271, avg(itemInSession)=216.84615384615384),\n",
       " Row(userId='', sessionId=70, avg(itemInSession)=20.125),\n",
       " Row(userId='', sessionId=377, avg(itemInSession)=287.5882352941176),\n",
       " Row(userId='', sessionId=1474, avg(itemInSession)=277.5),\n",
       " Row(userId='', sessionId=1609, avg(itemInSession)=67.5),\n",
       " Row(userId='', sessionId=1541, avg(itemInSession)=63.75),\n",
       " Row(userId='', sessionId=1813, avg(itemInSession)=109.5),\n",
       " Row(userId='', sessionId=1729, avg(itemInSession)=292.0),\n",
       " Row(userId='', sessionId=2108, avg(itemInSession)=19.0),\n",
       " Row(userId='', sessionId=2248, avg(itemInSession)=94.0),\n",
       " Row(userId='', sessionId=134, avg(itemInSession)=88.66666666666667),\n",
       " Row(userId='', sessionId=525, avg(itemInSession)=1.0),\n",
       " Row(userId='', sessionId=537, avg(itemInSession)=0.0),\n",
       " Row(userId='', sessionId=1388, avg(itemInSession)=72.81818181818181),\n",
       " Row(userId='', sessionId=1645, avg(itemInSession)=0.5),\n",
       " Row(userId='', sessionId=2225, avg(itemInSession)=55.8125),\n",
       " Row(userId='', sessionId=2053, avg(itemInSession)=269.6),\n",
       " Row(userId='', sessionId=2415, avg(itemInSession)=0.0),\n",
       " Row(userId='', sessionId=556, avg(itemInSession)=116.66666666666667),\n",
       " Row(userId='', sessionId=793, avg(itemInSession)=21.0),\n",
       " Row(userId='', sessionId=1159, avg(itemInSession)=101.88888888888889),\n",
       " Row(userId='', sessionId=1486, avg(itemInSession)=172.57142857142858),\n",
       " Row(userId='', sessionId=1853, avg(itemInSession)=1.0),\n",
       " Row(userId='', sessionId=366, avg(itemInSession)=15.666666666666666),\n",
       " Row(userId='', sessionId=654, avg(itemInSession)=18.5),\n",
       " Row(userId='', sessionId=1039, avg(itemInSession)=65.16666666666667),\n",
       " Row(userId='', sessionId=761, avg(itemInSession)=38.0),\n",
       " Row(userId='', sessionId=1918, avg(itemInSession)=109.57142857142857),\n",
       " Row(userId='', sessionId=236, avg(itemInSession)=234.34375),\n",
       " Row(userId='', sessionId=432, avg(itemInSession)=31.5),\n",
       " Row(userId='', sessionId=1483, avg(itemInSession)=292.3333333333333),\n",
       " Row(userId='', sessionId=1325, avg(itemInSession)=156.0),\n",
       " Row(userId='', sessionId=1407, avg(itemInSession)=135.83333333333334),\n",
       " Row(userId='', sessionId=1908, avg(itemInSession)=64.7),\n",
       " Row(userId='', sessionId=2167, avg(itemInSession)=61.0),\n",
       " Row(userId='', sessionId=224, avg(itemInSession)=75.5),\n",
       " Row(userId='', sessionId=671, avg(itemInSession)=44.5),\n",
       " Row(userId='', sessionId=1005, avg(itemInSession)=0.5),\n",
       " Row(userId='', sessionId=1019, avg(itemInSession)=31.0),\n",
       " Row(userId='', sessionId=1254, avg(itemInSession)=32.0),\n",
       " Row(userId='', sessionId=1298, avg(itemInSession)=0.0),\n",
       " Row(userId='', sessionId=1114, avg(itemInSession)=23.5),\n",
       " Row(userId='', sessionId=2013, avg(itemInSession)=147.42857142857142),\n",
       " Row(userId='', sessionId=2288, avg(itemInSession)=4.0),\n",
       " Row(userId='', sessionId=75, avg(itemInSession)=12.5),\n",
       " Row(userId='', sessionId=515, avg(itemInSession)=0.5),\n",
       " Row(userId='', sessionId=220, avg(itemInSession)=21.1),\n",
       " Row(userId='', sessionId=921, avg(itemInSession)=25.5),\n",
       " Row(userId='', sessionId=1477, avg(itemInSession)=16.5),\n",
       " Row(userId='', sessionId=1818, avg(itemInSession)=26.5),\n",
       " Row(userId='', sessionId=2431, avg(itemInSession)=112.16666666666667),\n",
       " Row(userId='', sessionId=12, avg(itemInSession)=29.0),\n",
       " Row(userId='', sessionId=437, avg(itemInSession)=132.75),\n",
       " Row(userId='', sessionId=1299, avg(itemInSession)=49.833333333333336),\n",
       " Row(userId='', sessionId=1658, avg(itemInSession)=89.5),\n",
       " Row(userId='', sessionId=2089, avg(itemInSession)=46.333333333333336),\n",
       " Row(userId='', sessionId=2384, avg(itemInSession)=124.8),\n",
       " Row(userId='', sessionId=170, avg(itemInSession)=38.833333333333336),\n",
       " Row(userId='', sessionId=1608, avg(itemInSession)=299.84615384615387),\n",
       " Row(userId='', sessionId=1692, avg(itemInSession)=0.5),\n",
       " Row(userId='', sessionId=1950, avg(itemInSession)=153.8),\n",
       " Row(userId='', sessionId=2262, avg(itemInSession)=38.5),\n",
       " Row(userId='', sessionId=2328, avg(itemInSession)=15.5),\n",
       " Row(userId='', sessionId=2433, avg(itemInSession)=115.0),\n",
       " Row(userId='', sessionId=118, avg(itemInSession)=64.5),\n",
       " Row(userId='', sessionId=472, avg(itemInSession)=41.0),\n",
       " Row(userId='', sessionId=914, avg(itemInSession)=16.0),\n",
       " Row(userId='', sessionId=456, avg(itemInSession)=0.0),\n",
       " Row(userId='', sessionId=1204, avg(itemInSession)=16.4),\n",
       " Row(userId='', sessionId=1290, avg(itemInSession)=53.75),\n",
       " Row(userId='', sessionId=1323, avg(itemInSession)=15.5),\n",
       " Row(userId='', sessionId=1108, avg(itemInSession)=24.0),\n",
       " Row(userId='', sessionId=1817, avg(itemInSession)=104.5),\n",
       " Row(userId='', sessionId=2049, avg(itemInSession)=52.5),\n",
       " Row(userId='', sessionId=2372, avg(itemInSession)=127.5),\n",
       " Row(userId='', sessionId=506, avg(itemInSession)=15.25),\n",
       " Row(userId='', sessionId=133, avg(itemInSession)=17.6),\n",
       " Row(userId='', sessionId=1375, avg(itemInSession)=20.0),\n",
       " Row(userId='', sessionId=1425, avg(itemInSession)=188.625),\n",
       " Row(userId='', sessionId=1547, avg(itemInSession)=15.5),\n",
       " Row(userId='', sessionId=1738, avg(itemInSession)=55.0),\n",
       " Row(userId='', sessionId=1907, avg(itemInSession)=93.0),\n",
       " Row(userId='', sessionId=2063, avg(itemInSession)=49.5),\n",
       " Row(userId='', sessionId=2197, avg(itemInSession)=78.55555555555556),\n",
       " Row(userId='', sessionId=389, avg(itemInSession)=1.0),\n",
       " Row(userId='', sessionId=120, avg(itemInSession)=36.111111111111114),\n",
       " Row(userId='', sessionId=821, avg(itemInSession)=30.5),\n",
       " Row(userId='', sessionId=1386, avg(itemInSession)=35.2),\n",
       " Row(userId='', sessionId=2293, avg(itemInSession)=7.5),\n",
       " Row(userId='', sessionId=2281, avg(itemInSession)=0.5),\n",
       " Row(userId='', sessionId=130, avg(itemInSession)=14.5),\n",
       " Row(userId='', sessionId=983, avg(itemInSession)=14.5),\n",
       " Row(userId='', sessionId=1535, avg(itemInSession)=17.6),\n",
       " Row(userId='', sessionId=1827, avg(itemInSession)=24.333333333333332),\n",
       " Row(userId='', sessionId=1141, avg(itemInSession)=13.666666666666666),\n",
       " Row(userId='', sessionId=1303, avg(itemInSession)=148.8),\n",
       " Row(userId='', sessionId=1368, avg(itemInSession)=8.333333333333334),\n",
       " Row(userId='', sessionId=1996, avg(itemInSession)=124.27272727272727),\n",
       " Row(userId='', sessionId=223, avg(itemInSession)=17.5),\n",
       " Row(userId='', sessionId=252, avg(itemInSession)=38.0),\n",
       " Row(userId='', sessionId=602, avg(itemInSession)=164.0),\n",
       " Row(userId='', sessionId=1181, avg(itemInSession)=44.4),\n",
       " Row(userId='', sessionId=1297, avg(itemInSession)=83.5),\n",
       " Row(userId='', sessionId=1838, avg(itemInSession)=17.0),\n",
       " Row(userId='', sessionId=2155, avg(itemInSession)=40.666666666666664),\n",
       " Row(userId='', sessionId=45, avg(itemInSession)=62.38461538461539),\n",
       " Row(userId='', sessionId=48, avg(itemInSession)=43.666666666666664),\n",
       " Row(userId='', sessionId=329, avg(itemInSession)=106.0),\n",
       " Row(userId='', sessionId=410, avg(itemInSession)=83.5),\n",
       " Row(userId='', sessionId=589, avg(itemInSession)=0.0),\n",
       " Row(userId='', sessionId=661, avg(itemInSession)=0.0),\n",
       " Row(userId='', sessionId=1633, avg(itemInSession)=29.666666666666668),\n",
       " Row(userId='', sessionId=1479, avg(itemInSession)=27.0),\n",
       " Row(userId='', sessionId=1731, avg(itemInSession)=0.5),\n",
       " Row(userId='', sessionId=1877, avg(itemInSession)=93.66666666666667),\n",
       " Row(userId='', sessionId=1893, avg(itemInSession)=39.5),\n",
       " Row(userId='', sessionId=2115, avg(itemInSession)=56.333333333333336),\n",
       " Row(userId='', sessionId=308, avg(itemInSession)=15.0),\n",
       " Row(userId='', sessionId=338, avg(itemInSession)=20.5),\n",
       " Row(userId='', sessionId=500, avg(itemInSession)=41.0),\n",
       " Row(userId='', sessionId=394, avg(itemInSession)=15.5),\n",
       " Row(userId='', sessionId=718, avg(itemInSession)=212.5),\n",
       " Row(userId='', sessionId=985, avg(itemInSession)=70.5),\n",
       " Row(userId='', sessionId=1094, avg(itemInSession)=36.0),\n",
       " Row(userId='', sessionId=1370, avg(itemInSession)=0.5),\n",
       " Row(userId='', sessionId=888, avg(itemInSession)=85.5),\n",
       " Row(userId='', sessionId=2166, avg(itemInSession)=203.58333333333334),\n",
       " Row(userId='', sessionId=2300, avg(itemInSession)=244.75),\n",
       " Row(userId='', sessionId=571, avg(itemInSession)=0.0),\n",
       " Row(userId='', sessionId=1593, avg(itemInSession)=0.5),\n",
       " Row(userId='', sessionId=1510, avg(itemInSession)=45.5),\n",
       " Row(userId='', sessionId=2382, avg(itemInSession)=40.285714285714285),\n",
       " Row(userId='', sessionId=18, avg(itemInSession)=23.0),\n",
       " Row(userId='', sessionId=33, avg(itemInSession)=13.571428571428571),\n",
       " Row(userId='', sessionId=959, avg(itemInSession)=9.0),\n",
       " Row(userId='', sessionId=334, avg(itemInSession)=0.0),\n",
       " Row(userId='', sessionId=1037, avg(itemInSession)=204.1),\n",
       " Row(userId='', sessionId=1008, avg(itemInSession)=15.5),\n",
       " Row(userId='', sessionId=1150, avg(itemInSession)=354.4),\n",
       " Row(userId='', sessionId=1415, avg(itemInSession)=9.5),\n",
       " Row(userId='', sessionId=1416, avg(itemInSession)=57.4),\n",
       " Row(userId='', sessionId=1145, avg(itemInSession)=49.0),\n",
       " Row(userId='', sessionId=15, avg(itemInSession)=65.85714285714286),\n",
       " Row(userId='', sessionId=8, avg(itemInSession)=101.5),\n",
       " Row(userId='', sessionId=123, avg(itemInSession)=157.70967741935485),\n",
       " Row(userId='', sessionId=227, avg(itemInSession)=31.5),\n",
       " Row(userId='', sessionId=534, avg(itemInSession)=11.0),\n",
       " Row(userId='', sessionId=973, avg(itemInSession)=50.5),\n",
       " Row(userId='', sessionId=1572, avg(itemInSession)=250.36363636363637),\n",
       " Row(userId='', sessionId=1752, avg(itemInSession)=53.5),\n",
       " Row(userId='', sessionId=2091, avg(itemInSession)=45.0),\n",
       " Row(userId='', sessionId=2156, avg(itemInSession)=223.5),\n",
       " Row(userId='', sessionId=2347, avg(itemInSession)=0.0),\n",
       " Row(userId='', sessionId=86, avg(itemInSession)=24.666666666666668),\n",
       " Row(userId='', sessionId=916, avg(itemInSession)=194.72222222222223),\n",
       " Row(userId='', sessionId=1355, avg(itemInSession)=18.5),\n",
       " Row(userId='', sessionId=1611, avg(itemInSession)=108.0),\n",
       " Row(userId='', sessionId=1571, avg(itemInSession)=71.2),\n",
       " Row(userId='', sessionId=1685, avg(itemInSession)=22.5),\n",
       " Row(userId='', sessionId=2064, avg(itemInSession)=75.16666666666667),\n",
       " Row(userId='', sessionId=563, avg(itemInSession)=64.5),\n",
       " Row(userId='', sessionId=598, avg(itemInSession)=0.5),\n",
       " Row(userId='', sessionId=572, avg(itemInSession)=16.0),\n",
       " Row(userId='', sessionId=1169, avg(itemInSession)=216.0),\n",
       " Row(userId='', sessionId=1485, avg(itemInSession)=174.5),\n",
       " Row(userId='', sessionId=1944, avg(itemInSession)=85.4),\n",
       " Row(userId='', sessionId=2098, avg(itemInSession)=63.0),\n",
       " Row(userId='', sessionId=2202, avg(itemInSession)=58.0),\n",
       " Row(userId='', sessionId=2343, avg(itemInSession)=43.0),\n",
       " Row(userId='', sessionId=2399, avg(itemInSession)=0.0),\n",
       " Row(userId='', sessionId=140, avg(itemInSession)=20.25),\n",
       " Row(userId='', sessionId=307, avg(itemInSession)=0.5),\n",
       " Row(userId='', sessionId=242, avg(itemInSession)=34.5),\n",
       " Row(userId='', sessionId=364, avg(itemInSession)=11.2),\n",
       " Row(userId='', sessionId=433, avg(itemInSession)=18.5),\n",
       " Row(userId='', sessionId=463, avg(itemInSession)=2.5),\n",
       " Row(userId='', sessionId=845, avg(itemInSession)=3.5),\n",
       " Row(userId='', sessionId=1282, avg(itemInSession)=52.0),\n",
       " Row(userId='', sessionId=1258, avg(itemInSession)=75.5),\n",
       " Row(userId='', sessionId=1395, avg(itemInSession)=5.0),\n",
       " Row(userId='', sessionId=1913, avg(itemInSession)=39.5),\n",
       " Row(userId='', sessionId=76, avg(itemInSession)=166.95238095238096),\n",
       " Row(userId='', sessionId=85, avg(itemInSession)=110.0),\n",
       " Row(userId='', sessionId=26, avg(itemInSession)=27.0),\n",
       " Row(userId='', sessionId=260, avg(itemInSession)=104.38461538461539),\n",
       " Row(userId='', sessionId=66, avg(itemInSession)=97.54545454545455),\n",
       " Row(userId='', sessionId=566, avg(itemInSession)=0.5),\n",
       " Row(userId='', sessionId=849, avg(itemInSession)=24.0),\n",
       " Row(userId='', sessionId=636, avg(itemInSession)=118.5),\n",
       " Row(userId='', sessionId=1414, avg(itemInSession)=48.5),\n",
       " Row(userId='', sessionId=1472, avg(itemInSession)=90.22222222222223),\n",
       " Row(userId='', sessionId=1587, avg(itemInSession)=4.5),\n",
       " Row(userId='', sessionId=1540, avg(itemInSession)=61.5),\n",
       " Row(userId='', sessionId=1910, avg(itemInSession)=115.75),\n",
       " Row(userId='', sessionId=567, avg(itemInSession)=0.0),\n",
       " Row(userId='', sessionId=712, avg(itemInSession)=0.0),\n",
       " Row(userId='', sessionId=811, avg(itemInSession)=42.5),\n",
       " Row(userId='', sessionId=512, avg(itemInSession)=4.0),\n",
       " Row(userId='', sessionId=1136, avg(itemInSession)=44.5),\n",
       " Row(userId='', sessionId=1590, avg(itemInSession)=313.0),\n",
       " Row(userId='', sessionId=1718, avg(itemInSession)=79.0),\n",
       " Row(userId='', sessionId=1470, avg(itemInSession)=19.0),\n",
       " Row(userId='', sessionId=2357, avg(itemInSession)=8.5),\n",
       " Row(userId='', sessionId=2249, avg(itemInSession)=9.0),\n",
       " Row(userId='', sessionId=142, avg(itemInSession)=32.166666666666664),\n",
       " Row(userId='', sessionId=365, avg(itemInSession)=11.25),\n",
       " Row(userId='', sessionId=368, avg(itemInSession)=228.63636363636363),\n",
       " Row(userId='', sessionId=82, avg(itemInSession)=49.285714285714285),\n",
       " Row(userId='', sessionId=975, avg(itemInSession)=84.0909090909091),\n",
       " Row(userId='', sessionId=1164, avg(itemInSession)=136.0),\n",
       " Row(userId='', sessionId=1681, avg(itemInSession)=34.0),\n",
       " Row(userId='', sessionId=1533, avg(itemInSession)=218.5),\n",
       " Row(userId='', sessionId=2180, avg(itemInSession)=9.0),\n",
       " Row(userId='', sessionId=1867, avg(itemInSession)=3.5),\n",
       " Row(userId='', sessionId=543, avg(itemInSession)=61.5),\n",
       " Row(userId='', sessionId=1478, avg(itemInSession)=5.5),\n",
       " Row(userId='', sessionId=1354, avg(itemInSession)=0.0),\n",
       " Row(userId='', sessionId=1783, avg(itemInSession)=30.5),\n",
       " Row(userId='', sessionId=1982, avg(itemInSession)=48.0),\n",
       " Row(userId='', sessionId=2229, avg(itemInSession)=48.5),\n",
       " Row(userId='', sessionId=2080, avg(itemInSession)=70.0),\n",
       " Row(userId='', sessionId=231, avg(itemInSession)=76.11111111111111),\n",
       " Row(userId='', sessionId=649, avg(itemInSession)=33.5),\n",
       " Row(userId='', sessionId=1307, avg(itemInSession)=90.66666666666667),\n",
       " Row(userId='', sessionId=1468, avg(itemInSession)=103.5),\n",
       " Row(userId='', sessionId=1766, avg(itemInSession)=163.55555555555554),\n",
       " Row(userId='', sessionId=1884, avg(itemInSession)=10.0),\n",
       " Row(userId='', sessionId=1806, avg(itemInSession)=10.5),\n",
       " Row(userId='', sessionId=1847, avg(itemInSession)=0.5),\n",
       " Row(userId='', sessionId=337, avg(itemInSession)=32.30769230769231),\n",
       " Row(userId='', sessionId=215, avg(itemInSession)=44.4),\n",
       " Row(userId='', sessionId=1531, avg(itemInSession)=0.0),\n",
       " Row(userId='', sessionId=1017, avg(itemInSession)=12.8),\n",
       " Row(userId='', sessionId=1984, avg(itemInSession)=92.0),\n",
       " Row(userId='', sessionId=2057, avg(itemInSession)=82.0),\n",
       " Row(userId='', sessionId=2018, avg(itemInSession)=4.5),\n",
       " Row(userId='', sessionId=43, avg(itemInSession)=16.833333333333332),\n",
       " Row(userId='', sessionId=400, avg(itemInSession)=30.0),\n",
       " Row(userId='', sessionId=292, avg(itemInSession)=0.5),\n",
       " Row(userId='', sessionId=9, avg(itemInSession)=63.285714285714285),\n",
       " Row(userId='', sessionId=792, avg(itemInSession)=109.0909090909091),\n",
       " Row(userId='', sessionId=1243, avg(itemInSession)=0.5),\n",
       " Row(userId='', sessionId=1263, avg(itemInSession)=20.25),\n",
       " Row(userId='', sessionId=2428, avg(itemInSession)=0.5),\n",
       " Row(userId='', sessionId=429, avg(itemInSession)=55.0),\n",
       " Row(userId='', sessionId=310, avg(itemInSession)=48.416666666666664),\n",
       " Row(userId='', sessionId=354, avg(itemInSession)=26.5),\n",
       " Row(userId='', sessionId=496, avg(itemInSession)=83.3),\n",
       " Row(userId='', sessionId=547, avg(itemInSession)=109.0),\n",
       " Row(userId='', sessionId=1132, avg(itemInSession)=53.0),\n",
       " Row(userId='', sessionId=964, avg(itemInSession)=8.0),\n",
       " Row(userId='', sessionId=1309, avg(itemInSession)=86.5),\n",
       " Row(userId='', sessionId=1367, avg(itemInSession)=225.44444444444446),\n",
       " Row(userId='', sessionId=1824, avg(itemInSession)=6.5),\n",
       " Row(userId='', sessionId=191, avg(itemInSession)=35.5),\n",
       " Row(userId='', sessionId=246, avg(itemInSession)=0.8),\n",
       " Row(userId='', sessionId=349, avg(itemInSession)=74.14285714285714),\n",
       " Row(userId='', sessionId=577, avg(itemInSession)=17.0),\n",
       " Row(userId='', sessionId=626, avg(itemInSession)=0.5),\n",
       " Row(userId='', sessionId=875, avg(itemInSession)=0.0),\n",
       " Row(userId='', sessionId=938, avg(itemInSession)=39.5),\n",
       " Row(userId='', sessionId=1665, avg(itemInSession)=237.1818181818182),\n",
       " Row(userId='', sessionId=1358, avg(itemInSession)=27.0),\n",
       " Row(userId='', sessionId=2001, avg(itemInSession)=0.0),\n",
       " Row(userId='', sessionId=2380, avg(itemInSession)=7.0),\n",
       " Row(userId='', sessionId=648, avg(itemInSession)=118.3),\n",
       " Row(userId='', sessionId=1080, avg(itemInSession)=271.0),\n",
       " Row(userId='', sessionId=1390, avg(itemInSession)=1.0),\n",
       " Row(userId='', sessionId=1494, avg(itemInSession)=301.3333333333333),\n",
       " Row(userId='', sessionId=2032, avg(itemInSession)=29.5),\n",
       " Row(userId='', sessionId=127, avg(itemInSession)=78.5),\n",
       " Row(userId='', sessionId=391, avg(itemInSession)=69.66666666666667),\n",
       " Row(userId='', sessionId=952, avg(itemInSession)=80.0),\n",
       " Row(userId='', sessionId=1458, avg(itemInSession)=39.5),\n",
       " Row(userId='', sessionId=2020, avg(itemInSession)=40.5),\n",
       " Row(userId='', sessionId=2200, avg(itemInSession)=110.4),\n",
       " Row(userId='', sessionId=190, avg(itemInSession)=47.5),\n",
       " Row(userId='', sessionId=305, avg(itemInSession)=99.3076923076923),\n",
       " Row(userId='', sessionId=806, avg(itemInSession)=65.5),\n",
       " Row(userId='', sessionId=869, avg(itemInSession)=57.0),\n",
       " Row(userId='', sessionId=929, avg(itemInSession)=162.0),\n",
       " Row(userId='', sessionId=657, avg(itemInSession)=15.5),\n",
       " Row(userId='', sessionId=874, avg(itemInSession)=19.6),\n",
       " Row(userId='', sessionId=1120, avg(itemInSession)=119.64285714285714),\n",
       " Row(userId='', sessionId=902, avg(itemInSession)=16.5),\n",
       " Row(userId='', sessionId=2149, avg(itemInSession)=34.714285714285715),\n",
       " Row(userId='', sessionId=2274, avg(itemInSession)=59.5),\n",
       " Row(userId='', sessionId=105, avg(itemInSession)=26.923076923076923),\n",
       " Row(userId='', sessionId=385, avg(itemInSession)=33.2),\n",
       " Row(userId='', sessionId=835, avg(itemInSession)=1.0),\n",
       " Row(userId='', sessionId=1248, avg(itemInSession)=5.5),\n",
       " Row(userId='', sessionId=1206, avg(itemInSession)=4.5),\n",
       " Row(userId='', sessionId=1484, avg(itemInSession)=101.14285714285714),\n",
       " Row(userId='', sessionId=1542, avg(itemInSession)=156.5),\n",
       " Row(userId='', sessionId=13, avg(itemInSession)=25.0),\n",
       " Row(userId='', sessionId=74, avg(itemInSession)=1.0),\n",
       " Row(userId='', sessionId=280, avg(itemInSession)=60.833333333333336),\n",
       " Row(userId='', sessionId=634, avg(itemInSession)=160.5),\n",
       " Row(userId='', sessionId=1197, avg(itemInSession)=18.5),\n",
       " Row(userId='', sessionId=1278, avg(itemInSession)=73.0),\n",
       " Row(userId='', sessionId=1937, avg(itemInSession)=126.0),\n",
       " Row(userId='', sessionId=1948, avg(itemInSession)=3.5),\n",
       " Row(userId='', sessionId=942, avg(itemInSession)=17.666666666666668),\n",
       " Row(userId='', sessionId=2213, avg(itemInSession)=188.11111111111111),\n",
       " Row(userId='', sessionId=195, avg(itemInSession)=7.8),\n",
       " Row(userId='', sessionId=146, avg(itemInSession)=3.75),\n",
       " Row(userId='', sessionId=319, avg(itemInSession)=13.0),\n",
       " Row(userId='', sessionId=486, avg(itemInSession)=59.5),\n",
       " Row(userId='', sessionId=725, avg(itemInSession)=72.14285714285714),\n",
       " Row(userId='', sessionId=1782, avg(itemInSession)=7.0),\n",
       " Row(userId='', sessionId=2038, avg(itemInSession)=28.333333333333332),\n",
       " Row(userId='', sessionId=2081, avg(itemInSession)=35.5),\n",
       " Row(userId='', sessionId=2216, avg(itemInSession)=15.5),\n",
       " Row(userId='', sessionId=2164, avg(itemInSession)=2.5),\n",
       " Row(userId='', sessionId=2331, avg(itemInSession)=16.0),\n",
       " Row(userId='', sessionId=343, avg(itemInSession)=65.16666666666667),\n",
       " Row(userId='', sessionId=675, avg(itemInSession)=4.5),\n",
       " Row(userId='', sessionId=1218, avg(itemInSession)=60.9),\n",
       " Row(userId='', sessionId=2263, avg(itemInSession)=0.0),\n",
       " Row(userId='', sessionId=2304, avg(itemInSession)=99.28571428571429),\n",
       " Row(userId='', sessionId=459, avg(itemInSession)=67.5),\n",
       " Row(userId='', sessionId=263, avg(itemInSession)=2.25),\n",
       " Row(userId='', sessionId=438, avg(itemInSession)=83.5),\n",
       " Row(userId='', sessionId=823, avg(itemInSession)=10.0),\n",
       " Row(userId='', sessionId=1057, avg(itemInSession)=324.7692307692308),\n",
       " Row(userId='', sessionId=1409, avg(itemInSession)=4.0),\n",
       " Row(userId='', sessionId=1419, avg(itemInSession)=134.4),\n",
       " Row(userId='', sessionId=1626, avg(itemInSession)=22.5),\n",
       " Row(userId='', sessionId=1848, avg(itemInSession)=74.5),\n",
       " Row(userId='', sessionId=1964, avg(itemInSession)=190.5),\n",
       " Row(userId='', sessionId=1988, avg(itemInSession)=0.5),\n",
       " Row(userId='', sessionId=114, avg(itemInSession)=0.3333333333333333),\n",
       " Row(userId='', sessionId=298, avg(itemInSession)=47.666666666666664),\n",
       " Row(userId='', sessionId=1220, avg(itemInSession)=352.3333333333333),\n",
       " Row(userId='', sessionId=1316, avg(itemInSession)=41.0),\n",
       " Row(userId='', sessionId=1266, avg(itemInSession)=50.5),\n",
       " Row(userId='', sessionId=1546, avg(itemInSession)=12.0),\n",
       " Row(userId='', sessionId=1566, avg(itemInSession)=229.84615384615384),\n",
       " Row(userId='', sessionId=1707, avg(itemInSession)=0.0),\n",
       " Row(userId='', sessionId=2401, avg(itemInSession)=175.14285714285714),\n",
       " Row(userId='', sessionId=2102, avg(itemInSession)=3.6),\n",
       " Row(userId='', sessionId=210, avg(itemInSession)=74.27272727272727),\n",
       " Row(userId='', sessionId=918, avg(itemInSession)=31.333333333333332),\n",
       " Row(userId='', sessionId=992, avg(itemInSession)=46.8),\n",
       " Row(userId='', sessionId=1144, avg(itemInSession)=94.0),\n",
       " Row(userId='', sessionId=794, avg(itemInSession)=183.375),\n",
       " Row(userId='', sessionId=1155, avg(itemInSession)=56.5),\n",
       " Row(userId='', sessionId=1173, avg(itemInSession)=0.0),\n",
       " Row(userId='', sessionId=166, avg(itemInSession)=44.0),\n",
       " Row(userId='', sessionId=1527, avg(itemInSession)=0.0),\n",
       " Row(userId='', sessionId=2054, avg(itemInSession)=41.166666666666664),\n",
       " Row(userId='', sessionId=58, avg(itemInSession)=35.61538461538461),\n",
       " Row(userId='', sessionId=427, avg(itemInSession)=48.44444444444444),\n",
       " Row(userId='', sessionId=360, avg(itemInSession)=35.142857142857146),\n",
       " Row(userId='', sessionId=111, avg(itemInSession)=18.88888888888889),\n",
       " Row(userId='', sessionId=1009, avg(itemInSession)=108.5),\n",
       " Row(userId='', sessionId=1128, avg(itemInSession)=129.33333333333334),\n",
       " Row(userId='', sessionId=1899, avg(itemInSession)=0.0),\n",
       " Row(userId='', sessionId=95, avg(itemInSession)=9.0),\n",
       " Row(userId='', sessionId=175, avg(itemInSession)=44.833333333333336),\n",
       " Row(userId='', sessionId=150, avg(itemInSession)=50.8),\n",
       " Row(userId='', sessionId=214, avg(itemInSession)=41.833333333333336),\n",
       " Row(userId='', sessionId=160, avg(itemInSession)=11.833333333333334),\n",
       " Row(userId='', sessionId=274, avg(itemInSession)=0.5),\n",
       " Row(userId='', sessionId=312, avg(itemInSession)=135.57142857142858),\n",
       " Row(userId='', sessionId=333, avg(itemInSession)=66.16666666666667),\n",
       " Row(userId='', sessionId=639, avg(itemInSession)=75.0),\n",
       " Row(userId='', sessionId=1235, avg(itemInSession)=194.4375),\n",
       " Row(userId='', sessionId=1691, avg(itemInSession)=27.0),\n",
       " Row(userId='', sessionId=1654, avg(itemInSession)=61.5),\n",
       " Row(userId='', sessionId=1970, avg(itemInSession)=0.0),\n",
       " Row(userId='', sessionId=169, avg(itemInSession)=45.0),\n",
       " Row(userId='', sessionId=341, avg(itemInSession)=70.5),\n",
       " Row(userId='', sessionId=446, avg(itemInSession)=49.5),\n",
       " Row(userId='', sessionId=842, avg(itemInSession)=94.5),\n",
       " Row(userId='', sessionId=878, avg(itemInSession)=17.0),\n",
       " Row(userId='', sessionId=900, avg(itemInSession)=20.8),\n",
       " Row(userId='', sessionId=1171, avg(itemInSession)=49.5),\n",
       " Row(userId='', sessionId=1291, avg(itemInSession)=3.5),\n",
       " Row(userId='', sessionId=1459, avg(itemInSession)=123.8),\n",
       " Row(userId='', sessionId=1551, avg(itemInSession)=24.5),\n",
       " Row(userId='', sessionId=1524, avg(itemInSession)=25.0),\n",
       " Row(userId='', sessionId=1426, avg(itemInSession)=41.833333333333336),\n",
       " Row(userId='', sessionId=587, avg(itemInSession)=40.5),\n",
       " Row(userId='', sessionId=881, avg(itemInSession)=97.0),\n",
       " Row(userId='', sessionId=158, avg(itemInSession)=13.6),\n",
       " Row(userId='', sessionId=1383, avg(itemInSession)=8.5),\n",
       " Row(userId='', sessionId=1617, avg(itemInSession)=18.285714285714285),\n",
       " Row(userId='', sessionId=269, avg(itemInSession)=17.2),\n",
       " Row(userId='', sessionId=168, avg(itemInSession)=5.375),\n",
       " Row(userId='', sessionId=346, avg(itemInSession)=40.666666666666664),\n",
       " Row(userId='', sessionId=113, avg(itemInSession)=13.375),\n",
       " Row(userId='', sessionId=787, avg(itemInSession)=59.5),\n",
       " Row(userId='', sessionId=995, avg(itemInSession)=0.0),\n",
       " Row(userId='', sessionId=1434, avg(itemInSession)=30.5),\n",
       " Row(userId='', sessionId=1749, avg(itemInSession)=65.0),\n",
       " Row(userId='', sessionId=1761, avg(itemInSession)=182.16666666666666),\n",
       " Row(userId='', sessionId=37, avg(itemInSession)=0.0),\n",
       " Row(userId='', sessionId=370, avg(itemInSession)=1.5),\n",
       " Row(userId='', sessionId=740, avg(itemInSession)=55.333333333333336),\n",
       " Row(userId='', sessionId=1696, avg(itemInSession)=299.125),\n",
       " Row(userId='', sessionId=1872, avg(itemInSession)=121.0),\n",
       " Row(userId='', sessionId=2097, avg(itemInSession)=32.5),\n",
       " Row(userId='', sessionId=2210, avg(itemInSession)=31.8),\n",
       " Row(userId='', sessionId=2280, avg(itemInSession)=201.5),\n",
       " Row(userId='', sessionId=309, avg(itemInSession)=47.77777777777778),\n",
       " Row(userId='', sessionId=183, avg(itemInSession)=30.071428571428573),\n",
       " Row(userId='', sessionId=733, avg(itemInSession)=5.5),\n",
       " Row(userId='', sessionId=1152, avg(itemInSession)=24.5),\n",
       " Row(userId='', sessionId=1670, avg(itemInSession)=37.57142857142857),\n",
       " Row(userId='', sessionId=2068, avg(itemInSession)=295.5),\n",
       " Row(userId='', sessionId=22, avg(itemInSession)=23.0),\n",
       " Row(userId='', sessionId=562, avg(itemInSession)=19.5),\n",
       " Row(userId='', sessionId=778, avg(itemInSession)=23.0),\n",
       " Row(userId='', sessionId=802, avg(itemInSession)=0.5),\n",
       " Row(userId='', sessionId=886, avg(itemInSession)=0.0),\n",
       " Row(userId='', sessionId=1588, avg(itemInSession)=1.0),\n",
       " Row(userId='', sessionId=1758, avg(itemInSession)=13.666666666666666),\n",
       " Row(userId='', sessionId=1815, avg(itemInSession)=0.0),\n",
       " Row(userId='', sessionId=2006, avg(itemInSession)=18.5),\n",
       " Row(userId='', sessionId=375, avg(itemInSession)=67.9),\n",
       " Row(userId='', sessionId=300, avg(itemInSession)=28.5),\n",
       " Row(userId='', sessionId=839, avg(itemInSession)=255.94736842105263),\n",
       " Row(userId='', sessionId=883, avg(itemInSession)=0.0),\n",
       " Row(userId='', sessionId=1295, avg(itemInSession)=197.46666666666667),\n",
       " Row(userId='', sessionId=1821, avg(itemInSession)=5.5),\n",
       " Row(userId='', sessionId=1990, avg(itemInSession)=65.5),\n",
       " Row(userId='', sessionId=2377, avg(itemInSession)=68.5),\n",
       " Row(userId='', sessionId=17, avg(itemInSession)=7.5),\n",
       " Row(userId='', sessionId=401, avg(itemInSession)=87.75),\n",
       " Row(userId='', sessionId=686, avg(itemInSession)=69.85714285714286),\n",
       " Row(userId='', sessionId=799, avg(itemInSession)=1.0),\n",
       " Row(userId='', sessionId=769, avg(itemInSession)=233.2),\n",
       " Row(userId='', sessionId=949, avg(itemInSession)=0.0),\n",
       " Row(userId='', sessionId=1134, avg(itemInSession)=296.1333333333333),\n",
       " Row(userId='', sessionId=1852, avg(itemInSession)=95.16666666666667),\n",
       " Row(userId='', sessionId=2392, avg(itemInSession)=81.5),\n",
       " Row(userId='', sessionId=314, avg(itemInSession)=54.8),\n",
       " Row(userId='', sessionId=1068, avg(itemInSession)=153.125),\n",
       " Row(userId='', sessionId=758, avg(itemInSession)=92.14285714285714),\n",
       " Row(userId='', sessionId=1274, avg(itemInSession)=38.333333333333336),\n",
       " Row(userId='', sessionId=1705, avg(itemInSession)=16.5),\n",
       " Row(userId='', sessionId=315, avg(itemInSession)=28.4),\n",
       " Row(userId='', sessionId=11, avg(itemInSession)=0.0),\n",
       " Row(userId='', sessionId=711, avg(itemInSession)=72.5),\n",
       " Row(userId='', sessionId=504, avg(itemInSession)=2.5),\n",
       " ...]"
      ]
     },
     "execution_count": 10,
     "metadata": {},
     "output_type": "execute_result"
    }
   ],
   "source": [
    "df.select(['itemInSession', 'userId', 'sessionId']).groupBy(['userId', 'sessionId']).agg({'itemInSession': 'avg'}).sort('userId').collect()"
   ]
  },
  {
   "cell_type": "code",
   "execution_count": 11,
   "metadata": {},
   "outputs": [
    {
     "name": "stdout",
     "output_type": "stream",
     "text": [
      "+---------+\n",
      "|sessionId|\n",
      "+---------+\n",
      "|        1|\n",
      "|        2|\n",
      "|        3|\n",
      "|        4|\n",
      "|        5|\n",
      "|        6|\n",
      "|        7|\n",
      "|        8|\n",
      "|        9|\n",
      "|       10|\n",
      "+---------+\n",
      "only showing top 10 rows\n",
      "\n"
     ]
    }
   ],
   "source": [
    "df.select('sessionId').dropDuplicates().sort('sessionId').show(10)"
   ]
  },
  {
   "cell_type": "code",
   "execution_count": 12,
   "metadata": {},
   "outputs": [
    {
     "data": {
      "text/plain": [
       "286500"
      ]
     },
     "execution_count": 12,
     "metadata": {},
     "output_type": "execute_result"
    }
   ],
   "source": [
    "df = df.dropna(how = 'any', subset = ['userId', 'sessionId'])\n",
    "df.count()"
   ]
  },
  {
   "cell_type": "code",
   "execution_count": 13,
   "metadata": {},
   "outputs": [
    {
     "data": {
      "text/plain": [
       "278154"
      ]
     },
     "execution_count": 13,
     "metadata": {},
     "output_type": "execute_result"
    }
   ],
   "source": [
    "df = df[df.userId != \"\"]\n",
    "df.count()"
   ]
  },
  {
   "cell_type": "code",
   "execution_count": 14,
   "metadata": {},
   "outputs": [
    {
     "data": {
      "text/plain": [
       "DataFrame[artist: string, auth: string, firstName: string, gender: string, itemInSession: bigint, lastName: string, length: double, level: string, location: string, method: string, page: string, registration: bigint, sessionId: bigint, song: string, status: bigint, ts: bigint, userAgent: string, userId: string]"
      ]
     },
     "execution_count": 14,
     "metadata": {},
     "output_type": "execute_result"
    }
   ],
   "source": [
    "df.where(col(\"ts\").isNull())"
   ]
  },
  {
   "cell_type": "markdown",
   "metadata": {},
   "source": [
    "Convert timestamps to useable datetime formats"
   ]
  },
  {
   "cell_type": "code",
   "execution_count": 15,
   "metadata": {},
   "outputs": [],
   "source": [
    "new_ts = udf(lambda x: datetime.datetime.fromtimestamp(x / 1000.0).strftime(\"%m-%d-%Y %H:%M:%S\"))\n",
    "df = df.withColumn('updated_registration', new_ts('registration'))\n",
    "df = df.withColumn('updated_ts', new_ts('ts'))"
   ]
  },
  {
   "cell_type": "code",
   "execution_count": 16,
   "metadata": {},
   "outputs": [
    {
     "data": {
      "text/plain": [
       "[Row(artist='Martha Tilston', auth='Logged In', firstName='Colin', gender='M', itemInSession=50, lastName='Freeman', length=277.89016, level='paid', location='Bakersfield, CA', method='PUT', page='NextSong', registration=1538173362000, sessionId=29, song='Rockpools', status=200, ts=1538352117000, userAgent='Mozilla/5.0 (Windows NT 6.1; WOW64; rv:31.0) Gecko/20100101 Firefox/31.0', userId='30', updated_registration='09-28-2018 22:22:42', updated_ts='10-01-2018 00:01:57'),\n",
       " Row(artist='Five Iron Frenzy', auth='Logged In', firstName='Micah', gender='M', itemInSession=79, lastName='Long', length=236.09424, level='free', location='Boston-Cambridge-Newton, MA-NH', method='PUT', page='NextSong', registration=1538331630000, sessionId=8, song='Canada', status=200, ts=1538352180000, userAgent='\"Mozilla/5.0 (Windows NT 6.1; WOW64) AppleWebKit/537.36 (KHTML, like Gecko) Chrome/37.0.2062.103 Safari/537.36\"', userId='9', updated_registration='09-30-2018 18:20:30', updated_ts='10-01-2018 00:03:00'),\n",
       " Row(artist='Adam Lambert', auth='Logged In', firstName='Colin', gender='M', itemInSession=51, lastName='Freeman', length=282.8273, level='paid', location='Bakersfield, CA', method='PUT', page='NextSong', registration=1538173362000, sessionId=29, song='Time For Miracles', status=200, ts=1538352394000, userAgent='Mozilla/5.0 (Windows NT 6.1; WOW64; rv:31.0) Gecko/20100101 Firefox/31.0', userId='30', updated_registration='09-28-2018 22:22:42', updated_ts='10-01-2018 00:06:34'),\n",
       " Row(artist='Enigma', auth='Logged In', firstName='Micah', gender='M', itemInSession=80, lastName='Long', length=262.71302, level='free', location='Boston-Cambridge-Newton, MA-NH', method='PUT', page='NextSong', registration=1538331630000, sessionId=8, song='Knocking On Forbidden Doors', status=200, ts=1538352416000, userAgent='\"Mozilla/5.0 (Windows NT 6.1; WOW64) AppleWebKit/537.36 (KHTML, like Gecko) Chrome/37.0.2062.103 Safari/537.36\"', userId='9', updated_registration='09-30-2018 18:20:30', updated_ts='10-01-2018 00:06:56'),\n",
       " Row(artist='Daft Punk', auth='Logged In', firstName='Colin', gender='M', itemInSession=52, lastName='Freeman', length=223.60771, level='paid', location='Bakersfield, CA', method='PUT', page='NextSong', registration=1538173362000, sessionId=29, song='Harder Better Faster Stronger', status=200, ts=1538352676000, userAgent='Mozilla/5.0 (Windows NT 6.1; WOW64; rv:31.0) Gecko/20100101 Firefox/31.0', userId='30', updated_registration='09-28-2018 22:22:42', updated_ts='10-01-2018 00:11:16')]"
      ]
     },
     "execution_count": 16,
     "metadata": {},
     "output_type": "execute_result"
    }
   ],
   "source": [
    "df.take(5)"
   ]
  },
  {
   "cell_type": "code",
   "execution_count": 17,
   "metadata": {},
   "outputs": [],
   "source": [
    "# Checking Downgrade event\n",
    "flag_downgrade_event = udf(lambda x: 1 if x == \"Submit Downgrade\" else 0, IntegerType())\n",
    "df = df.withColumn(\"downgrade_event\", flag_downgrade_event(\"page\"))"
   ]
  },
  {
   "cell_type": "code",
   "execution_count": 18,
   "metadata": {
    "scrolled": true
   },
   "outputs": [],
   "source": [
    "windowval = Window.partitionBy('userId')\n",
    "df = df.withColumn('downgrade', Fmax('downgrade_event').over(windowval))"
   ]
  },
  {
   "cell_type": "code",
   "execution_count": 19,
   "metadata": {},
   "outputs": [],
   "source": [
    "# Checking Cancellation event\n",
    "churn_value = udf(lambda x: 1 if x == 'Cancellation Confirmation' else 0, IntegerType())\n",
    "df = df.withColumn(\"churn_value\", churn_value(\"page\"))\n",
    "\n",
    "churn_window = Window.partitionBy('UserId')\n",
    "df = df.withColumn(\"user_churn\", Fmax('churn_value').over(churn_window))"
   ]
  },
  {
   "cell_type": "code",
   "execution_count": 20,
   "metadata": {},
   "outputs": [],
   "source": [
    "df_pd = df.toPandas()"
   ]
  },
  {
   "cell_type": "code",
   "execution_count": 21,
   "metadata": {},
   "outputs": [
    {
     "data": {
      "text/html": [
       "<div>\n",
       "<style scoped>\n",
       "    .dataframe tbody tr th:only-of-type {\n",
       "        vertical-align: middle;\n",
       "    }\n",
       "\n",
       "    .dataframe tbody tr th {\n",
       "        vertical-align: top;\n",
       "    }\n",
       "\n",
       "    .dataframe thead th {\n",
       "        text-align: right;\n",
       "    }\n",
       "</style>\n",
       "<table border=\"1\" class=\"dataframe\">\n",
       "  <thead>\n",
       "    <tr style=\"text-align: right;\">\n",
       "      <th></th>\n",
       "      <th>0</th>\n",
       "      <th>1</th>\n",
       "      <th>2</th>\n",
       "      <th>3</th>\n",
       "      <th>4</th>\n",
       "    </tr>\n",
       "  </thead>\n",
       "  <tbody>\n",
       "    <tr>\n",
       "      <th>artist</th>\n",
       "      <td>Sleeping With Sirens</td>\n",
       "      <td>Francesca Battistelli</td>\n",
       "      <td>Brutha</td>\n",
       "      <td>None</td>\n",
       "      <td>Josh Ritter</td>\n",
       "    </tr>\n",
       "    <tr>\n",
       "      <th>auth</th>\n",
       "      <td>Logged In</td>\n",
       "      <td>Logged In</td>\n",
       "      <td>Logged In</td>\n",
       "      <td>Logged In</td>\n",
       "      <td>Logged In</td>\n",
       "    </tr>\n",
       "    <tr>\n",
       "      <th>firstName</th>\n",
       "      <td>Darianna</td>\n",
       "      <td>Darianna</td>\n",
       "      <td>Darianna</td>\n",
       "      <td>Darianna</td>\n",
       "      <td>Darianna</td>\n",
       "    </tr>\n",
       "    <tr>\n",
       "      <th>gender</th>\n",
       "      <td>F</td>\n",
       "      <td>F</td>\n",
       "      <td>F</td>\n",
       "      <td>F</td>\n",
       "      <td>F</td>\n",
       "    </tr>\n",
       "    <tr>\n",
       "      <th>itemInSession</th>\n",
       "      <td>0</td>\n",
       "      <td>1</td>\n",
       "      <td>2</td>\n",
       "      <td>3</td>\n",
       "      <td>4</td>\n",
       "    </tr>\n",
       "    <tr>\n",
       "      <th>lastName</th>\n",
       "      <td>Carpenter</td>\n",
       "      <td>Carpenter</td>\n",
       "      <td>Carpenter</td>\n",
       "      <td>Carpenter</td>\n",
       "      <td>Carpenter</td>\n",
       "    </tr>\n",
       "    <tr>\n",
       "      <th>length</th>\n",
       "      <td>202.971</td>\n",
       "      <td>196.545</td>\n",
       "      <td>263.131</td>\n",
       "      <td>NaN</td>\n",
       "      <td>316.238</td>\n",
       "    </tr>\n",
       "    <tr>\n",
       "      <th>level</th>\n",
       "      <td>free</td>\n",
       "      <td>free</td>\n",
       "      <td>free</td>\n",
       "      <td>free</td>\n",
       "      <td>free</td>\n",
       "    </tr>\n",
       "    <tr>\n",
       "      <th>location</th>\n",
       "      <td>Bridgeport-Stamford-Norwalk, CT</td>\n",
       "      <td>Bridgeport-Stamford-Norwalk, CT</td>\n",
       "      <td>Bridgeport-Stamford-Norwalk, CT</td>\n",
       "      <td>Bridgeport-Stamford-Norwalk, CT</td>\n",
       "      <td>Bridgeport-Stamford-Norwalk, CT</td>\n",
       "    </tr>\n",
       "    <tr>\n",
       "      <th>method</th>\n",
       "      <td>PUT</td>\n",
       "      <td>PUT</td>\n",
       "      <td>PUT</td>\n",
       "      <td>PUT</td>\n",
       "      <td>PUT</td>\n",
       "    </tr>\n",
       "    <tr>\n",
       "      <th>page</th>\n",
       "      <td>NextSong</td>\n",
       "      <td>NextSong</td>\n",
       "      <td>NextSong</td>\n",
       "      <td>Thumbs Up</td>\n",
       "      <td>NextSong</td>\n",
       "    </tr>\n",
       "    <tr>\n",
       "      <th>registration</th>\n",
       "      <td>1538016340000</td>\n",
       "      <td>1538016340000</td>\n",
       "      <td>1538016340000</td>\n",
       "      <td>1538016340000</td>\n",
       "      <td>1538016340000</td>\n",
       "    </tr>\n",
       "    <tr>\n",
       "      <th>sessionId</th>\n",
       "      <td>31</td>\n",
       "      <td>31</td>\n",
       "      <td>31</td>\n",
       "      <td>31</td>\n",
       "      <td>31</td>\n",
       "    </tr>\n",
       "    <tr>\n",
       "      <th>song</th>\n",
       "      <td>Captain Tyin Knots VS Mr Walkway (No Way)</td>\n",
       "      <td>Beautiful_ Beautiful (Album)</td>\n",
       "      <td>She's Gone</td>\n",
       "      <td>None</td>\n",
       "      <td>Folk Bloodbath</td>\n",
       "    </tr>\n",
       "    <tr>\n",
       "      <th>status</th>\n",
       "      <td>200</td>\n",
       "      <td>200</td>\n",
       "      <td>200</td>\n",
       "      <td>307</td>\n",
       "      <td>200</td>\n",
       "    </tr>\n",
       "    <tr>\n",
       "      <th>ts</th>\n",
       "      <td>1539003534000</td>\n",
       "      <td>1539003736000</td>\n",
       "      <td>1539003932000</td>\n",
       "      <td>1539003933000</td>\n",
       "      <td>1539004195000</td>\n",
       "    </tr>\n",
       "    <tr>\n",
       "      <th>userAgent</th>\n",
       "      <td>\"Mozilla/5.0 (iPhone; CPU iPhone OS 7_1_2 like...</td>\n",
       "      <td>\"Mozilla/5.0 (iPhone; CPU iPhone OS 7_1_2 like...</td>\n",
       "      <td>\"Mozilla/5.0 (iPhone; CPU iPhone OS 7_1_2 like...</td>\n",
       "      <td>\"Mozilla/5.0 (iPhone; CPU iPhone OS 7_1_2 like...</td>\n",
       "      <td>\"Mozilla/5.0 (iPhone; CPU iPhone OS 7_1_2 like...</td>\n",
       "    </tr>\n",
       "    <tr>\n",
       "      <th>userId</th>\n",
       "      <td>100010</td>\n",
       "      <td>100010</td>\n",
       "      <td>100010</td>\n",
       "      <td>100010</td>\n",
       "      <td>100010</td>\n",
       "    </tr>\n",
       "    <tr>\n",
       "      <th>updated_registration</th>\n",
       "      <td>09-27-2018 02:45:40</td>\n",
       "      <td>09-27-2018 02:45:40</td>\n",
       "      <td>09-27-2018 02:45:40</td>\n",
       "      <td>09-27-2018 02:45:40</td>\n",
       "      <td>09-27-2018 02:45:40</td>\n",
       "    </tr>\n",
       "    <tr>\n",
       "      <th>updated_ts</th>\n",
       "      <td>10-08-2018 12:58:54</td>\n",
       "      <td>10-08-2018 13:02:16</td>\n",
       "      <td>10-08-2018 13:05:32</td>\n",
       "      <td>10-08-2018 13:05:33</td>\n",
       "      <td>10-08-2018 13:09:55</td>\n",
       "    </tr>\n",
       "    <tr>\n",
       "      <th>downgrade_event</th>\n",
       "      <td>0</td>\n",
       "      <td>0</td>\n",
       "      <td>0</td>\n",
       "      <td>0</td>\n",
       "      <td>0</td>\n",
       "    </tr>\n",
       "    <tr>\n",
       "      <th>downgrade</th>\n",
       "      <td>0</td>\n",
       "      <td>0</td>\n",
       "      <td>0</td>\n",
       "      <td>0</td>\n",
       "      <td>0</td>\n",
       "    </tr>\n",
       "    <tr>\n",
       "      <th>churn_value</th>\n",
       "      <td>0</td>\n",
       "      <td>0</td>\n",
       "      <td>0</td>\n",
       "      <td>0</td>\n",
       "      <td>0</td>\n",
       "    </tr>\n",
       "    <tr>\n",
       "      <th>user_churn</th>\n",
       "      <td>0</td>\n",
       "      <td>0</td>\n",
       "      <td>0</td>\n",
       "      <td>0</td>\n",
       "      <td>0</td>\n",
       "    </tr>\n",
       "  </tbody>\n",
       "</table>\n",
       "</div>"
      ],
      "text/plain": [
       "                                                                      0  \\\n",
       "artist                                             Sleeping With Sirens   \n",
       "auth                                                          Logged In   \n",
       "firstName                                                      Darianna   \n",
       "gender                                                                F   \n",
       "itemInSession                                                         0   \n",
       "lastName                                                      Carpenter   \n",
       "length                                                          202.971   \n",
       "level                                                              free   \n",
       "location                                Bridgeport-Stamford-Norwalk, CT   \n",
       "method                                                              PUT   \n",
       "page                                                           NextSong   \n",
       "registration                                              1538016340000   \n",
       "sessionId                                                            31   \n",
       "song                          Captain Tyin Knots VS Mr Walkway (No Way)   \n",
       "status                                                              200   \n",
       "ts                                                        1539003534000   \n",
       "userAgent             \"Mozilla/5.0 (iPhone; CPU iPhone OS 7_1_2 like...   \n",
       "userId                                                           100010   \n",
       "updated_registration                                09-27-2018 02:45:40   \n",
       "updated_ts                                          10-08-2018 12:58:54   \n",
       "downgrade_event                                                       0   \n",
       "downgrade                                                             0   \n",
       "churn_value                                                           0   \n",
       "user_churn                                                            0   \n",
       "\n",
       "                                                                      1  \\\n",
       "artist                                            Francesca Battistelli   \n",
       "auth                                                          Logged In   \n",
       "firstName                                                      Darianna   \n",
       "gender                                                                F   \n",
       "itemInSession                                                         1   \n",
       "lastName                                                      Carpenter   \n",
       "length                                                          196.545   \n",
       "level                                                              free   \n",
       "location                                Bridgeport-Stamford-Norwalk, CT   \n",
       "method                                                              PUT   \n",
       "page                                                           NextSong   \n",
       "registration                                              1538016340000   \n",
       "sessionId                                                            31   \n",
       "song                                       Beautiful_ Beautiful (Album)   \n",
       "status                                                              200   \n",
       "ts                                                        1539003736000   \n",
       "userAgent             \"Mozilla/5.0 (iPhone; CPU iPhone OS 7_1_2 like...   \n",
       "userId                                                           100010   \n",
       "updated_registration                                09-27-2018 02:45:40   \n",
       "updated_ts                                          10-08-2018 13:02:16   \n",
       "downgrade_event                                                       0   \n",
       "downgrade                                                             0   \n",
       "churn_value                                                           0   \n",
       "user_churn                                                            0   \n",
       "\n",
       "                                                                      2  \\\n",
       "artist                                                           Brutha   \n",
       "auth                                                          Logged In   \n",
       "firstName                                                      Darianna   \n",
       "gender                                                                F   \n",
       "itemInSession                                                         2   \n",
       "lastName                                                      Carpenter   \n",
       "length                                                          263.131   \n",
       "level                                                              free   \n",
       "location                                Bridgeport-Stamford-Norwalk, CT   \n",
       "method                                                              PUT   \n",
       "page                                                           NextSong   \n",
       "registration                                              1538016340000   \n",
       "sessionId                                                            31   \n",
       "song                                                         She's Gone   \n",
       "status                                                              200   \n",
       "ts                                                        1539003932000   \n",
       "userAgent             \"Mozilla/5.0 (iPhone; CPU iPhone OS 7_1_2 like...   \n",
       "userId                                                           100010   \n",
       "updated_registration                                09-27-2018 02:45:40   \n",
       "updated_ts                                          10-08-2018 13:05:32   \n",
       "downgrade_event                                                       0   \n",
       "downgrade                                                             0   \n",
       "churn_value                                                           0   \n",
       "user_churn                                                            0   \n",
       "\n",
       "                                                                      3  \\\n",
       "artist                                                             None   \n",
       "auth                                                          Logged In   \n",
       "firstName                                                      Darianna   \n",
       "gender                                                                F   \n",
       "itemInSession                                                         3   \n",
       "lastName                                                      Carpenter   \n",
       "length                                                              NaN   \n",
       "level                                                              free   \n",
       "location                                Bridgeport-Stamford-Norwalk, CT   \n",
       "method                                                              PUT   \n",
       "page                                                          Thumbs Up   \n",
       "registration                                              1538016340000   \n",
       "sessionId                                                            31   \n",
       "song                                                               None   \n",
       "status                                                              307   \n",
       "ts                                                        1539003933000   \n",
       "userAgent             \"Mozilla/5.0 (iPhone; CPU iPhone OS 7_1_2 like...   \n",
       "userId                                                           100010   \n",
       "updated_registration                                09-27-2018 02:45:40   \n",
       "updated_ts                                          10-08-2018 13:05:33   \n",
       "downgrade_event                                                       0   \n",
       "downgrade                                                             0   \n",
       "churn_value                                                           0   \n",
       "user_churn                                                            0   \n",
       "\n",
       "                                                                      4  \n",
       "artist                                                      Josh Ritter  \n",
       "auth                                                          Logged In  \n",
       "firstName                                                      Darianna  \n",
       "gender                                                                F  \n",
       "itemInSession                                                         4  \n",
       "lastName                                                      Carpenter  \n",
       "length                                                          316.238  \n",
       "level                                                              free  \n",
       "location                                Bridgeport-Stamford-Norwalk, CT  \n",
       "method                                                              PUT  \n",
       "page                                                           NextSong  \n",
       "registration                                              1538016340000  \n",
       "sessionId                                                            31  \n",
       "song                                                     Folk Bloodbath  \n",
       "status                                                              200  \n",
       "ts                                                        1539004195000  \n",
       "userAgent             \"Mozilla/5.0 (iPhone; CPU iPhone OS 7_1_2 like...  \n",
       "userId                                                           100010  \n",
       "updated_registration                                09-27-2018 02:45:40  \n",
       "updated_ts                                          10-08-2018 13:09:55  \n",
       "downgrade_event                                                       0  \n",
       "downgrade                                                             0  \n",
       "churn_value                                                           0  \n",
       "user_churn                                                            0  "
      ]
     },
     "execution_count": 21,
     "metadata": {},
     "output_type": "execute_result"
    }
   ],
   "source": [
    "df_pd.head().T"
   ]
  },
  {
   "cell_type": "code",
   "execution_count": 22,
   "metadata": {},
   "outputs": [
    {
     "data": {
      "text/html": [
       "<div>\n",
       "<style scoped>\n",
       "    .dataframe tbody tr th:only-of-type {\n",
       "        vertical-align: middle;\n",
       "    }\n",
       "\n",
       "    .dataframe tbody tr th {\n",
       "        vertical-align: top;\n",
       "    }\n",
       "\n",
       "    .dataframe thead th {\n",
       "        text-align: right;\n",
       "    }\n",
       "</style>\n",
       "<table border=\"1\" class=\"dataframe\">\n",
       "  <thead>\n",
       "    <tr style=\"text-align: right;\">\n",
       "      <th></th>\n",
       "      <th>itemInSession</th>\n",
       "      <th>length</th>\n",
       "      <th>registration</th>\n",
       "      <th>sessionId</th>\n",
       "      <th>status</th>\n",
       "      <th>ts</th>\n",
       "      <th>downgrade_event</th>\n",
       "      <th>downgrade</th>\n",
       "      <th>churn_value</th>\n",
       "      <th>user_churn</th>\n",
       "    </tr>\n",
       "  </thead>\n",
       "  <tbody>\n",
       "    <tr>\n",
       "      <th>count</th>\n",
       "      <td>278154.000000</td>\n",
       "      <td>228108.000000</td>\n",
       "      <td>2.781540e+05</td>\n",
       "      <td>278154.000000</td>\n",
       "      <td>278154.000000</td>\n",
       "      <td>2.781540e+05</td>\n",
       "      <td>278154.000000</td>\n",
       "      <td>278154.000000</td>\n",
       "      <td>278154.000000</td>\n",
       "      <td>278154.000000</td>\n",
       "    </tr>\n",
       "    <tr>\n",
       "      <th>mean</th>\n",
       "      <td>114.899182</td>\n",
       "      <td>249.117182</td>\n",
       "      <td>1.535359e+12</td>\n",
       "      <td>1042.561624</td>\n",
       "      <td>209.103216</td>\n",
       "      <td>1.540959e+12</td>\n",
       "      <td>0.000226</td>\n",
       "      <td>0.383428</td>\n",
       "      <td>0.000187</td>\n",
       "      <td>0.161292</td>\n",
       "    </tr>\n",
       "    <tr>\n",
       "      <th>std</th>\n",
       "      <td>129.851729</td>\n",
       "      <td>99.235179</td>\n",
       "      <td>3.291322e+09</td>\n",
       "      <td>726.501036</td>\n",
       "      <td>30.151389</td>\n",
       "      <td>1.506829e+09</td>\n",
       "      <td>0.015048</td>\n",
       "      <td>0.486222</td>\n",
       "      <td>0.013672</td>\n",
       "      <td>0.367801</td>\n",
       "    </tr>\n",
       "    <tr>\n",
       "      <th>min</th>\n",
       "      <td>0.000000</td>\n",
       "      <td>0.783220</td>\n",
       "      <td>1.521381e+12</td>\n",
       "      <td>1.000000</td>\n",
       "      <td>200.000000</td>\n",
       "      <td>1.538352e+12</td>\n",
       "      <td>0.000000</td>\n",
       "      <td>0.000000</td>\n",
       "      <td>0.000000</td>\n",
       "      <td>0.000000</td>\n",
       "    </tr>\n",
       "    <tr>\n",
       "      <th>25%</th>\n",
       "      <td>27.000000</td>\n",
       "      <td>199.888530</td>\n",
       "      <td>1.533522e+12</td>\n",
       "      <td>338.000000</td>\n",
       "      <td>200.000000</td>\n",
       "      <td>1.539699e+12</td>\n",
       "      <td>0.000000</td>\n",
       "      <td>0.000000</td>\n",
       "      <td>0.000000</td>\n",
       "      <td>0.000000</td>\n",
       "    </tr>\n",
       "    <tr>\n",
       "      <th>50%</th>\n",
       "      <td>70.000000</td>\n",
       "      <td>234.500770</td>\n",
       "      <td>1.536664e+12</td>\n",
       "      <td>1017.000000</td>\n",
       "      <td>200.000000</td>\n",
       "      <td>1.540934e+12</td>\n",
       "      <td>0.000000</td>\n",
       "      <td>0.000000</td>\n",
       "      <td>0.000000</td>\n",
       "      <td>0.000000</td>\n",
       "    </tr>\n",
       "    <tr>\n",
       "      <th>75%</th>\n",
       "      <td>157.000000</td>\n",
       "      <td>277.158730</td>\n",
       "      <td>1.537672e+12</td>\n",
       "      <td>1675.000000</td>\n",
       "      <td>200.000000</td>\n",
       "      <td>1.542268e+12</td>\n",
       "      <td>0.000000</td>\n",
       "      <td>1.000000</td>\n",
       "      <td>0.000000</td>\n",
       "      <td>0.000000</td>\n",
       "    </tr>\n",
       "    <tr>\n",
       "      <th>max</th>\n",
       "      <td>1321.000000</td>\n",
       "      <td>3024.665670</td>\n",
       "      <td>1.543247e+12</td>\n",
       "      <td>2474.000000</td>\n",
       "      <td>404.000000</td>\n",
       "      <td>1.543799e+12</td>\n",
       "      <td>1.000000</td>\n",
       "      <td>1.000000</td>\n",
       "      <td>1.000000</td>\n",
       "      <td>1.000000</td>\n",
       "    </tr>\n",
       "  </tbody>\n",
       "</table>\n",
       "</div>"
      ],
      "text/plain": [
       "       itemInSession         length  registration      sessionId  \\\n",
       "count  278154.000000  228108.000000  2.781540e+05  278154.000000   \n",
       "mean      114.899182     249.117182  1.535359e+12    1042.561624   \n",
       "std       129.851729      99.235179  3.291322e+09     726.501036   \n",
       "min         0.000000       0.783220  1.521381e+12       1.000000   \n",
       "25%        27.000000     199.888530  1.533522e+12     338.000000   \n",
       "50%        70.000000     234.500770  1.536664e+12    1017.000000   \n",
       "75%       157.000000     277.158730  1.537672e+12    1675.000000   \n",
       "max      1321.000000    3024.665670  1.543247e+12    2474.000000   \n",
       "\n",
       "              status            ts  downgrade_event      downgrade  \\\n",
       "count  278154.000000  2.781540e+05    278154.000000  278154.000000   \n",
       "mean      209.103216  1.540959e+12         0.000226       0.383428   \n",
       "std        30.151389  1.506829e+09         0.015048       0.486222   \n",
       "min       200.000000  1.538352e+12         0.000000       0.000000   \n",
       "25%       200.000000  1.539699e+12         0.000000       0.000000   \n",
       "50%       200.000000  1.540934e+12         0.000000       0.000000   \n",
       "75%       200.000000  1.542268e+12         0.000000       1.000000   \n",
       "max       404.000000  1.543799e+12         1.000000       1.000000   \n",
       "\n",
       "         churn_value     user_churn  \n",
       "count  278154.000000  278154.000000  \n",
       "mean        0.000187       0.161292  \n",
       "std         0.013672       0.367801  \n",
       "min         0.000000       0.000000  \n",
       "25%         0.000000       0.000000  \n",
       "50%         0.000000       0.000000  \n",
       "75%         0.000000       0.000000  \n",
       "max         1.000000       1.000000  "
      ]
     },
     "execution_count": 22,
     "metadata": {},
     "output_type": "execute_result"
    }
   ],
   "source": [
    "df_pd.describe()"
   ]
  },
  {
   "cell_type": "code",
   "execution_count": 23,
   "metadata": {
    "scrolled": true
   },
   "outputs": [
    {
     "data": {
      "text/html": [
       "<div>\n",
       "<style scoped>\n",
       "    .dataframe tbody tr th:only-of-type {\n",
       "        vertical-align: middle;\n",
       "    }\n",
       "\n",
       "    .dataframe tbody tr th {\n",
       "        vertical-align: top;\n",
       "    }\n",
       "\n",
       "    .dataframe thead th {\n",
       "        text-align: right;\n",
       "    }\n",
       "</style>\n",
       "<table border=\"1\" class=\"dataframe\">\n",
       "  <thead>\n",
       "    <tr style=\"text-align: right;\">\n",
       "      <th></th>\n",
       "      <th>userId</th>\n",
       "      <th>level</th>\n",
       "      <th>itemInSession</th>\n",
       "    </tr>\n",
       "  </thead>\n",
       "  <tbody>\n",
       "    <tr>\n",
       "      <th>0</th>\n",
       "      <td>10</td>\n",
       "      <td>paid</td>\n",
       "      <td>67.771889</td>\n",
       "    </tr>\n",
       "    <tr>\n",
       "      <th>1</th>\n",
       "      <td>100</td>\n",
       "      <td>free</td>\n",
       "      <td>44.877114</td>\n",
       "    </tr>\n",
       "    <tr>\n",
       "      <th>2</th>\n",
       "      <td>100</td>\n",
       "      <td>paid</td>\n",
       "      <td>53.290452</td>\n",
       "    </tr>\n",
       "    <tr>\n",
       "      <th>3</th>\n",
       "      <td>100001</td>\n",
       "      <td>free</td>\n",
       "      <td>25.303713</td>\n",
       "    </tr>\n",
       "    <tr>\n",
       "      <th>4</th>\n",
       "      <td>100002</td>\n",
       "      <td>paid</td>\n",
       "      <td>26.772727</td>\n",
       "    </tr>\n",
       "    <tr>\n",
       "      <th>5</th>\n",
       "      <td>100003</td>\n",
       "      <td>free</td>\n",
       "      <td>21.105263</td>\n",
       "    </tr>\n",
       "    <tr>\n",
       "      <th>6</th>\n",
       "      <td>100004</td>\n",
       "      <td>free</td>\n",
       "      <td>28.552915</td>\n",
       "    </tr>\n",
       "    <tr>\n",
       "      <th>7</th>\n",
       "      <td>100004</td>\n",
       "      <td>paid</td>\n",
       "      <td>56.012482</td>\n",
       "    </tr>\n",
       "    <tr>\n",
       "      <th>8</th>\n",
       "      <td>100005</td>\n",
       "      <td>free</td>\n",
       "      <td>21.703175</td>\n",
       "    </tr>\n",
       "    <tr>\n",
       "      <th>9</th>\n",
       "      <td>100006</td>\n",
       "      <td>free</td>\n",
       "      <td>21.772727</td>\n",
       "    </tr>\n",
       "    <tr>\n",
       "      <th>10</th>\n",
       "      <td>100007</td>\n",
       "      <td>paid</td>\n",
       "      <td>29.053585</td>\n",
       "    </tr>\n",
       "    <tr>\n",
       "      <th>11</th>\n",
       "      <td>100008</td>\n",
       "      <td>free</td>\n",
       "      <td>300.750000</td>\n",
       "    </tr>\n",
       "    <tr>\n",
       "      <th>12</th>\n",
       "      <td>100008</td>\n",
       "      <td>paid</td>\n",
       "      <td>87.777101</td>\n",
       "    </tr>\n",
       "    <tr>\n",
       "      <th>13</th>\n",
       "      <td>100009</td>\n",
       "      <td>free</td>\n",
       "      <td>29.124637</td>\n",
       "    </tr>\n",
       "    <tr>\n",
       "      <th>14</th>\n",
       "      <td>100009</td>\n",
       "      <td>paid</td>\n",
       "      <td>46.766569</td>\n",
       "    </tr>\n",
       "    <tr>\n",
       "      <th>15</th>\n",
       "      <td>100010</td>\n",
       "      <td>free</td>\n",
       "      <td>27.559452</td>\n",
       "    </tr>\n",
       "    <tr>\n",
       "      <th>16</th>\n",
       "      <td>100011</td>\n",
       "      <td>free</td>\n",
       "      <td>11.000000</td>\n",
       "    </tr>\n",
       "    <tr>\n",
       "      <th>17</th>\n",
       "      <td>100012</td>\n",
       "      <td>free</td>\n",
       "      <td>50.108768</td>\n",
       "    </tr>\n",
       "    <tr>\n",
       "      <th>18</th>\n",
       "      <td>100012</td>\n",
       "      <td>paid</td>\n",
       "      <td>68.946071</td>\n",
       "    </tr>\n",
       "    <tr>\n",
       "      <th>19</th>\n",
       "      <td>100013</td>\n",
       "      <td>free</td>\n",
       "      <td>51.612126</td>\n",
       "    </tr>\n",
       "    <tr>\n",
       "      <th>20</th>\n",
       "      <td>100013</td>\n",
       "      <td>paid</td>\n",
       "      <td>51.649029</td>\n",
       "    </tr>\n",
       "    <tr>\n",
       "      <th>21</th>\n",
       "      <td>100014</td>\n",
       "      <td>paid</td>\n",
       "      <td>26.033408</td>\n",
       "    </tr>\n",
       "    <tr>\n",
       "      <th>22</th>\n",
       "      <td>100015</td>\n",
       "      <td>free</td>\n",
       "      <td>51.658009</td>\n",
       "    </tr>\n",
       "    <tr>\n",
       "      <th>23</th>\n",
       "      <td>100015</td>\n",
       "      <td>paid</td>\n",
       "      <td>56.883159</td>\n",
       "    </tr>\n",
       "    <tr>\n",
       "      <th>24</th>\n",
       "      <td>100016</td>\n",
       "      <td>free</td>\n",
       "      <td>40.250000</td>\n",
       "    </tr>\n",
       "    <tr>\n",
       "      <th>25</th>\n",
       "      <td>100016</td>\n",
       "      <td>paid</td>\n",
       "      <td>39.181161</td>\n",
       "    </tr>\n",
       "    <tr>\n",
       "      <th>26</th>\n",
       "      <td>100017</td>\n",
       "      <td>free</td>\n",
       "      <td>37.000000</td>\n",
       "    </tr>\n",
       "    <tr>\n",
       "      <th>27</th>\n",
       "      <td>100018</td>\n",
       "      <td>free</td>\n",
       "      <td>56.888621</td>\n",
       "    </tr>\n",
       "    <tr>\n",
       "      <th>28</th>\n",
       "      <td>100018</td>\n",
       "      <td>paid</td>\n",
       "      <td>31.954221</td>\n",
       "    </tr>\n",
       "    <tr>\n",
       "      <th>29</th>\n",
       "      <td>100019</td>\n",
       "      <td>free</td>\n",
       "      <td>24.954918</td>\n",
       "    </tr>\n",
       "    <tr>\n",
       "      <th>...</th>\n",
       "      <td>...</td>\n",
       "      <td>...</td>\n",
       "      <td>...</td>\n",
       "    </tr>\n",
       "    <tr>\n",
       "      <th>330</th>\n",
       "      <td>85</td>\n",
       "      <td>free</td>\n",
       "      <td>25.663720</td>\n",
       "    </tr>\n",
       "    <tr>\n",
       "      <th>331</th>\n",
       "      <td>85</td>\n",
       "      <td>paid</td>\n",
       "      <td>77.524293</td>\n",
       "    </tr>\n",
       "    <tr>\n",
       "      <th>332</th>\n",
       "      <td>86</td>\n",
       "      <td>free</td>\n",
       "      <td>19.538377</td>\n",
       "    </tr>\n",
       "    <tr>\n",
       "      <th>333</th>\n",
       "      <td>86</td>\n",
       "      <td>paid</td>\n",
       "      <td>67.431879</td>\n",
       "    </tr>\n",
       "    <tr>\n",
       "      <th>334</th>\n",
       "      <td>87</td>\n",
       "      <td>free</td>\n",
       "      <td>18.207295</td>\n",
       "    </tr>\n",
       "    <tr>\n",
       "      <th>335</th>\n",
       "      <td>87</td>\n",
       "      <td>paid</td>\n",
       "      <td>70.549110</td>\n",
       "    </tr>\n",
       "    <tr>\n",
       "      <th>336</th>\n",
       "      <td>88</td>\n",
       "      <td>free</td>\n",
       "      <td>10.619960</td>\n",
       "    </tr>\n",
       "    <tr>\n",
       "      <th>337</th>\n",
       "      <td>88</td>\n",
       "      <td>paid</td>\n",
       "      <td>80.545868</td>\n",
       "    </tr>\n",
       "    <tr>\n",
       "      <th>338</th>\n",
       "      <td>89</td>\n",
       "      <td>free</td>\n",
       "      <td>26.250000</td>\n",
       "    </tr>\n",
       "    <tr>\n",
       "      <th>339</th>\n",
       "      <td>89</td>\n",
       "      <td>paid</td>\n",
       "      <td>110.876749</td>\n",
       "    </tr>\n",
       "    <tr>\n",
       "      <th>340</th>\n",
       "      <td>9</td>\n",
       "      <td>free</td>\n",
       "      <td>36.786662</td>\n",
       "    </tr>\n",
       "    <tr>\n",
       "      <th>341</th>\n",
       "      <td>9</td>\n",
       "      <td>paid</td>\n",
       "      <td>56.970051</td>\n",
       "    </tr>\n",
       "    <tr>\n",
       "      <th>342</th>\n",
       "      <td>90</td>\n",
       "      <td>free</td>\n",
       "      <td>4.200000</td>\n",
       "    </tr>\n",
       "    <tr>\n",
       "      <th>343</th>\n",
       "      <td>91</td>\n",
       "      <td>free</td>\n",
       "      <td>25.220430</td>\n",
       "    </tr>\n",
       "    <tr>\n",
       "      <th>344</th>\n",
       "      <td>91</td>\n",
       "      <td>paid</td>\n",
       "      <td>213.316093</td>\n",
       "    </tr>\n",
       "    <tr>\n",
       "      <th>345</th>\n",
       "      <td>92</td>\n",
       "      <td>free</td>\n",
       "      <td>22.061531</td>\n",
       "    </tr>\n",
       "    <tr>\n",
       "      <th>346</th>\n",
       "      <td>92</td>\n",
       "      <td>paid</td>\n",
       "      <td>53.521695</td>\n",
       "    </tr>\n",
       "    <tr>\n",
       "      <th>347</th>\n",
       "      <td>93</td>\n",
       "      <td>free</td>\n",
       "      <td>28.326910</td>\n",
       "    </tr>\n",
       "    <tr>\n",
       "      <th>348</th>\n",
       "      <td>93</td>\n",
       "      <td>paid</td>\n",
       "      <td>63.766667</td>\n",
       "    </tr>\n",
       "    <tr>\n",
       "      <th>349</th>\n",
       "      <td>94</td>\n",
       "      <td>free</td>\n",
       "      <td>15.940283</td>\n",
       "    </tr>\n",
       "    <tr>\n",
       "      <th>350</th>\n",
       "      <td>95</td>\n",
       "      <td>free</td>\n",
       "      <td>21.678995</td>\n",
       "    </tr>\n",
       "    <tr>\n",
       "      <th>351</th>\n",
       "      <td>95</td>\n",
       "      <td>paid</td>\n",
       "      <td>64.554376</td>\n",
       "    </tr>\n",
       "    <tr>\n",
       "      <th>352</th>\n",
       "      <td>96</td>\n",
       "      <td>free</td>\n",
       "      <td>31.977669</td>\n",
       "    </tr>\n",
       "    <tr>\n",
       "      <th>353</th>\n",
       "      <td>96</td>\n",
       "      <td>paid</td>\n",
       "      <td>67.260498</td>\n",
       "    </tr>\n",
       "    <tr>\n",
       "      <th>354</th>\n",
       "      <td>97</td>\n",
       "      <td>free</td>\n",
       "      <td>16.677092</td>\n",
       "    </tr>\n",
       "    <tr>\n",
       "      <th>355</th>\n",
       "      <td>97</td>\n",
       "      <td>paid</td>\n",
       "      <td>61.573658</td>\n",
       "    </tr>\n",
       "    <tr>\n",
       "      <th>356</th>\n",
       "      <td>98</td>\n",
       "      <td>free</td>\n",
       "      <td>17.600226</td>\n",
       "    </tr>\n",
       "    <tr>\n",
       "      <th>357</th>\n",
       "      <td>98</td>\n",
       "      <td>paid</td>\n",
       "      <td>82.828117</td>\n",
       "    </tr>\n",
       "    <tr>\n",
       "      <th>358</th>\n",
       "      <td>99</td>\n",
       "      <td>free</td>\n",
       "      <td>13.769231</td>\n",
       "    </tr>\n",
       "    <tr>\n",
       "      <th>359</th>\n",
       "      <td>99</td>\n",
       "      <td>paid</td>\n",
       "      <td>41.780850</td>\n",
       "    </tr>\n",
       "  </tbody>\n",
       "</table>\n",
       "<p>360 rows × 3 columns</p>\n",
       "</div>"
      ],
      "text/plain": [
       "     userId level  itemInSession\n",
       "0        10  paid      67.771889\n",
       "1       100  free      44.877114\n",
       "2       100  paid      53.290452\n",
       "3    100001  free      25.303713\n",
       "4    100002  paid      26.772727\n",
       "5    100003  free      21.105263\n",
       "6    100004  free      28.552915\n",
       "7    100004  paid      56.012482\n",
       "8    100005  free      21.703175\n",
       "9    100006  free      21.772727\n",
       "10   100007  paid      29.053585\n",
       "11   100008  free     300.750000\n",
       "12   100008  paid      87.777101\n",
       "13   100009  free      29.124637\n",
       "14   100009  paid      46.766569\n",
       "15   100010  free      27.559452\n",
       "16   100011  free      11.000000\n",
       "17   100012  free      50.108768\n",
       "18   100012  paid      68.946071\n",
       "19   100013  free      51.612126\n",
       "20   100013  paid      51.649029\n",
       "21   100014  paid      26.033408\n",
       "22   100015  free      51.658009\n",
       "23   100015  paid      56.883159\n",
       "24   100016  free      40.250000\n",
       "25   100016  paid      39.181161\n",
       "26   100017  free      37.000000\n",
       "27   100018  free      56.888621\n",
       "28   100018  paid      31.954221\n",
       "29   100019  free      24.954918\n",
       "..      ...   ...            ...\n",
       "330      85  free      25.663720\n",
       "331      85  paid      77.524293\n",
       "332      86  free      19.538377\n",
       "333      86  paid      67.431879\n",
       "334      87  free      18.207295\n",
       "335      87  paid      70.549110\n",
       "336      88  free      10.619960\n",
       "337      88  paid      80.545868\n",
       "338      89  free      26.250000\n",
       "339      89  paid     110.876749\n",
       "340       9  free      36.786662\n",
       "341       9  paid      56.970051\n",
       "342      90  free       4.200000\n",
       "343      91  free      25.220430\n",
       "344      91  paid     213.316093\n",
       "345      92  free      22.061531\n",
       "346      92  paid      53.521695\n",
       "347      93  free      28.326910\n",
       "348      93  paid      63.766667\n",
       "349      94  free      15.940283\n",
       "350      95  free      21.678995\n",
       "351      95  paid      64.554376\n",
       "352      96  free      31.977669\n",
       "353      96  paid      67.260498\n",
       "354      97  free      16.677092\n",
       "355      97  paid      61.573658\n",
       "356      98  free      17.600226\n",
       "357      98  paid      82.828117\n",
       "358      99  free      13.769231\n",
       "359      99  paid      41.780850\n",
       "\n",
       "[360 rows x 3 columns]"
      ]
     },
     "execution_count": 23,
     "metadata": {},
     "output_type": "execute_result"
    }
   ],
   "source": [
    "(df_pd.groupby(['userId', 'level', 'sessionId'])['itemInSession'].mean()).groupby(['userId', 'level']).mean().reset_index()"
   ]
  },
  {
   "cell_type": "code",
   "execution_count": 24,
   "metadata": {},
   "outputs": [
    {
     "data": {
      "text/plain": [
       "Text(0.5,1,'Distribution of Users by churn')"
      ]
     },
     "execution_count": 24,
     "metadata": {},
     "output_type": "execute_result"
    },
    {
     "data": {
      "image/png": "[encoded data removed]",
      "text/plain": [
       "<matplotlib.figure.Figure at 0x7f80ffd715f8>"
      ]
     },
     "metadata": {
      "needs_background": "light"
     },
     "output_type": "display_data"
    }
   ],
   "source": [
    "churn_df = df_pd.groupby('user_churn').userId.nunique().reset_index()\n",
    "sns.barplot(churn_df.user_churn, churn_df.userId)\n",
    "plt.title('Distribution of Users by churn')"
   ]
  },
  {
   "cell_type": "markdown",
   "metadata": {},
   "source": [
    "**Highly Imbalanced Dataset**"
   ]
  },
  {
   "cell_type": "code",
   "execution_count": 60,
   "metadata": {},
   "outputs": [
    {
     "data": {
      "text/plain": [
       "Text(0.5,1,'Distribution of users by Subscription level')"
      ]
     },
     "execution_count": 60,
     "metadata": {},
     "output_type": "execute_result"
    },
    {
     "data": {
      "image/png": "[encoded data removed]",
      "text/plain": [
       "<matplotlib.figure.Figure at 0x7f81046a10b8>"
      ]
     },
     "metadata": {
      "needs_background": "light"
     },
     "output_type": "display_data"
    }
   ],
   "source": [
    "sns.countplot(df_pd.drop_duplicates('userId').level)\n",
    "plt.title('Distribution of users by Subscription level')"
   ]
  },
  {
   "cell_type": "markdown",
   "metadata": {},
   "source": [
    "More free users than paid users"
   ]
  },
  {
   "cell_type": "code",
   "execution_count": 26,
   "metadata": {},
   "outputs": [
    {
     "data": {
      "text/plain": [
       "gender\n",
       "F    104\n",
       "M    121\n",
       "Name: userId, dtype: int64"
      ]
     },
     "execution_count": 26,
     "metadata": {},
     "output_type": "execute_result"
    }
   ],
   "source": [
    "df_pd.groupby('gender').userId.nunique()"
   ]
  },
  {
   "cell_type": "markdown",
   "metadata": {},
   "source": [
    "Dataset is almost balanced wrt gender of users"
   ]
  },
  {
   "cell_type": "code",
   "execution_count": 27,
   "metadata": {},
   "outputs": [
    {
     "data": {
      "text/plain": [
       "Text(0.5,1,'Distribution of churned users by gender')"
      ]
     },
     "execution_count": 27,
     "metadata": {},
     "output_type": "execute_result"
    },
    {
     "data": {
      "image/png": "[encoded data removed]",
      "text/plain": [
       "<matplotlib.figure.Figure at 0x7f8103cf1160>"
      ]
     },
     "metadata": {
      "needs_background": "light"
     },
     "output_type": "display_data"
    }
   ],
   "source": [
    "churn_by_gender = df_pd.groupby(['user_churn', 'gender']).userId.nunique().reset_index()\n",
    "sns.barplot(churn_by_gender.user_churn, churn_by_gender.userId, hue=churn_by_gender.gender)\n",
    "plt.title('Distribution of churned users by gender')"
   ]
  },
  {
   "cell_type": "code",
   "execution_count": 28,
   "metadata": {},
   "outputs": [
    {
     "data": {
      "text/plain": [
       "Text(0.5,1,'Percent of churned users by Subscription level')"
      ]
     },
     "execution_count": 28,
     "metadata": {},
     "output_type": "execute_result"
    },
    {
     "data": {
      "image/png": "[encoded data removed]",
      "text/plain": [
       "<matplotlib.figure.Figure at 0x7f812e70f518>"
      ]
     },
     "metadata": {
      "needs_background": "light"
     },
     "output_type": "display_data"
    }
   ],
   "source": [
    "churn_by_level = df_pd.groupby(['level', 'user_churn']).userId.nunique()\n",
    "churn_pcts = churn_by_level.groupby(level=0).apply(lambda x:\n",
    "                                                 100 * x / float(x.sum())).reset_index()\n",
    "sns.barplot(churn_pcts.user_churn, churn_pcts.userId, hue=churn_pcts.level)\n",
    "plt.title('Percent of churned users by Subscription level')"
   ]
  },
  {
   "cell_type": "markdown",
   "metadata": {},
   "source": [
    "Churn is almost same for free and paid subscription users wrt churn"
   ]
  },
  {
   "cell_type": "code",
   "execution_count": 29,
   "metadata": {},
   "outputs": [
    {
     "data": {
      "text/plain": [
       "Text(0.5,1,'Number of songs per session by Subscription level')"
      ]
     },
     "execution_count": 29,
     "metadata": {},
     "output_type": "execute_result"
    },
    {
     "data": {
      "image/png": "[encoded data removed]",
      "text/plain": [
       "<matplotlib.figure.Figure at 0x7f80fda2db00>"
      ]
     },
     "metadata": {
      "needs_background": "light"
     },
     "output_type": "display_data"
    }
   ],
   "source": [
    "num_songs = df_pd[df_pd.page=='NextSong'].groupby(['user_churn', 'userId', 'sessionId', 'level']).size()\\\n",
    "                             .groupby(['user_churn', 'userId', 'level']).mean().reset_index()\n",
    "sns.boxplot(num_songs.user_churn, num_songs[0], hue=num_songs.level)\n",
    "plt.title('Number of songs per session by Subscription level')"
   ]
  },
  {
   "cell_type": "markdown",
   "metadata": {},
   "source": [
    "Paid users have much higher usage per session compared to free users."
   ]
  },
  {
   "cell_type": "code",
   "execution_count": 110,
   "metadata": {},
   "outputs": [
    {
     "data": {
      "text/plain": [
       "Kings Of Leon             1841\n",
       "Coldplay                  1813\n",
       "Florence + The Machine    1236\n",
       "Dwight Yoakam             1135\n",
       "BjÃÂ¶rk                  1133\n",
       "The Black Keys            1125\n",
       "Muse                      1090\n",
       "Justin Bieber             1044\n",
       "Jack Johnson              1007\n",
       "Eminem                     953\n",
       "Radiohead                  884\n",
       "Alliance Ethnik            876\n",
       "Train                      854\n",
       "Taylor Swift               840\n",
       "OneRepublic                828\n",
       "Name: artist, dtype: int64"
      ]
     },
     "execution_count": 110,
     "metadata": {},
     "output_type": "execute_result"
    }
   ],
   "source": [
    "df_pd.artist.value_counts().head(15)"
   ]
  },
  {
   "cell_type": "markdown",
   "metadata": {},
   "source": [
    "## Data Preparation"
   ]
  },
  {
   "cell_type": "markdown",
   "metadata": {},
   "source": [
    "We aggregate data at user-level from interactions to identify features for churn prediction. "
   ]
  },
  {
   "cell_type": "code",
   "execution_count": 31,
   "metadata": {},
   "outputs": [
    {
     "name": "stdout",
     "output_type": "stream",
     "text": [
      "+------+-----------+\n",
      "|userId|total_songs|\n",
      "+------+-----------+\n",
      "|100010|        381|\n",
      "|200002|        474|\n",
      "|   125|         11|\n",
      "|    51|       2464|\n",
      "|   124|       4825|\n",
      "|     7|        201|\n",
      "|    54|       3437|\n",
      "|    15|       2278|\n",
      "|   155|       1002|\n",
      "|   132|       2304|\n",
      "+------+-----------+\n",
      "only showing top 10 rows\n",
      "\n"
     ]
    }
   ],
   "source": [
    "total_songs = df.select('userId', 'song').groupBy('userId').count().withColumnRenamed('count', 'total_songs')\n",
    "total_songs.show(10)"
   ]
  },
  {
   "cell_type": "code",
   "execution_count": 32,
   "metadata": {},
   "outputs": [
    {
     "name": "stdout",
     "output_type": "stream",
     "text": [
      "+------+------------------+\n",
      "|userId|      total_length|\n",
      "+------+------------------+\n",
      "|100010| 66940.89735000003|\n",
      "|200002| 94008.87593999993|\n",
      "|   125|2089.1131000000005|\n",
      "|    51| 523275.8428000004|\n",
      "|   124|1012312.0927899999|\n",
      "|     7| 38034.08710000002|\n",
      "|    54| 711344.9195400011|\n",
      "|    15|477307.60581000015|\n",
      "|   155|       198779.2919|\n",
      "|   132| 483118.9038399997|\n",
      "+------+------------------+\n",
      "only showing top 10 rows\n",
      "\n"
     ]
    }
   ],
   "source": [
    "total_length = df.select('userId', 'length').groupBy('userId').sum().withColumnRenamed('sum(length)', 'total_length')\n",
    "total_length.show(10)"
   ]
  },
  {
   "cell_type": "code",
   "execution_count": 33,
   "metadata": {},
   "outputs": [],
   "source": [
    "thumbs_up = df.select('userId', 'page').where(df.page == 'Thumbs Up').groupBy('userId').count().withColumnRenamed('count', 'thumbs_up')\n",
    "thumbs_down = df.select('userId', 'page').where(df.page == 'Thumbs Down').groupBy('userId').count().withColumnRenamed('count', 'thumbs_down')"
   ]
  },
  {
   "cell_type": "code",
   "execution_count": 34,
   "metadata": {},
   "outputs": [
    {
     "name": "stdout",
     "output_type": "stream",
     "text": [
      "+------+------------------+\n",
      "|userId|     user_lifetime|\n",
      "+------+------------------+\n",
      "|100010|  55.6436574074074|\n",
      "|200002| 70.07462962962963|\n",
      "|   125| 71.31688657407408|\n",
      "|    51|19.455844907407407|\n",
      "|   124|131.55591435185184|\n",
      "|     7| 72.77818287037037|\n",
      "|    54|110.75168981481481|\n",
      "|    15|56.513576388888886|\n",
      "|   155|23.556018518518517|\n",
      "|   132|  66.8891087962963|\n",
      "+------+------------------+\n",
      "only showing top 10 rows\n",
      "\n"
     ]
    }
   ],
   "source": [
    "user_lifetime = df.select('userId', 'registration', 'ts').withColumn('tot_lifetime', (df.ts - df.registration))\\\n",
    "    .groupBy('userId').agg({'tot_lifetime' : 'max'})\\\n",
    "    .withColumnRenamed('max(tot_lifetime)', 'tot_lifetime')\\\n",
    "    .select('userId', (col('tot_lifetime')/1000/3600/24).alias('user_lifetime'))\n",
    "user_lifetime.show(10)"
   ]
  },
  {
   "cell_type": "code",
   "execution_count": 35,
   "metadata": {},
   "outputs": [
    {
     "name": "stdout",
     "output_type": "stream",
     "text": [
      "+------+-------------+\n",
      "|userId|friends_added|\n",
      "+------+-------------+\n",
      "|100010|            4|\n",
      "|200002|            4|\n",
      "|    51|           28|\n",
      "|   124|           74|\n",
      "|     7|            1|\n",
      "|    54|           33|\n",
      "|    15|           31|\n",
      "|   155|           11|\n",
      "|   132|           41|\n",
      "|   154|            3|\n",
      "+------+-------------+\n",
      "only showing top 10 rows\n",
      "\n"
     ]
    }
   ],
   "source": [
    "friends_added = df.select('userId', 'page').where(df.page == 'Add Friend').groupBy('userId').count().withColumnRenamed('count', 'friends_added')\n",
    "friends_added.show(10)"
   ]
  },
  {
   "cell_type": "code",
   "execution_count": 36,
   "metadata": {},
   "outputs": [
    {
     "name": "stdout",
     "output_type": "stream",
     "text": [
      "+------+------------------+\n",
      "|userId| songs_per_session|\n",
      "+------+------------------+\n",
      "|100010|39.285714285714285|\n",
      "|200002|              64.5|\n",
      "|   125|               8.0|\n",
      "|    51|             211.1|\n",
      "|   124|145.67857142857142|\n",
      "|     7|21.428571428571427|\n",
      "|    54| 81.17142857142858|\n",
      "|    15|136.71428571428572|\n",
      "|   155|136.66666666666666|\n",
      "|100014|42.833333333333336|\n",
      "+------+------------------+\n",
      "only showing top 10 rows\n",
      "\n"
     ]
    }
   ],
   "source": [
    "songs_per_session = df.where('page == \"NextSong\"').groupby(['userId', 'sessionId']).count().groupby('userId')\\\n",
    "          .agg({'count' : 'avg'}).withColumnRenamed('avg(count)', 'songs_per_session')\n",
    "songs_per_session.show(10)"
   ]
  },
  {
   "cell_type": "code",
   "execution_count": 37,
   "metadata": {},
   "outputs": [
    {
     "name": "stdout",
     "output_type": "stream",
     "text": [
      "+------+-------------+\n",
      "|userId|total_artists|\n",
      "+------+-------------+\n",
      "|100010|          252|\n",
      "|200002|          339|\n",
      "|   125|            8|\n",
      "|    51|         1385|\n",
      "|   124|         2232|\n",
      "|     7|          142|\n",
      "|    15|         1302|\n",
      "|    54|         1744|\n",
      "|   155|          643|\n",
      "|   132|         1299|\n",
      "+------+-------------+\n",
      "only showing top 10 rows\n",
      "\n"
     ]
    }
   ],
   "source": [
    "total_artists = df.filter(df.page == \"NextSong\").select(\"userId\", \"artist\").dropDuplicates().groupby(\"userId\").count()\\\n",
    "         .withColumnRenamed(\"count\", \"total_artists\")\n",
    "total_artists.show(10)"
   ]
  },
  {
   "cell_type": "code",
   "execution_count": 38,
   "metadata": {},
   "outputs": [
    {
     "name": "stdout",
     "output_type": "stream",
     "text": [
      "+------+------+\n",
      "|userId|gender|\n",
      "+------+------+\n",
      "|    44|     1|\n",
      "|    46|     1|\n",
      "|    41|     1|\n",
      "|    72|     1|\n",
      "|300023|     1|\n",
      "|    39|     1|\n",
      "|100010|     1|\n",
      "|    40|     1|\n",
      "|    94|     1|\n",
      "|    35|     1|\n",
      "+------+------+\n",
      "only showing top 10 rows\n",
      "\n"
     ]
    }
   ],
   "source": [
    "gender = df.select('userId', 'gender').dropDuplicates().replace(['F', 'M'], ['1', '0'], 'gender').select('userId', col('gender').cast('int'))\n",
    "gender.show(10)"
   ]
  },
  {
   "cell_type": "code",
   "execution_count": 39,
   "metadata": {},
   "outputs": [
    {
     "name": "stdout",
     "output_type": "stream",
     "text": [
      "+------+--------------+\n",
      "|userID|playlist_added|\n",
      "+------+--------------+\n",
      "|100010|             7|\n",
      "|200002|             8|\n",
      "|    51|            52|\n",
      "|   124|           118|\n",
      "|     7|             5|\n",
      "|    15|            59|\n",
      "|    54|            72|\n",
      "|   155|            24|\n",
      "|   132|            38|\n",
      "|   154|             1|\n",
      "+------+--------------+\n",
      "only showing top 10 rows\n",
      "\n"
     ]
    }
   ],
   "source": [
    "playlist_added = df.select('userID','page').where(df.page == 'Add to Playlist').groupBy('userID').count().withColumnRenamed('count', 'playlist_added')\n",
    "playlist_added.show(10)"
   ]
  },
  {
   "cell_type": "code",
   "execution_count": 40,
   "metadata": {},
   "outputs": [
    {
     "name": "stdout",
     "output_type": "stream",
     "text": [
      "+------+------+\n",
      "|userId|gender|\n",
      "+------+------+\n",
      "|    44|     1|\n",
      "|    46|     1|\n",
      "|    41|     1|\n",
      "|    72|     1|\n",
      "|300023|     1|\n",
      "|    39|     1|\n",
      "|100010|     1|\n",
      "|    40|     1|\n",
      "|    94|     1|\n",
      "|    35|     1|\n",
      "+------+------+\n",
      "only showing top 10 rows\n",
      "\n"
     ]
    }
   ],
   "source": [
    "downgrade = df.select('userId', 'downgrade').dropDuplicates().select('userId', col('downgrade'))\n",
    "gender.show(10)"
   ]
  },
  {
   "cell_type": "code",
   "execution_count": 41,
   "metadata": {
    "scrolled": true
   },
   "outputs": [
    {
     "name": "stdout",
     "output_type": "stream",
     "text": [
      "+------+----------+\n",
      "|userId|user_churn|\n",
      "+------+----------+\n",
      "|100010|         0|\n",
      "|200002|         0|\n",
      "|   125|         1|\n",
      "|   124|         0|\n",
      "|    51|         1|\n",
      "|     7|         0|\n",
      "|    15|         0|\n",
      "|    54|         1|\n",
      "|   155|         0|\n",
      "|100014|         1|\n",
      "|   132|         0|\n",
      "|   154|         0|\n",
      "|   101|         1|\n",
      "|    11|         0|\n",
      "|   138|         0|\n",
      "|300017|         0|\n",
      "|100021|         1|\n",
      "|    29|         1|\n",
      "|    69|         0|\n",
      "|   112|         0|\n",
      "+------+----------+\n",
      "only showing top 20 rows\n",
      "\n"
     ]
    }
   ],
   "source": [
    "user_churn = df.select('userId', col('user_churn')).dropDuplicates()\n",
    "user_churn.show()"
   ]
  },
  {
   "cell_type": "code",
   "execution_count": null,
   "metadata": {},
   "outputs": [],
   "source": []
  },
  {
   "cell_type": "code",
   "execution_count": 42,
   "metadata": {
    "scrolled": false
   },
   "outputs": [
    {
     "name": "stdout",
     "output_type": "stream",
     "text": [
      "+-----------+------------------+---------+-----------+------------------+------------------+-------------+--------------+------+-------------+---------+----------+\n",
      "|total_songs|      total_length|thumbs_up|thumbs_down|     user_lifetime| songs_per_session|friends_added|playlist_added|gender|total_artists|downgrade|user_churn|\n",
      "+-----------+------------------+---------+-----------+------------------+------------------+-------------+--------------+------+-------------+---------+----------+\n",
      "|        381| 66940.89735000003|       17|          5|  55.6436574074074|39.285714285714285|            4|             7|     1|          252|        0|         0|\n",
      "|        474| 94008.87593999993|       21|          6| 70.07462962962963|              64.5|            4|             8|     0|          339|        0|         0|\n",
      "|       4825|1012312.0927899999|      171|         41|131.55591435185184|145.67857142857142|           74|           118|     1|         2232|        0|         0|\n",
      "|       2464| 523275.8428000004|      100|         21|19.455844907407407|             211.1|           28|            52|     0|         1385|        0|         1|\n",
      "|        201| 38034.08710000002|        7|          1| 72.77818287037037|21.428571428571427|            1|             5|     0|          142|        0|         0|\n",
      "|       2278|477307.60581000015|       81|         14|56.513576388888886|136.71428571428572|           31|            59|     0|         1302|        0|         0|\n",
      "|       3437| 711344.9195400011|      163|         29|110.75168981481481| 81.17142857142858|           33|            72|     1|         1744|        1|         1|\n",
      "|       1002|       198779.2919|       58|          3|23.556018518518517|136.66666666666666|           11|            24|     1|          643|        0|         0|\n",
      "|        310| 67703.47208000004|       17|          3| 85.08340277777778|42.833333333333336|            6|             7|     0|          233|        0|         1|\n",
      "|       2304| 483118.9038399997|       96|         17|  66.8891087962963|             120.5|           41|            38|     1|         1299|        0|         0|\n",
      "+-----------+------------------+---------+-----------+------------------+------------------+-------------+--------------+------+-------------+---------+----------+\n",
      "only showing top 10 rows\n",
      "\n"
     ]
    }
   ],
   "source": [
    "final_df = total_songs.join(total_length, 'userId', 'inner').join(thumbs_up, 'userId', 'inner')\\\n",
    "                .join(thumbs_down, 'userId', 'inner').join(user_lifetime, 'userId', 'inner').join(songs_per_session, 'userId', 'inner')\\\n",
    "                .join(friends_added, 'userId', 'inner').join(playlist_added, 'userId', 'inner').join(gender, 'userId', 'inner')\\\n",
    "                .join(total_artists, 'userId', 'inner').join(downgrade, 'userId', 'inner')\\\n",
    "                .join(user_churn, 'userId', 'inner').drop('userId')\n",
    "\n",
    "final_df.show(10)"
   ]
  },
  {
   "cell_type": "markdown",
   "metadata": {},
   "source": [
    "## Modeling"
   ]
  },
  {
   "cell_type": "markdown",
   "metadata": {},
   "source": [
    "We convert features to numeric features and then scale them.\n",
    "Dataset is split into train-validation-test set in 70:15:15 ratio.\n",
    "Since the dataset is imbalanced, we use F1 as metric for evaluating the models, rather than accuracy.\n",
    "\n",
    "After which fit different models on training dataset and check the performance on the validation set. Once we identify the best model, we perform hyperparameter tuning, after which we identify the best model.\n",
    "The final model is used to make predictions for the test set."
   ]
  },
  {
   "cell_type": "code",
   "execution_count": 43,
   "metadata": {},
   "outputs": [
    {
     "name": "stdout",
     "output_type": "stream",
     "text": [
      "+-----------+------------------+---------+-----------+------------------+------------------+-------------+--------------+------+-------------+---------+----------+--------------------+\n",
      "|total_songs|      total_length|thumbs_up|thumbs_down|     user_lifetime| songs_per_session|friends_added|playlist_added|gender|total_artists|downgrade|user_churn|        VectFeatures|\n",
      "+-----------+------------------+---------+-----------+------------------+------------------+-------------+--------------+------+-------------+---------+----------+--------------------+\n",
      "|        381| 66940.89735000003|       17|          5|  55.6436574074074|39.285714285714285|            4|             7|     1|          252|        0|         0|[381.0,66940.8973...|\n",
      "|        474| 94008.87593999993|       21|          6| 70.07462962962963|              64.5|            4|             8|     0|          339|        0|         0|[474.0,94008.8759...|\n",
      "|       4825|1012312.0927899999|      171|         41|131.55591435185184|145.67857142857142|           74|           118|     1|         2232|        0|         0|[4825.0,1012312.0...|\n",
      "|       2464| 523275.8428000004|      100|         21|19.455844907407407|             211.1|           28|            52|     0|         1385|        0|         1|[2464.0,523275.84...|\n",
      "|        201| 38034.08710000002|        7|          1| 72.77818287037037|21.428571428571427|            1|             5|     0|          142|        0|         0|[201.0,38034.0871...|\n",
      "+-----------+------------------+---------+-----------+------------------+------------------+-------------+--------------+------+-------------+---------+----------+--------------------+\n",
      "only showing top 5 rows\n",
      "\n"
     ]
    }
   ],
   "source": [
    "assmblr = VectorAssembler(inputCols = ['total_songs', 'total_length', 'thumbs_up', 'thumbs_down', 'user_lifetime', \n",
    "                                       'songs_per_session', 'friends_added', 'playlist_added', 'gender', 'total_artists', \n",
    "                                       'downgrade'],\n",
    "                          outputCol = \"VectFeatures\")\n",
    "final_df = assmblr.transform(final_df)\n",
    "final_df.show(5)"
   ]
  },
  {
   "cell_type": "code",
   "execution_count": 44,
   "metadata": {},
   "outputs": [],
   "source": [
    "scaler = StandardScaler(inputCol = 'VectFeatures', outputCol = \"scaled_features\", withStd = True)\n",
    "scaler_model = scaler.fit(final_df)\n",
    "final_df = scaler_model.transform(final_df)"
   ]
  },
  {
   "cell_type": "code",
   "execution_count": 45,
   "metadata": {},
   "outputs": [
    {
     "name": "stdout",
     "output_type": "stream",
     "text": [
      "+-----------+------------------+---------+-----------+------------------+------------------+-------------+--------------+------+-------------+---------+----------+--------------------+--------------------+\n",
      "|total_songs|      total_length|thumbs_up|thumbs_down|     user_lifetime| songs_per_session|friends_added|playlist_added|gender|total_artists|downgrade|user_churn|        VectFeatures|     scaled_features|\n",
      "+-----------+------------------+---------+-----------+------------------+------------------+-------------+--------------+------+-------------+---------+----------+--------------------+--------------------+\n",
      "|        381| 66940.89735000003|       17|          5|  55.6436574074074|39.285714285714285|            4|             7|     1|          252|        0|         0|[381.0,66940.8973...|[0.28303433540817...|\n",
      "|        474| 94008.87593999993|       21|          6| 70.07462962962963|              64.5|            4|             8|     0|          339|        0|         0|[474.0,94008.8759...|[0.35212145664954...|\n",
      "|       4825|1012312.0927899999|      171|         41|131.55591435185184|145.67857142857142|           74|           118|     1|         2232|        0|         0|[4825.0,1012312.0...|[3.58435870956552...|\n",
      "|       2464| 523275.8428000004|      100|         21|19.455844907407407|             211.1|           28|            52|     0|         1385|        0|         1|[2464.0,523275.84...|[1.83043727676051...|\n",
      "|        201| 38034.08710000002|        7|          1| 72.77818287037037|21.428571428571427|            1|             5|     0|          142|        0|         0|[201.0,38034.0871...|[0.14931732655392...|\n",
      "+-----------+------------------+---------+-----------+------------------+------------------+-------------+--------------+------+-------------+---------+----------+--------------------+--------------------+\n",
      "only showing top 5 rows\n",
      "\n"
     ]
    }
   ],
   "source": [
    "final_df.show(5)"
   ]
  },
  {
   "cell_type": "code",
   "execution_count": 46,
   "metadata": {},
   "outputs": [],
   "source": [
    "data = final_df.select(final_df.user_churn.alias(\"label\"), final_df.scaled_features.alias(\"features\"))"
   ]
  },
  {
   "cell_type": "code",
   "execution_count": 47,
   "metadata": {},
   "outputs": [
    {
     "name": "stdout",
     "output_type": "stream",
     "text": [
      "+-----+--------------------+\n",
      "|label|            features|\n",
      "+-----+--------------------+\n",
      "|    0|[0.28303433540817...|\n",
      "|    0|[0.35212145664954...|\n",
      "|    0|[3.58435870956552...|\n",
      "|    1|[1.83043727676051...|\n",
      "|    0|[0.14931732655392...|\n",
      "+-----+--------------------+\n",
      "only showing top 5 rows\n",
      "\n"
     ]
    }
   ],
   "source": [
    "data.show(5)"
   ]
  },
  {
   "cell_type": "markdown",
   "metadata": {},
   "source": [
    "Train-test-validation split"
   ]
  },
  {
   "cell_type": "code",
   "execution_count": 48,
   "metadata": {},
   "outputs": [],
   "source": [
    "train, rest = data.randomSplit([0.7, 0.3])\n",
    "val, test = rest.randomSplit([0.5, 0.5])"
   ]
  },
  {
   "cell_type": "code",
   "execution_count": 49,
   "metadata": {},
   "outputs": [
    {
     "data": {
      "text/plain": [
       "[Row(sum(label)=30)]"
      ]
     },
     "execution_count": 49,
     "metadata": {},
     "output_type": "execute_result"
    }
   ],
   "source": [
    "train.select('label').agg({'label': 'sum'}).collect()"
   ]
  },
  {
   "cell_type": "code",
   "execution_count": 50,
   "metadata": {},
   "outputs": [
    {
     "data": {
      "text/plain": [
       "141"
      ]
     },
     "execution_count": 50,
     "metadata": {},
     "output_type": "execute_result"
    }
   ],
   "source": [
    "train.count()"
   ]
  },
  {
   "cell_type": "markdown",
   "metadata": {},
   "source": [
    "**Baseline Model**\n",
    "Predicts 0 for all records"
   ]
  },
  {
   "cell_type": "code",
   "execution_count": 51,
   "metadata": {},
   "outputs": [],
   "source": [
    "dummy_classifier = val.withColumn('prediction', lit(0.0))"
   ]
  },
  {
   "cell_type": "code",
   "execution_count": 52,
   "metadata": {
    "scrolled": true
   },
   "outputs": [
    {
     "name": "stdout",
     "output_type": "stream",
     "text": [
      "Dummy Classifier metrics:\n",
      "Accuracy: 0.7333333333333333\n",
      "F-1 Score:0.6205128205128204\n",
      "Recall Score:0.7333333333333333\n"
     ]
    }
   ],
   "source": [
    "print('Dummy Classifier metrics:')\n",
    "evaluator = MulticlassClassificationEvaluator(predictionCol='prediction')\n",
    "print('Accuracy: {}'.format(evaluator.evaluate(dummy_classifier, {evaluator.metricName: \"accuracy\"})))\n",
    "print('F-1 Score:{}'.format(evaluator.evaluate(dummy_classifier, {evaluator.metricName: \"f1\"})))\n",
    "print('Recall Score:{}'.format(evaluator.evaluate(dummy_classifier, {evaluator.metricName: \"weightedRecall\"})))"
   ]
  },
  {
   "cell_type": "code",
   "execution_count": 53,
   "metadata": {},
   "outputs": [],
   "source": [
    "lr = LogisticRegression(maxIter=20)\n",
    "rf = RandomForestClassifier()\n",
    "svc = LinearSVC(maxIter=20)\n",
    "gb = GBTClassifier(maxIter=20)"
   ]
  },
  {
   "cell_type": "code",
   "execution_count": 54,
   "metadata": {},
   "outputs": [
    {
     "name": "stdout",
     "output_type": "stream",
     "text": [
      "Logistic Regression metrics:\n",
      "Accuracy: 0.7333333333333333\n",
      "F-1 Score:0.6205128205128204\n"
     ]
    }
   ],
   "source": [
    "model_lr = lr.fit(train)\n",
    "results_lr = model_lr.transform(val)\n",
    "\n",
    "print('Logistic Regression metrics:')\n",
    "evaluator = MulticlassClassificationEvaluator(predictionCol='prediction')\n",
    "print('Accuracy: {}'.format(evaluator.evaluate(results_lr, {evaluator.metricName: \"accuracy\"})))\n",
    "print('F-1 Score:{}'.format(evaluator.evaluate(results_lr, {evaluator.metricName: \"f1\"})))"
   ]
  },
  {
   "cell_type": "code",
   "execution_count": 55,
   "metadata": {},
   "outputs": [
    {
     "name": "stdout",
     "output_type": "stream",
     "text": [
      "Random Forest metrics:\n",
      "Accuracy: 0.9\n",
      "F-1 Score:0.8916530278232406\n"
     ]
    }
   ],
   "source": [
    "model_rf = rf.fit(train)\n",
    "results_rf = model_rf.transform(val)\n",
    "\n",
    "print('Random Forest metrics:')\n",
    "evaluator = MulticlassClassificationEvaluator(predictionCol='prediction')\n",
    "print('Accuracy: {}'.format(evaluator.evaluate(results_rf, {evaluator.metricName: \"accuracy\"})))\n",
    "print('F-1 Score:{}'.format(evaluator.evaluate(results_rf, {evaluator.metricName: \"f1\"})))"
   ]
  },
  {
   "cell_type": "code",
   "execution_count": 56,
   "metadata": {},
   "outputs": [
    {
     "name": "stdout",
     "output_type": "stream",
     "text": [
      "Linear SVC metrics:\n",
      "Accuracy: 0.7333333333333333\n",
      "F-1 Score:0.6205128205128204\n"
     ]
    }
   ],
   "source": [
    "model_svc = svc.fit(train)\n",
    "results_svc = model_svc.transform(val)\n",
    "\n",
    "print('Linear SVC metrics:')\n",
    "evaluator = MulticlassClassificationEvaluator(predictionCol='prediction')\n",
    "print('Accuracy: {}'.format(evaluator.evaluate(results_svc, {evaluator.metricName: \"accuracy\"})))\n",
    "print('F-1 Score:{}'.format(evaluator.evaluate(results_svc, {evaluator.metricName: \"f1\"})))"
   ]
  },
  {
   "cell_type": "code",
   "execution_count": 57,
   "metadata": {},
   "outputs": [
    {
     "name": "stdout",
     "output_type": "stream",
     "text": [
      "GB Tree metrics:\n",
      "Accuracy: 0.8666666666666667\n",
      "F-1 Score:0.8499999999999999\n"
     ]
    }
   ],
   "source": [
    "gb = GBTClassifier(maxIter=15)\n",
    "model_gb = gb.fit(train)\n",
    "results_gb = model_gb.transform(val)\n",
    "\n",
    "print('GB Tree metrics:')\n",
    "evaluator = MulticlassClassificationEvaluator(predictionCol='prediction')\n",
    "print('Accuracy: {}'.format(evaluator.evaluate(results_gb, {evaluator.metricName: \"accuracy\"})))\n",
    "print('F-1 Score:{}'.format(evaluator.evaluate(results_gb, {evaluator.metricName: \"f1\"})))"
   ]
  },
  {
   "cell_type": "markdown",
   "metadata": {},
   "source": [
    "### Hyper-parameter Tuning\n",
    "Using F1 score, best model is Random Forest model. We tune the model. "
   ]
  },
  {
   "cell_type": "code",
   "execution_count": 58,
   "metadata": {},
   "outputs": [],
   "source": [
    "# Model Tuning\n",
    "rf_tune = RandomForestClassifier()\n",
    "f1_evaluation = MulticlassClassificationEvaluator(metricName = 'f1')\n",
    "param_grid_rf_tune = ParamGridBuilder().addGrid(rf_tune.numTrees, [15, 20, 25, 30, 35, 40])\\\n",
    "                 .addGrid(rf_tune.maxDepth, [5, 10, 15]).build()\n",
    "\n",
    "cross_rf_tune = CrossValidator(estimator = rf_tune, estimatorParamMaps = param_grid_rf_tune, evaluator = f1_evaluation, numFolds = 3)"
   ]
  },
  {
   "cell_type": "code",
   "execution_count": 61,
   "metadata": {},
   "outputs": [
    {
     "name": "stdout",
     "output_type": "stream",
     "text": [
      "Random Tree Tuned metrics:\n",
      "Accuracy: 0.8333333333333334\n",
      "F-1 Score:0.8039579468150897\n"
     ]
    }
   ],
   "source": [
    "model_rf_tune = cross_rf_tune.fit(train)\n",
    "results_rf_tune = model_rf_tune.transform(val)\n",
    "\n",
    "print('Random Tree Tuned metrics:')\n",
    "evaluator = MulticlassClassificationEvaluator(predictionCol='prediction')\n",
    "print('Accuracy: {}'.format(evaluator.evaluate(results_rf_tune, {evaluator.metricName: \"accuracy\"})))\n",
    "print('F-1 Score:{}'.format(evaluator.evaluate(results_rf_tune, {evaluator.metricName: \"f1\"})))"
   ]
  },
  {
   "cell_type": "markdown",
   "metadata": {},
   "source": [
    "**Making Predictions for Test set using Best Model**"
   ]
  },
  {
   "cell_type": "code",
   "execution_count": 64,
   "metadata": {},
   "outputs": [
    {
     "name": "stdout",
     "output_type": "stream",
     "text": [
      "Test Set metrics:\n",
      "Accuracy: 0.8095238095238095\n",
      "F-1 Score:0.7913165266106442\n"
     ]
    }
   ],
   "source": [
    "results_test_rf = model_rf.transform(test)\n",
    "\n",
    "print('Test Set metrics:')\n",
    "evaluator = MulticlassClassificationEvaluator(predictionCol='prediction')\n",
    "print('Accuracy: {}'.format(evaluator.evaluate(results_test_rf, {evaluator.metricName: \"accuracy\"})))\n",
    "print('F-1 Score:{}'.format(evaluator.evaluate(results_test_rf, {evaluator.metricName: \"f1\"})))"
   ]
  },
  {
   "cell_type": "markdown",
   "metadata": {},
   "source": [
    "**Feature Importance**"
   ]
  },
  {
   "cell_type": "code",
   "execution_count": 90,
   "metadata": {},
   "outputs": [
    {
     "data": {
      "text/plain": [
       "array([ 0.0895756 ,  0.07746056,  0.0528304 ,  0.09018961,  0.30425788,\n",
       "        0.10439983,  0.0948268 ,  0.12410009,  0.01088739,  0.03733627,\n",
       "        0.01413557])"
      ]
     },
     "execution_count": 90,
     "metadata": {},
     "output_type": "execute_result"
    }
   ],
   "source": [
    "model_rf.featureImportances.values"
   ]
  },
  {
   "cell_type": "code",
   "execution_count": 102,
   "metadata": {},
   "outputs": [],
   "source": [
    "df_feat_imp = pd.DataFrame([model_rf.featureImportances.values], columns=['total_songs','total_length','thumbs_up','thumbs_down',\n",
    "                                                            'user_lifetime','songs_per_session','friends_added','playlist_added',\n",
    "                                                            'gender','total_artists','downgrade'], index=['Feature_Importance']).T.sort_values('Feature_Importance')"
   ]
  },
  {
   "cell_type": "code",
   "execution_count": 96,
   "metadata": {},
   "outputs": [],
   "source": [
    "import numpy as np"
   ]
  },
  {
   "cell_type": "code",
   "execution_count": 109,
   "metadata": {},
   "outputs": [
    {
     "data": {
      "text/plain": [
       "Text(0.5,1,'Feature Importance of RandomForest model')"
      ]
     },
     "execution_count": 109,
     "metadata": {},
     "output_type": "execute_result"
    },
    {
     "data": {
      "image/png": "[encoded data removed]",
      "text/plain": [
       "<matplotlib.figure.Figure at 0x7f80fa864da0>"
      ]
     },
     "metadata": {
      "needs_background": "light"
     },
     "output_type": "display_data"
    }
   ],
   "source": [
    "plt.figure(figsize=(10,5))\n",
    "sns.barplot(df_feat_imp.index, df_feat_imp.Feature_Importance)\n",
    "plt.xticks(rotation='vertical')\n",
    "plt.title(\"Feature Importance of RandomForest model\")"
   ]
  },
  {
   "cell_type": "markdown",
   "metadata": {},
   "source": [
    "***Also trained the model for medium dataset on IBM Watson cluster***"
   ]
  },
  {
   "cell_type": "markdown",
   "metadata": {},
   "source": [
    "## Next Steps\n",
    "- We can train the model using full 12 GB dataset\n",
    "- We can perform oversampling to balance the dataset\n",
    "- We can explore additional features like device used by user."
   ]
  },
  {
   "cell_type": "markdown",
   "metadata": {},
   "source": [
    "**Blog detailing the analysis of this can be found [here](https://medium.com/@sakchhi.sri/churn-prediction-using-spark-1d8f6bd4092d).**"
   ]
  },
  {
   "cell_type": "code",
   "execution_count": null,
   "metadata": {},
   "outputs": [],
   "source": []
  }
 ],
 "metadata": {
  "kernelspec": {
   "display_name": "Python 3",
   "language": "python",
   "name": "python3"
  },
  "language_info": {
   "codemirror_mode": {
    "name": "ipython",
    "version": 3
   },
   "file_extension": ".py",
   "mimetype": "text/x-python",
   "name": "python",
   "nbconvert_exporter": "python",
   "pygments_lexer": "ipython3",
   "version": "3.6.3"
  }
 },
 "nbformat": 4,
 "nbformat_minor": 2
}
